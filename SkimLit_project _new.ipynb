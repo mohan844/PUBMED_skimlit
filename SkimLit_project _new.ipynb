{
  "cells": [
    {
      "cell_type": "markdown",
      "metadata": {
        "id": "emZqT_2Q0bbG"
      },
      "source": [
        "# MED-SKIM\n",
        "\n",
        "A deep learning NLP model that can skim any medical RCT abstract and return a well structured abstract.\n",
        "\n",
        "ie:, The model seperated each sentence of the abstract and divides them into classes such as OBJECTIVE, BACKGROUND, CONCLUSION etc, based on their actual purpose."
      ]
    },
    {
      "cell_type": "markdown",
      "source": [
        "## Get the data\n",
        "\n",
        "The dataset used for this project is the **PubMed 200K RCT**. PubMed 200k RCT is new dataset based on PubMed for sequential sentence classification. The dataset consists of approximately **200,000** abstracts of randomized controlled trials, totaling **2.3 million sentences**. Each sentence of each abstract is labeled with their role in the abstract using one of the following classes: background, objective, method, result, or conclusion.\n",
        "\n",
        "To know more about pubmed visit: https://pubmed.ncbi.nlm.nih.gov/.\n",
        "\n",
        "The dataset is available at : https://github.com/Franck-Dernoncourt/pubmed-rct"
      ],
      "metadata": {
        "id": "It-NmKE9Xpbn"
      }
    },
    {
      "cell_type": "code",
      "execution_count": 3,
      "metadata": {
        "id": "CqLHYmeHaX8S"
      },
      "outputs": [],
      "source": [
        "import os"
      ]
    },
    {
      "cell_type": "code",
      "execution_count": 4,
      "metadata": {
        "colab": {
          "base_uri": "https://localhost:8080/"
        },
        "id": "qGcS6qiS_V-z",
        "outputId": "39ebe200-0c95-4b05-fe2d-bb7b8e1f25f0"
      },
      "outputs": [
        {
          "output_type": "stream",
          "name": "stdout",
          "text": [
            "Tue Apr 16 14:53:26 2024       \n",
            "+---------------------------------------------------------------------------------------+\n",
            "| NVIDIA-SMI 535.104.05             Driver Version: 535.104.05   CUDA Version: 12.2     |\n",
            "|-----------------------------------------+----------------------+----------------------+\n",
            "| GPU  Name                 Persistence-M | Bus-Id        Disp.A | Volatile Uncorr. ECC |\n",
            "| Fan  Temp   Perf          Pwr:Usage/Cap |         Memory-Usage | GPU-Util  Compute M. |\n",
            "|                                         |                      |               MIG M. |\n",
            "|=========================================+======================+======================|\n",
            "|   0  Tesla T4                       Off | 00000000:00:04.0 Off |                    0 |\n",
            "| N/A   40C    P8               9W /  70W |      0MiB / 15360MiB |      0%      Default |\n",
            "|                                         |                      |                  N/A |\n",
            "+-----------------------------------------+----------------------+----------------------+\n",
            "                                                                                         \n",
            "+---------------------------------------------------------------------------------------+\n",
            "| Processes:                                                                            |\n",
            "|  GPU   GI   CI        PID   Type   Process name                            GPU Memory |\n",
            "|        ID   ID                                                             Usage      |\n",
            "|=======================================================================================|\n",
            "|  No running processes found                                                           |\n",
            "+---------------------------------------------------------------------------------------+\n"
          ]
        }
      ],
      "source": [
        "!nvidia-smi"
      ]
    },
    {
      "cell_type": "code",
      "execution_count": 5,
      "metadata": {
        "colab": {
          "base_uri": "https://localhost:8080/"
        },
        "id": "HesLieC8_bWd",
        "outputId": "f1e2f53e-bbb8-4f22-9143-84530c81e4a9"
      },
      "outputs": [
        {
          "output_type": "stream",
          "name": "stdout",
          "text": [
            "Cloning into 'pubmed-rct'...\n",
            "remote: Enumerating objects: 39, done.\u001b[K\n",
            "remote: Counting objects: 100% (14/14), done.\u001b[K\n",
            "remote: Compressing objects: 100% (9/9), done.\u001b[K\n",
            "remote: Total 39 (delta 8), reused 5 (delta 5), pack-reused 25\u001b[K\n",
            "Receiving objects: 100% (39/39), 177.08 MiB | 19.54 MiB/s, done.\n",
            "Resolving deltas: 100% (15/15), done.\n"
          ]
        }
      ],
      "source": [
        "# Download the dataset from the github:\n",
        "!git clone https://github.com/Franck-Dernoncourt/pubmed-rct.git"
      ]
    },
    {
      "cell_type": "code",
      "execution_count": 6,
      "metadata": {
        "colab": {
          "base_uri": "https://localhost:8080/"
        },
        "id": "96OJjB5kEwQ8",
        "outputId": "954adb79-8e80-4960-df39-c1ac7198a5c3"
      },
      "outputs": [
        {
          "output_type": "stream",
          "name": "stdout",
          "text": [
            "PubMed_200k_RCT\t\t\t\t       PubMed_20k_RCT_numbers_replaced_with_at_sign\n",
            "PubMed_200k_RCT_numbers_replaced_with_at_sign  README.md\n",
            "PubMed_20k_RCT\n"
          ]
        }
      ],
      "source": [
        "# Check the downloaded directory:\n",
        "!ls pubmed-rct"
      ]
    },
    {
      "cell_type": "code",
      "execution_count": 7,
      "metadata": {
        "colab": {
          "base_uri": "https://localhost:8080/"
        },
        "id": "CN5WItncEzMo",
        "outputId": "9a4b8c44-d159-4244-af03-c7e3883ec84f"
      },
      "outputs": [
        {
          "output_type": "stream",
          "name": "stdout",
          "text": [
            "dev.txt  test.txt  train.txt\n"
          ]
        }
      ],
      "source": [
        "# Check the files in 20K_RCT folder:\n",
        "!ls pubmed-rct/PubMed_20k_RCT_numbers_replaced_with_at_sign"
      ]
    },
    {
      "cell_type": "markdown",
      "source": [
        "The folder consists of 4 types of dataset.\n",
        "\n",
        "* PubMed_200k_RCT - This contains 200,000 abstracts of randomized controlled trials\n",
        "* Pubmed_200k_RCT_numbers_replaced_with_at_sign - The same dataset but all numbers are replaced with @ sign.\n",
        "* Pubmed_20k_RCT - This contains a smaller version of the main dataset. 20000 samples only\n",
        "* Pubmed_20k_RCT_numbers_replaced_with_at_sign - The above dataset with numbers replaced with @ sign\n",
        "\n",
        "\n",
        "For our current project we will be using the **PubMed_20k_RCT_numbers_replaced_with_at_sign** dataset to save time and resourses.\n",
        "\n",
        "Future scope of this project would be to use the entire dataset."
      ],
      "metadata": {
        "id": "7uOef3LiXxJl"
      }
    },
    {
      "cell_type": "code",
      "execution_count": 8,
      "metadata": {
        "id": "TYMlZUqoWCSH"
      },
      "outputs": [],
      "source": [
        "# Starts with using 20K rct folder:\n",
        "data_dir = '/content/pubmed-rct/PubMed_20k_RCT_numbers_replaced_with_at_sign/'"
      ]
    },
    {
      "cell_type": "code",
      "execution_count": 9,
      "metadata": {
        "colab": {
          "base_uri": "https://localhost:8080/"
        },
        "id": "wjnJVdDjaGwz",
        "outputId": "c0aec5e6-660a-42db-d5c8-b5779af92c3d"
      },
      "outputs": [
        {
          "output_type": "execute_result",
          "data": {
            "text/plain": [
              "['/content/pubmed-rct/PubMed_20k_RCT_numbers_replaced_with_at_sign/dev.txt',\n",
              " '/content/pubmed-rct/PubMed_20k_RCT_numbers_replaced_with_at_sign/test.txt',\n",
              " '/content/pubmed-rct/PubMed_20k_RCT_numbers_replaced_with_at_sign/train.txt']"
            ]
          },
          "metadata": {},
          "execution_count": 9
        }
      ],
      "source": [
        "# Create a list of all the text file within the directory:\n",
        "file_names = [data_dir + name for name in os.listdir(data_dir)]\n",
        "file_names"
      ]
    },
    {
      "cell_type": "code",
      "execution_count": 10,
      "metadata": {
        "id": "a3Crj7TLXj4q"
      },
      "outputs": [],
      "source": [
        "# Create a function for open and read the text file:\n",
        "def open_and_read(link):\n",
        "  with open(link,'r') as f:\n",
        "    return f.readlines()"
      ]
    },
    {
      "cell_type": "code",
      "execution_count": 11,
      "metadata": {
        "colab": {
          "base_uri": "https://localhost:8080/"
        },
        "id": "qkpaSKjJbCQA",
        "outputId": "50c3c624-74fa-4a61-a822-a37aa077f0aa"
      },
      "outputs": [
        {
          "output_type": "execute_result",
          "data": {
            "text/plain": [
              "['###24293578\\n',\n",
              " 'OBJECTIVE\\tTo investigate the efficacy of @ weeks of daily low-dose oral prednisolone in improving pain , mobility , and systemic low-grade inflammation in the short term and whether the effect would be sustained at @ weeks in older adults with moderate to severe knee osteoarthritis ( OA ) .\\n',\n",
              " 'METHODS\\tA total of @ patients with primary knee OA were randomized @:@ ; @ received @ mg/day of prednisolone and @ received placebo for @ weeks .\\n',\n",
              " 'METHODS\\tOutcome measures included pain reduction and improvement in function scores and systemic inflammation markers .\\n',\n",
              " 'METHODS\\tPain was assessed using the visual analog pain scale ( @-@ mm ) .\\n',\n",
              " 'METHODS\\tSecondary outcome measures included the Western Ontario and McMaster Universities Osteoarthritis Index scores , patient global assessment ( PGA ) of the severity of knee OA , and @-min walk distance ( @MWD ) .\\n',\n",
              " 'METHODS\\tSerum levels of interleukin @ ( IL-@ ) , IL-@ , tumor necrosis factor ( TNF ) - , and high-sensitivity C-reactive protein ( hsCRP ) were measured .\\n',\n",
              " 'RESULTS\\tThere was a clinically relevant reduction in the intervention group compared to the placebo group for knee pain , physical function , PGA , and @MWD at @ weeks .\\n',\n",
              " 'RESULTS\\tThe mean difference between treatment arms ( @ % CI ) was @ ( @-@ @ ) , p < @ ; @ ( @-@ @ ) , p < @ ; @ ( @-@ @ ) , p < @ ; and @ ( @-@ @ ) , p < @ , respectively .\\n',\n",
              " 'RESULTS\\tFurther , there was a clinically relevant reduction in the serum levels of IL-@ , IL-@ , TNF - , and hsCRP at @ weeks in the intervention group when compared to the placebo group .\\n',\n",
              " 'RESULTS\\tThese differences remained significant at @ weeks .\\n',\n",
              " 'RESULTS\\tThe Outcome Measures in Rheumatology Clinical Trials-Osteoarthritis Research Society International responder rate was @ % in the intervention group and @ % in the placebo group ( p < @ ) .\\n',\n",
              " 'CONCLUSIONS\\tLow-dose oral prednisolone had both a short-term and a longer sustained effect resulting in less knee pain , better physical function , and attenuation of systemic inflammation in older patients with knee OA ( ClinicalTrials.gov identifier NCT@ ) .\\n',\n",
              " '\\n',\n",
              " '###24854809\\n',\n",
              " 'BACKGROUND\\tEmotional eating is associated with overeating and the development of obesity .\\n',\n",
              " 'BACKGROUND\\tYet , empirical evidence for individual ( trait ) differences in emotional eating and cognitive mechanisms that contribute to eating during sad mood remain equivocal .\\n',\n",
              " 'OBJECTIVE\\tThe aim of this study was to test if attention bias for food moderates the effect of self-reported emotional eating during sad mood ( vs neutral mood ) on actual food intake .\\n',\n",
              " 'OBJECTIVE\\tIt was expected that emotional eating is predictive of elevated attention for food and higher food intake after an experimentally induced sad mood and that attentional maintenance on food predicts food intake during a sad versus a neutral mood .\\n',\n",
              " 'METHODS\\tParticipants ( N = @ ) were randomly assigned to one of the two experimental mood induction conditions ( sad/neutral ) .\\n',\n",
              " 'METHODS\\tAttentional biases for high caloric foods were measured by eye tracking during a visual probe task with pictorial food and neutral stimuli .\\n',\n",
              " 'METHODS\\tSelf-reported emotional eating was assessed with the Dutch Eating Behavior Questionnaire ( DEBQ ) and ad libitum food intake was tested by a disguised food offer .\\n',\n",
              " 'RESULTS\\tHierarchical multivariate regression modeling showed that self-reported emotional eating did not account for changes in attention allocation for food or food intake in either condition .\\n',\n",
              " 'RESULTS\\tYet , attention maintenance on food cues was significantly related to increased intake specifically in the neutral condition , but not in the sad mood condition .\\n',\n",
              " 'CONCLUSIONS\\tThe current findings show that self-reported emotional eating ( based on the DEBQ ) might not validly predict who overeats when sad , at least not in a laboratory setting with healthy women .\\n',\n",
              " 'CONCLUSIONS\\tResults further suggest that attention maintenance on food relates to eating motivation when in a neutral affective state , and might therefore be a cognitive mechanism contributing to increased food intake in general , but maybe not during sad mood .\\n',\n",
              " '\\n',\n",
              " '###25165090\\n',\n",
              " 'BACKGROUND\\tAlthough working smoke alarms halve deaths in residential fires , many households do not keep alarms operational .\\n',\n",
              " 'BACKGROUND\\tWe tested whether theory-based education increases alarm operability .\\n']"
            ]
          },
          "metadata": {},
          "execution_count": 11
        }
      ],
      "source": [
        "# Check some examples, hows our data looks like:\n",
        "train_lines = open_and_read(file_names[2])\n",
        "train_lines[:30]"
      ]
    },
    {
      "cell_type": "markdown",
      "source": [
        "This is how a single abstract from the dataset looks like :\n",
        "\n",
        "'###24290286\n",
        "\n",
        "**BACKGROUND**\tIgE sensitization .....\n",
        "\n",
        "**BACKGROUND**\tIt is not clear whether these patients would benefit from antifungal treatment .\n",
        "\n",
        "**OBJECTIVE**\tWe sought to determine whether a @-month course of voriconazole improved asthma-related ....\n",
        "\n",
        "**METHODS**\tAsthmatic patients who were IgE sensitized to A fumigatus with a history of at least @ severe exacerbations in the previous @ months were treated for @ months .....\n",
        "\n",
        "**METHODS**\tPrimary outcomes were improvement in quality of life at the end of the treatment period and a reduction in the number of severe exacerbations over the @ months .....\n",
        "\n",
        "**RESULTS**\tSixty-five patients were randomized .\n",
        "\n",
        "**RESULTS**\tFifty-nine patients started treatment ....\n",
        "\n",
        "**RESULTS**\tFifty-six patients took the full @ months of medication .\n",
        "\n",
        "RESULTS\tBetween the voriconazole and placebo groups , there were no significant differences in the number of ....\n",
        "\n",
        "CONCLUSIONS\tWe were unable to ....\n",
        "\n",
        "\n",
        "---\n",
        "\n",
        "**We have to make the dataset more structured and more python-friendly**"
      ],
      "metadata": {
        "id": "4tv5IAwdYQkz"
      }
    },
    {
      "cell_type": "code",
      "execution_count": 12,
      "metadata": {
        "id": "bG-hoJFzbLtR"
      },
      "outputs": [],
      "source": [
        "# Create a function which creates a list of dictionary for each sentence:\n",
        "\n",
        "def process_text_with_line_no(file):\n",
        "  input_lines = open_and_read(file)\n",
        "  abstract_line = \"\"\n",
        "  abstract_samples = []\n",
        "\n",
        "  for line in input_lines:\n",
        "    if line.startswith(\"###\"):\n",
        "      abstract_line = \"\"\n",
        "\n",
        "    elif line.isspace():\n",
        "      abstract_list = abstract_line.splitlines()\n",
        "\n",
        "      for abstract_line_no, abstarct_line in enumerate(abstract_list):\n",
        "        dictionary = {}\n",
        "        splitted_abstract_line =  abstarct_line.split(\"\\t\")\n",
        "        dictionary['target'] = splitted_abstract_line[0]\n",
        "        dictionary['text'] = splitted_abstract_line[1]\n",
        "        dictionary['line_number'] = abstract_line_no\n",
        "        dictionary['total_lines'] = len(abstract_list) - 1\n",
        "        abstract_samples.append(dictionary)\n",
        "\n",
        "    else:\n",
        "      abstract_line += line\n",
        "\n",
        "  return abstract_samples"
      ]
    },
    {
      "cell_type": "code",
      "execution_count": 13,
      "metadata": {
        "colab": {
          "base_uri": "https://localhost:8080/"
        },
        "id": "kCvMFeZeLgeR",
        "outputId": "1135581e-bf2d-4a79-cfd8-dd7cdf277bfa"
      },
      "outputs": [
        {
          "output_type": "execute_result",
          "data": {
            "text/plain": [
              "(30212, 30135, 180040)"
            ]
          },
          "metadata": {},
          "execution_count": 13
        }
      ],
      "source": [
        "# Check the lengths of the samples:\n",
        "test_samples = process_text_with_line_no(file_names[0])\n",
        "dev_samples = process_text_with_line_no(file_names[1])\n",
        "train_samples = process_text_with_line_no(file_names[2])\n",
        "len(test_samples),len(dev_samples),len(train_samples)"
      ]
    },
    {
      "cell_type": "code",
      "execution_count": 14,
      "metadata": {
        "colab": {
          "base_uri": "https://localhost:8080/"
        },
        "id": "QkGYhPtILrcE",
        "outputId": "2ee346df-215c-4d86-b5e6-5d129f7df7eb"
      },
      "outputs": [
        {
          "output_type": "execute_result",
          "data": {
            "text/plain": [
              "[{'target': 'OBJECTIVE',\n",
              "  'text': 'To investigate the efficacy of @ weeks of daily low-dose oral prednisolone in improving pain , mobility , and systemic low-grade inflammation in the short term and whether the effect would be sustained at @ weeks in older adults with moderate to severe knee osteoarthritis ( OA ) .',\n",
              "  'line_number': 0,\n",
              "  'total_lines': 11},\n",
              " {'target': 'METHODS',\n",
              "  'text': 'A total of @ patients with primary knee OA were randomized @:@ ; @ received @ mg/day of prednisolone and @ received placebo for @ weeks .',\n",
              "  'line_number': 1,\n",
              "  'total_lines': 11},\n",
              " {'target': 'METHODS',\n",
              "  'text': 'Outcome measures included pain reduction and improvement in function scores and systemic inflammation markers .',\n",
              "  'line_number': 2,\n",
              "  'total_lines': 11},\n",
              " {'target': 'METHODS',\n",
              "  'text': 'Pain was assessed using the visual analog pain scale ( @-@ mm ) .',\n",
              "  'line_number': 3,\n",
              "  'total_lines': 11},\n",
              " {'target': 'METHODS',\n",
              "  'text': 'Secondary outcome measures included the Western Ontario and McMaster Universities Osteoarthritis Index scores , patient global assessment ( PGA ) of the severity of knee OA , and @-min walk distance ( @MWD ) .',\n",
              "  'line_number': 4,\n",
              "  'total_lines': 11},\n",
              " {'target': 'METHODS',\n",
              "  'text': 'Serum levels of interleukin @ ( IL-@ ) , IL-@ , tumor necrosis factor ( TNF ) - , and high-sensitivity C-reactive protein ( hsCRP ) were measured .',\n",
              "  'line_number': 5,\n",
              "  'total_lines': 11},\n",
              " {'target': 'RESULTS',\n",
              "  'text': 'There was a clinically relevant reduction in the intervention group compared to the placebo group for knee pain , physical function , PGA , and @MWD at @ weeks .',\n",
              "  'line_number': 6,\n",
              "  'total_lines': 11},\n",
              " {'target': 'RESULTS',\n",
              "  'text': 'The mean difference between treatment arms ( @ % CI ) was @ ( @-@ @ ) , p < @ ; @ ( @-@ @ ) , p < @ ; @ ( @-@ @ ) , p < @ ; and @ ( @-@ @ ) , p < @ , respectively .',\n",
              "  'line_number': 7,\n",
              "  'total_lines': 11},\n",
              " {'target': 'RESULTS',\n",
              "  'text': 'Further , there was a clinically relevant reduction in the serum levels of IL-@ , IL-@ , TNF - , and hsCRP at @ weeks in the intervention group when compared to the placebo group .',\n",
              "  'line_number': 8,\n",
              "  'total_lines': 11},\n",
              " {'target': 'RESULTS',\n",
              "  'text': 'These differences remained significant at @ weeks .',\n",
              "  'line_number': 9,\n",
              "  'total_lines': 11},\n",
              " {'target': 'RESULTS',\n",
              "  'text': 'The Outcome Measures in Rheumatology Clinical Trials-Osteoarthritis Research Society International responder rate was @ % in the intervention group and @ % in the placebo group ( p < @ ) .',\n",
              "  'line_number': 10,\n",
              "  'total_lines': 11},\n",
              " {'target': 'CONCLUSIONS',\n",
              "  'text': 'Low-dose oral prednisolone had both a short-term and a longer sustained effect resulting in less knee pain , better physical function , and attenuation of systemic inflammation in older patients with knee OA ( ClinicalTrials.gov identifier NCT@ ) .',\n",
              "  'line_number': 11,\n",
              "  'total_lines': 11},\n",
              " {'target': 'BACKGROUND',\n",
              "  'text': 'Emotional eating is associated with overeating and the development of obesity .',\n",
              "  'line_number': 0,\n",
              "  'total_lines': 10},\n",
              " {'target': 'BACKGROUND',\n",
              "  'text': 'Yet , empirical evidence for individual ( trait ) differences in emotional eating and cognitive mechanisms that contribute to eating during sad mood remain equivocal .',\n",
              "  'line_number': 1,\n",
              "  'total_lines': 10}]"
            ]
          },
          "metadata": {},
          "execution_count": 14
        }
      ],
      "source": [
        "train_samples[:14]"
      ]
    },
    {
      "cell_type": "code",
      "execution_count": 15,
      "metadata": {
        "id": "lrGHD_gLSReZ"
      },
      "outputs": [],
      "source": [
        "# Create the Data Frame:\n",
        "import pandas as pd\n",
        "test_sample_df = pd.DataFrame(test_samples)\n",
        "train_sample_df = pd.DataFrame(train_samples)\n",
        "dev_sample_df = pd.DataFrame(dev_samples)"
      ]
    },
    {
      "cell_type": "code",
      "execution_count": 16,
      "metadata": {
        "colab": {
          "base_uri": "https://localhost:8080/",
          "height": 519
        },
        "id": "us8DDkKanBfL",
        "outputId": "11744429-18ad-451b-dd49-a582082af28f"
      },
      "outputs": [
        {
          "output_type": "execute_result",
          "data": {
            "text/plain": [
              "         target                                               text  \\\n",
              "0     OBJECTIVE  To investigate the efficacy of @ weeks of dail...   \n",
              "1       METHODS  A total of @ patients with primary knee OA wer...   \n",
              "2       METHODS  Outcome measures included pain reduction and i...   \n",
              "3       METHODS  Pain was assessed using the visual analog pain...   \n",
              "4       METHODS  Secondary outcome measures included the Wester...   \n",
              "5       METHODS  Serum levels of interleukin @ ( IL-@ ) , IL-@ ...   \n",
              "6       RESULTS  There was a clinically relevant reduction in t...   \n",
              "7       RESULTS  The mean difference between treatment arms ( @...   \n",
              "8       RESULTS  Further , there was a clinically relevant redu...   \n",
              "9       RESULTS  These differences remained significant at @ we...   \n",
              "10      RESULTS  The Outcome Measures in Rheumatology Clinical ...   \n",
              "11  CONCLUSIONS  Low-dose oral prednisolone had both a short-te...   \n",
              "12   BACKGROUND  Emotional eating is associated with overeating...   \n",
              "13   BACKGROUND  Yet , empirical evidence for individual ( trai...   \n",
              "14    OBJECTIVE  The aim of this study was to test if attention...   \n",
              "\n",
              "    line_number  total_lines  \n",
              "0             0           11  \n",
              "1             1           11  \n",
              "2             2           11  \n",
              "3             3           11  \n",
              "4             4           11  \n",
              "5             5           11  \n",
              "6             6           11  \n",
              "7             7           11  \n",
              "8             8           11  \n",
              "9             9           11  \n",
              "10           10           11  \n",
              "11           11           11  \n",
              "12            0           10  \n",
              "13            1           10  \n",
              "14            2           10  "
            ],
            "text/html": [
              "\n",
              "  <div id=\"df-263299b2-34cd-4b47-8015-c22c4b0ce084\" class=\"colab-df-container\">\n",
              "    <div>\n",
              "<style scoped>\n",
              "    .dataframe tbody tr th:only-of-type {\n",
              "        vertical-align: middle;\n",
              "    }\n",
              "\n",
              "    .dataframe tbody tr th {\n",
              "        vertical-align: top;\n",
              "    }\n",
              "\n",
              "    .dataframe thead th {\n",
              "        text-align: right;\n",
              "    }\n",
              "</style>\n",
              "<table border=\"1\" class=\"dataframe\">\n",
              "  <thead>\n",
              "    <tr style=\"text-align: right;\">\n",
              "      <th></th>\n",
              "      <th>target</th>\n",
              "      <th>text</th>\n",
              "      <th>line_number</th>\n",
              "      <th>total_lines</th>\n",
              "    </tr>\n",
              "  </thead>\n",
              "  <tbody>\n",
              "    <tr>\n",
              "      <th>0</th>\n",
              "      <td>OBJECTIVE</td>\n",
              "      <td>To investigate the efficacy of @ weeks of dail...</td>\n",
              "      <td>0</td>\n",
              "      <td>11</td>\n",
              "    </tr>\n",
              "    <tr>\n",
              "      <th>1</th>\n",
              "      <td>METHODS</td>\n",
              "      <td>A total of @ patients with primary knee OA wer...</td>\n",
              "      <td>1</td>\n",
              "      <td>11</td>\n",
              "    </tr>\n",
              "    <tr>\n",
              "      <th>2</th>\n",
              "      <td>METHODS</td>\n",
              "      <td>Outcome measures included pain reduction and i...</td>\n",
              "      <td>2</td>\n",
              "      <td>11</td>\n",
              "    </tr>\n",
              "    <tr>\n",
              "      <th>3</th>\n",
              "      <td>METHODS</td>\n",
              "      <td>Pain was assessed using the visual analog pain...</td>\n",
              "      <td>3</td>\n",
              "      <td>11</td>\n",
              "    </tr>\n",
              "    <tr>\n",
              "      <th>4</th>\n",
              "      <td>METHODS</td>\n",
              "      <td>Secondary outcome measures included the Wester...</td>\n",
              "      <td>4</td>\n",
              "      <td>11</td>\n",
              "    </tr>\n",
              "    <tr>\n",
              "      <th>5</th>\n",
              "      <td>METHODS</td>\n",
              "      <td>Serum levels of interleukin @ ( IL-@ ) , IL-@ ...</td>\n",
              "      <td>5</td>\n",
              "      <td>11</td>\n",
              "    </tr>\n",
              "    <tr>\n",
              "      <th>6</th>\n",
              "      <td>RESULTS</td>\n",
              "      <td>There was a clinically relevant reduction in t...</td>\n",
              "      <td>6</td>\n",
              "      <td>11</td>\n",
              "    </tr>\n",
              "    <tr>\n",
              "      <th>7</th>\n",
              "      <td>RESULTS</td>\n",
              "      <td>The mean difference between treatment arms ( @...</td>\n",
              "      <td>7</td>\n",
              "      <td>11</td>\n",
              "    </tr>\n",
              "    <tr>\n",
              "      <th>8</th>\n",
              "      <td>RESULTS</td>\n",
              "      <td>Further , there was a clinically relevant redu...</td>\n",
              "      <td>8</td>\n",
              "      <td>11</td>\n",
              "    </tr>\n",
              "    <tr>\n",
              "      <th>9</th>\n",
              "      <td>RESULTS</td>\n",
              "      <td>These differences remained significant at @ we...</td>\n",
              "      <td>9</td>\n",
              "      <td>11</td>\n",
              "    </tr>\n",
              "    <tr>\n",
              "      <th>10</th>\n",
              "      <td>RESULTS</td>\n",
              "      <td>The Outcome Measures in Rheumatology Clinical ...</td>\n",
              "      <td>10</td>\n",
              "      <td>11</td>\n",
              "    </tr>\n",
              "    <tr>\n",
              "      <th>11</th>\n",
              "      <td>CONCLUSIONS</td>\n",
              "      <td>Low-dose oral prednisolone had both a short-te...</td>\n",
              "      <td>11</td>\n",
              "      <td>11</td>\n",
              "    </tr>\n",
              "    <tr>\n",
              "      <th>12</th>\n",
              "      <td>BACKGROUND</td>\n",
              "      <td>Emotional eating is associated with overeating...</td>\n",
              "      <td>0</td>\n",
              "      <td>10</td>\n",
              "    </tr>\n",
              "    <tr>\n",
              "      <th>13</th>\n",
              "      <td>BACKGROUND</td>\n",
              "      <td>Yet , empirical evidence for individual ( trai...</td>\n",
              "      <td>1</td>\n",
              "      <td>10</td>\n",
              "    </tr>\n",
              "    <tr>\n",
              "      <th>14</th>\n",
              "      <td>OBJECTIVE</td>\n",
              "      <td>The aim of this study was to test if attention...</td>\n",
              "      <td>2</td>\n",
              "      <td>10</td>\n",
              "    </tr>\n",
              "  </tbody>\n",
              "</table>\n",
              "</div>\n",
              "    <div class=\"colab-df-buttons\">\n",
              "\n",
              "  <div class=\"colab-df-container\">\n",
              "    <button class=\"colab-df-convert\" onclick=\"convertToInteractive('df-263299b2-34cd-4b47-8015-c22c4b0ce084')\"\n",
              "            title=\"Convert this dataframe to an interactive table.\"\n",
              "            style=\"display:none;\">\n",
              "\n",
              "  <svg xmlns=\"http://www.w3.org/2000/svg\" height=\"24px\" viewBox=\"0 -960 960 960\">\n",
              "    <path d=\"M120-120v-720h720v720H120Zm60-500h600v-160H180v160Zm220 220h160v-160H400v160Zm0 220h160v-160H400v160ZM180-400h160v-160H180v160Zm440 0h160v-160H620v160ZM180-180h160v-160H180v160Zm440 0h160v-160H620v160Z\"/>\n",
              "  </svg>\n",
              "    </button>\n",
              "\n",
              "  <style>\n",
              "    .colab-df-container {\n",
              "      display:flex;\n",
              "      gap: 12px;\n",
              "    }\n",
              "\n",
              "    .colab-df-convert {\n",
              "      background-color: #E8F0FE;\n",
              "      border: none;\n",
              "      border-radius: 50%;\n",
              "      cursor: pointer;\n",
              "      display: none;\n",
              "      fill: #1967D2;\n",
              "      height: 32px;\n",
              "      padding: 0 0 0 0;\n",
              "      width: 32px;\n",
              "    }\n",
              "\n",
              "    .colab-df-convert:hover {\n",
              "      background-color: #E2EBFA;\n",
              "      box-shadow: 0px 1px 2px rgba(60, 64, 67, 0.3), 0px 1px 3px 1px rgba(60, 64, 67, 0.15);\n",
              "      fill: #174EA6;\n",
              "    }\n",
              "\n",
              "    .colab-df-buttons div {\n",
              "      margin-bottom: 4px;\n",
              "    }\n",
              "\n",
              "    [theme=dark] .colab-df-convert {\n",
              "      background-color: #3B4455;\n",
              "      fill: #D2E3FC;\n",
              "    }\n",
              "\n",
              "    [theme=dark] .colab-df-convert:hover {\n",
              "      background-color: #434B5C;\n",
              "      box-shadow: 0px 1px 3px 1px rgba(0, 0, 0, 0.15);\n",
              "      filter: drop-shadow(0px 1px 2px rgba(0, 0, 0, 0.3));\n",
              "      fill: #FFFFFF;\n",
              "    }\n",
              "  </style>\n",
              "\n",
              "    <script>\n",
              "      const buttonEl =\n",
              "        document.querySelector('#df-263299b2-34cd-4b47-8015-c22c4b0ce084 button.colab-df-convert');\n",
              "      buttonEl.style.display =\n",
              "        google.colab.kernel.accessAllowed ? 'block' : 'none';\n",
              "\n",
              "      async function convertToInteractive(key) {\n",
              "        const element = document.querySelector('#df-263299b2-34cd-4b47-8015-c22c4b0ce084');\n",
              "        const dataTable =\n",
              "          await google.colab.kernel.invokeFunction('convertToInteractive',\n",
              "                                                    [key], {});\n",
              "        if (!dataTable) return;\n",
              "\n",
              "        const docLinkHtml = 'Like what you see? Visit the ' +\n",
              "          '<a target=\"_blank\" href=https://colab.research.google.com/notebooks/data_table.ipynb>data table notebook</a>'\n",
              "          + ' to learn more about interactive tables.';\n",
              "        element.innerHTML = '';\n",
              "        dataTable['output_type'] = 'display_data';\n",
              "        await google.colab.output.renderOutput(dataTable, element);\n",
              "        const docLink = document.createElement('div');\n",
              "        docLink.innerHTML = docLinkHtml;\n",
              "        element.appendChild(docLink);\n",
              "      }\n",
              "    </script>\n",
              "  </div>\n",
              "\n",
              "\n",
              "<div id=\"df-9e29cffd-e4d1-427d-b2aa-1d350b8be04c\">\n",
              "  <button class=\"colab-df-quickchart\" onclick=\"quickchart('df-9e29cffd-e4d1-427d-b2aa-1d350b8be04c')\"\n",
              "            title=\"Suggest charts\"\n",
              "            style=\"display:none;\">\n",
              "\n",
              "<svg xmlns=\"http://www.w3.org/2000/svg\" height=\"24px\"viewBox=\"0 0 24 24\"\n",
              "     width=\"24px\">\n",
              "    <g>\n",
              "        <path d=\"M19 3H5c-1.1 0-2 .9-2 2v14c0 1.1.9 2 2 2h14c1.1 0 2-.9 2-2V5c0-1.1-.9-2-2-2zM9 17H7v-7h2v7zm4 0h-2V7h2v10zm4 0h-2v-4h2v4z\"/>\n",
              "    </g>\n",
              "</svg>\n",
              "  </button>\n",
              "\n",
              "<style>\n",
              "  .colab-df-quickchart {\n",
              "      --bg-color: #E8F0FE;\n",
              "      --fill-color: #1967D2;\n",
              "      --hover-bg-color: #E2EBFA;\n",
              "      --hover-fill-color: #174EA6;\n",
              "      --disabled-fill-color: #AAA;\n",
              "      --disabled-bg-color: #DDD;\n",
              "  }\n",
              "\n",
              "  [theme=dark] .colab-df-quickchart {\n",
              "      --bg-color: #3B4455;\n",
              "      --fill-color: #D2E3FC;\n",
              "      --hover-bg-color: #434B5C;\n",
              "      --hover-fill-color: #FFFFFF;\n",
              "      --disabled-bg-color: #3B4455;\n",
              "      --disabled-fill-color: #666;\n",
              "  }\n",
              "\n",
              "  .colab-df-quickchart {\n",
              "    background-color: var(--bg-color);\n",
              "    border: none;\n",
              "    border-radius: 50%;\n",
              "    cursor: pointer;\n",
              "    display: none;\n",
              "    fill: var(--fill-color);\n",
              "    height: 32px;\n",
              "    padding: 0;\n",
              "    width: 32px;\n",
              "  }\n",
              "\n",
              "  .colab-df-quickchart:hover {\n",
              "    background-color: var(--hover-bg-color);\n",
              "    box-shadow: 0 1px 2px rgba(60, 64, 67, 0.3), 0 1px 3px 1px rgba(60, 64, 67, 0.15);\n",
              "    fill: var(--button-hover-fill-color);\n",
              "  }\n",
              "\n",
              "  .colab-df-quickchart-complete:disabled,\n",
              "  .colab-df-quickchart-complete:disabled:hover {\n",
              "    background-color: var(--disabled-bg-color);\n",
              "    fill: var(--disabled-fill-color);\n",
              "    box-shadow: none;\n",
              "  }\n",
              "\n",
              "  .colab-df-spinner {\n",
              "    border: 2px solid var(--fill-color);\n",
              "    border-color: transparent;\n",
              "    border-bottom-color: var(--fill-color);\n",
              "    animation:\n",
              "      spin 1s steps(1) infinite;\n",
              "  }\n",
              "\n",
              "  @keyframes spin {\n",
              "    0% {\n",
              "      border-color: transparent;\n",
              "      border-bottom-color: var(--fill-color);\n",
              "      border-left-color: var(--fill-color);\n",
              "    }\n",
              "    20% {\n",
              "      border-color: transparent;\n",
              "      border-left-color: var(--fill-color);\n",
              "      border-top-color: var(--fill-color);\n",
              "    }\n",
              "    30% {\n",
              "      border-color: transparent;\n",
              "      border-left-color: var(--fill-color);\n",
              "      border-top-color: var(--fill-color);\n",
              "      border-right-color: var(--fill-color);\n",
              "    }\n",
              "    40% {\n",
              "      border-color: transparent;\n",
              "      border-right-color: var(--fill-color);\n",
              "      border-top-color: var(--fill-color);\n",
              "    }\n",
              "    60% {\n",
              "      border-color: transparent;\n",
              "      border-right-color: var(--fill-color);\n",
              "    }\n",
              "    80% {\n",
              "      border-color: transparent;\n",
              "      border-right-color: var(--fill-color);\n",
              "      border-bottom-color: var(--fill-color);\n",
              "    }\n",
              "    90% {\n",
              "      border-color: transparent;\n",
              "      border-bottom-color: var(--fill-color);\n",
              "    }\n",
              "  }\n",
              "</style>\n",
              "\n",
              "  <script>\n",
              "    async function quickchart(key) {\n",
              "      const quickchartButtonEl =\n",
              "        document.querySelector('#' + key + ' button');\n",
              "      quickchartButtonEl.disabled = true;  // To prevent multiple clicks.\n",
              "      quickchartButtonEl.classList.add('colab-df-spinner');\n",
              "      try {\n",
              "        const charts = await google.colab.kernel.invokeFunction(\n",
              "            'suggestCharts', [key], {});\n",
              "      } catch (error) {\n",
              "        console.error('Error during call to suggestCharts:', error);\n",
              "      }\n",
              "      quickchartButtonEl.classList.remove('colab-df-spinner');\n",
              "      quickchartButtonEl.classList.add('colab-df-quickchart-complete');\n",
              "    }\n",
              "    (() => {\n",
              "      let quickchartButtonEl =\n",
              "        document.querySelector('#df-9e29cffd-e4d1-427d-b2aa-1d350b8be04c button');\n",
              "      quickchartButtonEl.style.display =\n",
              "        google.colab.kernel.accessAllowed ? 'block' : 'none';\n",
              "    })();\n",
              "  </script>\n",
              "</div>\n",
              "\n",
              "    </div>\n",
              "  </div>\n"
            ],
            "application/vnd.google.colaboratory.intrinsic+json": {
              "type": "dataframe",
              "variable_name": "train_sample_df"
            }
          },
          "metadata": {},
          "execution_count": 16
        }
      ],
      "source": [
        "train_sample_df.head(15)"
      ]
    },
    {
      "cell_type": "code",
      "execution_count": 17,
      "metadata": {
        "colab": {
          "base_uri": "https://localhost:8080/"
        },
        "id": "FisvvbFbnFvH",
        "outputId": "20af508d-569c-49d8-c3f3-0278e8e3534c"
      },
      "outputs": [
        {
          "output_type": "execute_result",
          "data": {
            "text/plain": [
              "target\n",
              "METHODS        59353\n",
              "RESULTS        57953\n",
              "CONCLUSIONS    27168\n",
              "BACKGROUND     21727\n",
              "OBJECTIVE      13839\n",
              "Name: count, dtype: int64"
            ]
          },
          "metadata": {},
          "execution_count": 17
        }
      ],
      "source": [
        "train_sample_df.target.value_counts()"
      ]
    },
    {
      "cell_type": "code",
      "execution_count": 18,
      "metadata": {
        "colab": {
          "base_uri": "https://localhost:8080/",
          "height": 536
        },
        "id": "tPFRhgYsnfUs",
        "outputId": "65d68445-7dee-4491-ec81-7b42194dd944"
      },
      "outputs": [
        {
          "output_type": "display_data",
          "data": {
            "text/plain": [
              "<Figure size 640x480 with 1 Axes>"
            ],
            "image/png": "[encoded data removed]"
          },
          "metadata": {}
        }
      ],
      "source": [
        "# Plot on the graph:\n",
        "train_sample_df.target.value_counts().plot.bar();"
      ]
    },
    {
      "cell_type": "code",
      "execution_count": 19,
      "metadata": {
        "colab": {
          "base_uri": "https://localhost:8080/",
          "height": 449
        },
        "id": "lbeue0ETourI",
        "outputId": "1936aeff-1e9c-41cb-a806-e69998cb439d"
      },
      "outputs": [
        {
          "output_type": "execute_result",
          "data": {
            "text/plain": [
              "<Axes: ylabel='Frequency'>"
            ]
          },
          "metadata": {},
          "execution_count": 19
        },
        {
          "output_type": "display_data",
          "data": {
            "text/plain": [
              "<Figure size 640x480 with 1 Axes>"
            ],
            "image/png": "[encoded data removed]"
          },
          "metadata": {}
        }
      ],
      "source": [
        "train_sample_df.total_lines.plot.hist()"
      ]
    },
    {
      "cell_type": "markdown",
      "metadata": {
        "id": "VrwkFpzipjuk"
      },
      "source": [
        "# Model_0: Multimodial Naive Bayes(Base Line Model)"
      ]
    },
    {
      "cell_type": "code",
      "execution_count": 20,
      "metadata": {
        "colab": {
          "base_uri": "https://localhost:8080/"
        },
        "id": "BbRD4I4aR3Vv",
        "outputId": "be7988f0-844d-4a73-df50-b0ac00b08250"
      },
      "outputs": [
        {
          "output_type": "execute_result",
          "data": {
            "text/plain": [
              "(180040, 30212, 30135)"
            ]
          },
          "metadata": {},
          "execution_count": 20
        }
      ],
      "source": [
        "# Convert the abstract text to the the list:\n",
        "train_abstract_list = train_sample_df.text.to_list()\n",
        "test_abstract_list = test_sample_df.text.to_list()\n",
        "dev_abstract_list = dev_sample_df.text.to_list()\n",
        "\n",
        "len(train_abstract_list), len(test_abstract_list), len(dev_abstract_list)"
      ]
    },
    {
      "cell_type": "code",
      "execution_count": 21,
      "metadata": {
        "id": "Wj0x6K6fSbIS"
      },
      "outputs": [],
      "source": [
        "# Convert the target to one hot encoder and the labelEncoder:\n",
        "from sklearn.preprocessing import OneHotEncoder, LabelEncoder\n",
        "\n",
        "one_hot_encoder = OneHotEncoder(sparse_output=False)\n",
        "\n",
        "train_target_one_hot = one_hot_encoder.fit_transform(train_sample_df.target.to_numpy().reshape(-1,1))\n",
        "test_target_one_hot = one_hot_encoder.transform(test_sample_df.target.to_numpy().reshape(-1,1))\n",
        "dev_target_one_hot = one_hot_encoder.transform(dev_sample_df.target.to_numpy().reshape(-1,1))\n"
      ]
    },
    {
      "cell_type": "code",
      "execution_count": 22,
      "metadata": {
        "colab": {
          "base_uri": "https://localhost:8080/"
        },
        "id": "-lLkwCVPXBUn",
        "outputId": "1b69abb0-6b44-48ab-adfb-3f99b4ad2c07"
      },
      "outputs": [
        {
          "output_type": "execute_result",
          "data": {
            "text/plain": [
              "array([[0., 0., 0., 1., 0.],\n",
              "       [0., 0., 1., 0., 0.],\n",
              "       [0., 0., 1., 0., 0.],\n",
              "       [0., 0., 1., 0., 0.],\n",
              "       [0., 0., 1., 0., 0.]])"
            ]
          },
          "metadata": {},
          "execution_count": 22
        }
      ],
      "source": [
        "train_target_one_hot[:5]"
      ]
    },
    {
      "cell_type": "code",
      "execution_count": 23,
      "metadata": {
        "colab": {
          "base_uri": "https://localhost:8080/"
        },
        "id": "t644ZGIyZoOF",
        "outputId": "1e3ca71f-8273-4489-8023-2e22eaa93de4"
      },
      "outputs": [
        {
          "output_type": "execute_result",
          "data": {
            "text/plain": [
              "(180040, 30212, 30135)"
            ]
          },
          "metadata": {},
          "execution_count": 23
        }
      ],
      "source": [
        "# Convert the targets to the label encoder:\n",
        "label_encoder = LabelEncoder()\n",
        "train_target_label_encode = label_encoder.fit_transform(train_sample_df.target)\n",
        "test_target_label_encode = label_encoder.transform(test_sample_df.target)\n",
        "dev_target_label_encode = label_encoder.transform(dev_sample_df.target)\n",
        "\n",
        "len(train_target_label_encode), len(test_target_label_encode), len(dev_target_label_encode )"
      ]
    },
    {
      "cell_type": "code",
      "execution_count": 24,
      "metadata": {
        "colab": {
          "base_uri": "https://localhost:8080/"
        },
        "id": "zQdto1mPe7aV",
        "outputId": "bfab9a2d-57c4-49b3-ef33-4480c16a71f3"
      },
      "outputs": [
        {
          "output_type": "execute_result",
          "data": {
            "text/plain": [
              "(array(['BACKGROUND', 'CONCLUSIONS', 'METHODS', 'OBJECTIVE', 'RESULTS'],\n",
              "       dtype=object),\n",
              " 5)"
            ]
          },
          "metadata": {},
          "execution_count": 24
        }
      ],
      "source": [
        "label_encoder.classes_, len(label_encoder.classes_)"
      ]
    },
    {
      "cell_type": "code",
      "source": [
        "label_encoder_classes = list(label_encoder.classes_)"
      ],
      "metadata": {
        "id": "TXZ_s4C0gF4N"
      },
      "execution_count": 25,
      "outputs": []
    },
    {
      "cell_type": "code",
      "execution_count": 26,
      "metadata": {
        "colab": {
          "base_uri": "https://localhost:8080/",
          "height": 127
        },
        "id": "YAbNtjOybMjE",
        "outputId": "e44aa808-63aa-4808-9789-07f45bbd7797"
      },
      "outputs": [
        {
          "output_type": "execute_result",
          "data": {
            "text/plain": [
              "Pipeline(steps=[('Vectorizor', TfidfVectorizer()), ('Model', MultinomialNB())])"
            ],
            "text/html": [
              "<style>#sk-container-id-1 {color: black;background-color: white;}#sk-container-id-1 pre{padding: 0;}#sk-container-id-1 div.sk-toggleable {background-color: white;}#sk-container-id-1 label.sk-toggleable__label {cursor: pointer;display: block;width: 100%;margin-bottom: 0;padding: 0.3em;box-sizing: border-box;text-align: center;}#sk-container-id-1 label.sk-toggleable__label-arrow:before {content: \"▸\";float: left;margin-right: 0.25em;color: #696969;}#sk-container-id-1 label.sk-toggleable__label-arrow:hover:before {color: black;}#sk-container-id-1 div.sk-estimator:hover label.sk-toggleable__label-arrow:before {color: black;}#sk-container-id-1 div.sk-toggleable__content {max-height: 0;max-width: 0;overflow: hidden;text-align: left;background-color: #f0f8ff;}#sk-container-id-1 div.sk-toggleable__content pre {margin: 0.2em;color: black;border-radius: 0.25em;background-color: #f0f8ff;}#sk-container-id-1 input.sk-toggleable__control:checked~div.sk-toggleable__content {max-height: 200px;max-width: 100%;overflow: auto;}#sk-container-id-1 input.sk-toggleable__control:checked~label.sk-toggleable__label-arrow:before {content: \"▾\";}#sk-container-id-1 div.sk-estimator input.sk-toggleable__control:checked~label.sk-toggleable__label {background-color: #d4ebff;}#sk-container-id-1 div.sk-label input.sk-toggleable__control:checked~label.sk-toggleable__label {background-color: #d4ebff;}#sk-container-id-1 input.sk-hidden--visually {border: 0;clip: rect(1px 1px 1px 1px);clip: rect(1px, 1px, 1px, 1px);height: 1px;margin: -1px;overflow: hidden;padding: 0;position: absolute;width: 1px;}#sk-container-id-1 div.sk-estimator {font-family: monospace;background-color: #f0f8ff;border: 1px dotted black;border-radius: 0.25em;box-sizing: border-box;margin-bottom: 0.5em;}#sk-container-id-1 div.sk-estimator:hover {background-color: #d4ebff;}#sk-container-id-1 div.sk-parallel-item::after {content: \"\";width: 100%;border-bottom: 1px solid gray;flex-grow: 1;}#sk-container-id-1 div.sk-label:hover label.sk-toggleable__label {background-color: #d4ebff;}#sk-container-id-1 div.sk-serial::before {content: \"\";position: absolute;border-left: 1px solid gray;box-sizing: border-box;top: 0;bottom: 0;left: 50%;z-index: 0;}#sk-container-id-1 div.sk-serial {display: flex;flex-direction: column;align-items: center;background-color: white;padding-right: 0.2em;padding-left: 0.2em;position: relative;}#sk-container-id-1 div.sk-item {position: relative;z-index: 1;}#sk-container-id-1 div.sk-parallel {display: flex;align-items: stretch;justify-content: center;background-color: white;position: relative;}#sk-container-id-1 div.sk-item::before, #sk-container-id-1 div.sk-parallel-item::before {content: \"\";position: absolute;border-left: 1px solid gray;box-sizing: border-box;top: 0;bottom: 0;left: 50%;z-index: -1;}#sk-container-id-1 div.sk-parallel-item {display: flex;flex-direction: column;z-index: 1;position: relative;background-color: white;}#sk-container-id-1 div.sk-parallel-item:first-child::after {align-self: flex-end;width: 50%;}#sk-container-id-1 div.sk-parallel-item:last-child::after {align-self: flex-start;width: 50%;}#sk-container-id-1 div.sk-parallel-item:only-child::after {width: 0;}#sk-container-id-1 div.sk-dashed-wrapped {border: 1px dashed gray;margin: 0 0.4em 0.5em 0.4em;box-sizing: border-box;padding-bottom: 0.4em;background-color: white;}#sk-container-id-1 div.sk-label label {font-family: monospace;font-weight: bold;display: inline-block;line-height: 1.2em;}#sk-container-id-1 div.sk-label-container {text-align: center;}#sk-container-id-1 div.sk-container {/* jupyter's `normalize.less` sets `[hidden] { display: none; }` but bootstrap.min.css set `[hidden] { display: none !important; }` so we also need the `!important` here to be able to override the default hidden behavior on the sphinx rendered scikit-learn.org. See: https://github.com/scikit-learn/scikit-learn/issues/21755 */display: inline-block !important;position: relative;}#sk-container-id-1 div.sk-text-repr-fallback {display: none;}</style><div id=\"sk-container-id-1\" class=\"sk-top-container\"><div class=\"sk-text-repr-fallback\"><pre>Pipeline(steps=[(&#x27;Vectorizor&#x27;, TfidfVectorizer()), (&#x27;Model&#x27;, MultinomialNB())])</pre><b>In a Jupyter environment, please rerun this cell to show the HTML representation or trust the notebook. <br />On GitHub, the HTML representation is unable to render, please try loading this page with nbviewer.org.</b></div><div class=\"sk-container\" hidden><div class=\"sk-item sk-dashed-wrapped\"><div class=\"sk-label-container\"><div class=\"sk-label sk-toggleable\"><input class=\"sk-toggleable__control sk-hidden--visually\" id=\"sk-estimator-id-1\" type=\"checkbox\" ><label for=\"sk-estimator-id-1\" class=\"sk-toggleable__label sk-toggleable__label-arrow\">Pipeline</label><div class=\"sk-toggleable__content\"><pre>Pipeline(steps=[(&#x27;Vectorizor&#x27;, TfidfVectorizer()), (&#x27;Model&#x27;, MultinomialNB())])</pre></div></div></div><div class=\"sk-serial\"><div class=\"sk-item\"><div class=\"sk-estimator sk-toggleable\"><input class=\"sk-toggleable__control sk-hidden--visually\" id=\"sk-estimator-id-2\" type=\"checkbox\" ><label for=\"sk-estimator-id-2\" class=\"sk-toggleable__label sk-toggleable__label-arrow\">TfidfVectorizer</label><div class=\"sk-toggleable__content\"><pre>TfidfVectorizer()</pre></div></div></div><div class=\"sk-item\"><div class=\"sk-estimator sk-toggleable\"><input class=\"sk-toggleable__control sk-hidden--visually\" id=\"sk-estimator-id-3\" type=\"checkbox\" ><label for=\"sk-estimator-id-3\" class=\"sk-toggleable__label sk-toggleable__label-arrow\">MultinomialNB</label><div class=\"sk-toggleable__content\"><pre>MultinomialNB()</pre></div></div></div></div></div></div></div>"
            ]
          },
          "metadata": {},
          "execution_count": 26
        }
      ],
      "source": [
        "# Import the model,vectorizor and the pipeline from the sklearn:\n",
        "from sklearn.naive_bayes import MultinomialNB\n",
        "from sklearn.feature_extraction.text import TfidfVectorizer\n",
        "from sklearn.pipeline import Pipeline\n",
        "\n",
        "# Create the ML pipeline:\n",
        "model_0 = Pipeline([\n",
        "    (\"Vectorizor\",TfidfVectorizer()),\n",
        "    (\"Model\",MultinomialNB())]\n",
        ")\n",
        "\n",
        "# Fit the Model:\n",
        "model_0.fit(X=train_abstract_list,\n",
        "            y=train_target_label_encode)"
      ]
    },
    {
      "cell_type": "code",
      "execution_count": 27,
      "metadata": {
        "colab": {
          "base_uri": "https://localhost:8080/"
        },
        "id": "JYD6lZ6geSI_",
        "outputId": "7c8bad6f-9513-4374-b292-5251cb2634ce"
      },
      "outputs": [
        {
          "output_type": "execute_result",
          "data": {
            "text/plain": [
              "0.7516829593423684"
            ]
          },
          "metadata": {},
          "execution_count": 27
        }
      ],
      "source": [
        "# Check the accuracy:\n",
        "baseline_accuracy = model_0.score(train_abstract_list,train_target_label_encode)\n",
        "baseline_accuracy"
      ]
    },
    {
      "cell_type": "code",
      "execution_count": 28,
      "metadata": {
        "colab": {
          "base_uri": "https://localhost:8080/"
        },
        "id": "IlkuFSscjpqU",
        "outputId": "40b20f20-5470-46de-88c9-32dcda148cee"
      },
      "outputs": [
        {
          "output_type": "execute_result",
          "data": {
            "text/plain": [
              "array([2, 2, 2, 4, 4])"
            ]
          },
          "metadata": {},
          "execution_count": 28
        }
      ],
      "source": [
        "# Make prdictions on validation dataset:\n",
        "dev_pred = model_0.predict(dev_abstract_list)\n",
        "dev_pred[:5]"
      ]
    },
    {
      "cell_type": "code",
      "execution_count": 29,
      "metadata": {
        "colab": {
          "base_uri": "https://localhost:8080/"
        },
        "id": "Rdw4LNSKgE68",
        "outputId": "bff29945-cf74-4b6d-e08f-ed97913bb6b0"
      },
      "outputs": [
        {
          "output_type": "stream",
          "name": "stdout",
          "text": [
            "--2024-04-16 14:53:49--  https://raw.githubusercontent.com/mrdbourke/tensorflow-deep-learning/main/extras/helper_functions.py\n",
            "Resolving raw.githubusercontent.com (raw.githubusercontent.com)... 185.199.111.133, 185.199.109.133, 185.199.110.133, ...\n",
            "Connecting to raw.githubusercontent.com (raw.githubusercontent.com)|185.199.111.133|:443... connected.\n",
            "HTTP request sent, awaiting response... 200 OK\n",
            "Length: 10246 (10K) [text/plain]\n",
            "Saving to: ‘helper_functions.py’\n",
            "\n",
            "\rhelper_functions.py   0%[                    ]       0  --.-KB/s               \rhelper_functions.py 100%[===================>]  10.01K  --.-KB/s    in 0s      \n",
            "\n",
            "2024-04-16 14:53:49 (57.0 MB/s) - ‘helper_functions.py’ saved [10246/10246]\n",
            "\n"
          ]
        }
      ],
      "source": [
        "# Download the Helper Function script:\n",
        "!wget https://raw.githubusercontent.com/mrdbourke/tensorflow-deep-learning/main/extras/helper_functions.py"
      ]
    },
    {
      "cell_type": "code",
      "execution_count": 30,
      "metadata": {
        "colab": {
          "base_uri": "https://localhost:8080/"
        },
        "id": "pdBQOl5jgphH",
        "outputId": "282a6f08-1749-44a8-a58f-79a28de6b353"
      },
      "outputs": [
        {
          "output_type": "execute_result",
          "data": {
            "text/plain": [
              "{'accuracy': 71.6674962667994,\n",
              " 'precision': 0.7124322482375202,\n",
              " 'recall': 0.716674962667994,\n",
              " 'f1': 0.6925101703856846}"
            ]
          },
          "metadata": {},
          "execution_count": 30
        }
      ],
      "source": [
        "from helper_functions import calculate_results\n",
        "baseline_scores = calculate_results(y_true = dev_target_label_encode,\n",
        "                               y_pred = dev_pred)\n",
        "baseline_scores"
      ]
    },
    {
      "cell_type": "markdown",
      "metadata": {
        "id": "W6D2vTAMteEv"
      },
      "source": [
        "# Model_1: Model in Paper without label Encoding\n",
        "\n"
      ]
    },
    {
      "cell_type": "markdown",
      "source": [
        "In this project we are going to be making 3 model for comparison. The base architecture used for this project is Multinomial Naive Bayes & Final is based on the research done by Franck Dernoncourt and Ji Young Lee. The paper is available here: https://arxiv.org/pdf/1710.06071.pdf\n",
        "\n",
        "\n",
        "The final model architecture we are going to keep is found here : https://arxiv.org/pdf/1612.05251.pdf\n",
        "\n",
        "![image.png](data:image/png;base64,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)"
      ],
      "metadata": {
        "id": "vE4MrpnEYhGT"
      }
    },
    {
      "cell_type": "markdown",
      "metadata": {
        "id": "sagJ7RajYSYE"
      },
      "source": [
        "## Preparing the Dataset for Token Level Embeddings:\n",
        "\n",
        "\n"
      ]
    },
    {
      "cell_type": "code",
      "execution_count": 31,
      "metadata": {
        "colab": {
          "base_uri": "https://localhost:8080/"
        },
        "id": "GOcCdwT2XcSa",
        "outputId": "3a763df2-416f-41df-9b42-9d7171e8a5b2"
      },
      "outputs": [
        {
          "output_type": "execute_result",
          "data": {
            "text/plain": [
              "26.338269273494777"
            ]
          },
          "metadata": {},
          "execution_count": 31
        }
      ],
      "source": [
        "# Checking the average average length of the sentence in train dataset:\n",
        "length_sentence_list = [len(sentence.split(\" \")) for sentence in train_abstract_list]\n",
        "averange_length = sum(length_sentence_list) / len(length_sentence_list)\n",
        "averange_length"
      ]
    },
    {
      "cell_type": "code",
      "execution_count": 32,
      "metadata": {
        "colab": {
          "base_uri": "https://localhost:8080/",
          "height": 599
        },
        "id": "P7Y8ksb7Yx5z",
        "outputId": "23f9ff57-35b2-4843-b3b0-0e965c06ac55"
      },
      "outputs": [
        {
          "output_type": "display_data",
          "data": {
            "text/plain": [
              "<Figure size 1200x700 with 2 Axes>"
            ],
            "image/png": "[encoded data removed]"
          },
          "metadata": {}
        }
      ],
      "source": [
        "# Check the distribution:\n",
        "\n",
        "import matplotlib.pyplot as plt\n",
        "fig, axes = plt.subplots(1,2,figsize=(12,7))\n",
        "axes[0].boxplot(length_sentence_list)\n",
        "axes[1].hist(length_sentence_list);"
      ]
    },
    {
      "cell_type": "code",
      "execution_count": 33,
      "metadata": {
        "colab": {
          "base_uri": "https://localhost:8080/"
        },
        "id": "my7c1ws1a_42",
        "outputId": "92218509-5418-474a-af92-400a374c5aee"
      },
      "outputs": [
        {
          "output_type": "stream",
          "name": "stdout",
          "text": [
            "95th Percentile: 55.0\n",
            "Maximum lenghth: 296\n"
          ]
        }
      ],
      "source": [
        "import numpy as np\n",
        "\n",
        "print(f\"95th Percentile: {np.percentile(length_sentence_list,95)}\")\n",
        "print(f\"Maximum lenghth: {max(length_sentence_list)}\")"
      ]
    },
    {
      "cell_type": "code",
      "execution_count": 34,
      "metadata": {
        "id": "XEITsk2CxZVN"
      },
      "outputs": [],
      "source": [
        "# Create the Text Vectorizor:\n",
        "\n",
        "import tensorflow as tf\n",
        "from tensorflow.keras import layers\n",
        "\n",
        "max_token = 68000 # Given in the \"Neural Networks for Joint Sentence Classification  in Medical Paper Abstracts\" paper.\n",
        "text_vectorizor = layers.TextVectorization(max_tokens = max_token,\n",
        "                                           output_sequence_length = 55)"
      ]
    },
    {
      "cell_type": "code",
      "execution_count": 35,
      "metadata": {
        "id": "vnJWCgDD7A_5"
      },
      "outputs": [],
      "source": [
        "text_vectorizor.adapt(train_abstract_list)\n",
        "vocab = text_vectorizor.get_vocabulary()"
      ]
    },
    {
      "cell_type": "code",
      "execution_count": 36,
      "metadata": {
        "colab": {
          "base_uri": "https://localhost:8080/"
        },
        "id": "gC7Ofoja7b8N",
        "outputId": "9aa479a6-6764-4e26-fad3-6b4626db52ea"
      },
      "outputs": [
        {
          "output_type": "stream",
          "name": "stdout",
          "text": [
            "Length of Vocab: 64841\n",
            "Top five words: ['', '[UNK]', 'the', 'and', 'of']\n",
            " Bottom five words: ['aainduced', 'aaigroup', 'aachener', 'aachen', 'aaacp']\n"
          ]
        }
      ],
      "source": [
        "print(f\"Length of Vocab: {len(vocab)}\")\n",
        "print(f\"Top five words: {vocab[:5]}\")\n",
        "print(f\" Bottom five words: {vocab[-5:]}\")"
      ]
    },
    {
      "cell_type": "code",
      "execution_count": 37,
      "metadata": {
        "id": "qWwPjtos10Mw"
      },
      "outputs": [],
      "source": [
        "# Creating the embedding Layer:\n",
        "embeddings = layers.Embedding(input_dim=len(vocab),\n",
        "                              output_dim=128,\n",
        "                              mask_zero=True)"
      ]
    },
    {
      "cell_type": "code",
      "execution_count": 38,
      "metadata": {
        "colab": {
          "base_uri": "https://localhost:8080/"
        },
        "id": "3BUOWkLv9NLQ",
        "outputId": "b8c73f28-244b-498f-a25b-18da1ceb3fd3"
      },
      "outputs": [
        {
          "output_type": "stream",
          "name": "stdout",
          "text": [
            "Random sentence:\n",
            "Preoperative vs. postoperative functional parameters showed significant improvement in both groups .\n",
            "Length: 12\n",
            "\n",
            "Vectorizor Version:\n",
            "[[707  44 163 304 315 147  37 194   5  54  24   0   0   0   0   0   0   0\n",
            "    0   0   0   0   0   0   0   0   0   0   0   0   0   0   0   0   0   0\n",
            "    0   0   0   0   0   0   0   0   0   0   0   0   0   0   0   0   0   0\n",
            "    0]]\n",
            "Vectorizor length: 55\n",
            "\n",
            "Embeddings:\n",
            "[[[-0.00060261 -0.04771471  0.03048451 ...  0.02256563 -0.03034929\n",
            "   -0.01151569]\n",
            "  [-0.02232763  0.01568426  0.0137363  ...  0.04967691  0.04738582\n",
            "   -0.03997986]\n",
            "  [-0.04646827  0.04632189  0.02474863 ...  0.01218315  0.02400743\n",
            "   -0.02627517]\n",
            "  ...\n",
            "  [-0.03684323 -0.02464806  0.03888026 ... -0.03794426  0.0418264\n",
            "    0.00245055]\n",
            "  [-0.03684323 -0.02464806  0.03888026 ... -0.03794426  0.0418264\n",
            "    0.00245055]\n",
            "  [-0.03684323 -0.02464806  0.03888026 ... -0.03794426  0.0418264\n",
            "    0.00245055]]]\n",
            " Embedding shape: (1, 55, 128)\n"
          ]
        }
      ],
      "source": [
        "# Lets check our Vectorizor and the Embeddings:\n",
        "import random\n",
        "\n",
        "random_sentence = random.choice(train_abstract_list)\n",
        "random_vectorization = text_vectorizor([random_sentence])\n",
        "print(f\"Random sentence:\\n{random_sentence}\\nLength: {len(random_sentence.split(' '))}\")\n",
        "\n",
        "print(f\"\\nVectorizor Version:\\n{random_vectorization}\\nVectorizor length: {random_vectorization.shape[1]}\")\n",
        "\n",
        "random_sentence_embedding = embeddings(random_vectorization)\n",
        "print(f\"\\nEmbeddings:\\n{random_sentence_embedding}\\n Embedding shape: {random_sentence_embedding.shape}\")"
      ]
    },
    {
      "cell_type": "code",
      "source": [
        "# But we are going to use universsal sentence Encoder from Tensorflow HUB:\n",
        "\n",
        "# Download pretrained TensorFlow Hub USE\n",
        "import tensorflow_hub as hub\n",
        "tf_hub_embedding_layer = hub.KerasLayer(\"https://tfhub.dev/google/universal-sentence-encoder/4\",\n",
        "                                        trainable=False,\n",
        "                                        name=\"universal_sentence_encoder\")"
      ],
      "metadata": {
        "id": "uGFajoM_dojd"
      },
      "execution_count": 39,
      "outputs": []
    },
    {
      "cell_type": "code",
      "source": [
        "# Test our prtrained Embedding on random Sentence:\n",
        "random_sentence = random.choice(train_abstract_list)\n",
        "pretrained_embeddings = tf_hub_embedding_layer([random_sentence])\n",
        "print(f'random_sentence:\\n\\n{random_sentence}')\n",
        "pretrained_embeddings"
      ],
      "metadata": {
        "colab": {
          "base_uri": "https://localhost:8080/"
        },
        "id": "YV067UAXyQqD",
        "outputId": "4e4fe481-9007-44b5-dd3b-fd7849fed5be"
      },
      "execution_count": 40,
      "outputs": [
        {
          "output_type": "stream",
          "name": "stdout",
          "text": [
            "random_sentence:\n",
            "\n",
            "@ patients reported diverse sensations connected to the anaesthesia ( Group A - @ patients , B - @ patients , C - @ patients , D - @ patients ) .\n"
          ]
        },
        {
          "output_type": "execute_result",
          "data": {
            "text/plain": [
              "<tf.Tensor: shape=(1, 512), dtype=float32, numpy=\n",
              "array([[-5.20298332e-02,  4.64633256e-02, -3.52638215e-02,\n",
              "         8.83493666e-03,  5.77913858e-02, -2.19899379e-02,\n",
              "         2.11781245e-02,  4.49592657e-02, -7.16063157e-02,\n",
              "        -4.65964824e-02,  7.40360096e-02, -5.65511845e-02,\n",
              "         5.62375337e-02,  6.55947626e-02,  9.01994016e-03,\n",
              "         2.93668285e-02, -7.40384161e-02, -6.21278360e-02,\n",
              "        -7.38040432e-02,  3.94019634e-02, -4.72569838e-02,\n",
              "         2.27045901e-02,  6.00265861e-02, -5.13840206e-02,\n",
              "        -4.89344485e-02, -1.89132616e-02, -5.14731258e-02,\n",
              "        -3.91773740e-03,  7.19606653e-02, -5.46546243e-02,\n",
              "        -4.09007678e-03,  7.40384758e-02, -4.11186889e-02,\n",
              "        -2.86386218e-02, -1.07268663e-03, -5.40375598e-02,\n",
              "         1.31734200e-02,  1.05199525e-02, -5.06053418e-02,\n",
              "        -7.13491961e-02, -5.69891883e-03,  3.46174650e-03,\n",
              "         3.05620283e-02, -1.19169103e-02,  3.39007303e-02,\n",
              "         7.37061575e-02,  2.96567492e-02,  4.52852361e-02,\n",
              "        -1.17131500e-02, -2.21098922e-02, -5.31950630e-02,\n",
              "        -5.09538651e-02, -3.60067934e-02,  4.92521673e-02,\n",
              "        -5.84103987e-02,  5.16471826e-03, -8.16613436e-03,\n",
              "        -3.18816118e-02,  6.22123294e-02,  6.03106730e-02,\n",
              "        -4.20823321e-02,  3.28168422e-02, -3.79556343e-02,\n",
              "         2.96393484e-02,  2.46070721e-03,  5.46588451e-02,\n",
              "         1.29252849e-02, -4.26233225e-02,  3.66500095e-02,\n",
              "        -6.36023805e-02,  4.79560643e-02,  3.20534385e-03,\n",
              "        -5.46778962e-02, -4.25338782e-02, -5.05536720e-02,\n",
              "        -7.26160631e-02,  4.01711278e-02,  6.19346090e-02,\n",
              "        -7.15842023e-02,  2.44329032e-03, -2.31545195e-02,\n",
              "        -1.49542708e-02,  3.72605980e-03,  3.89319994e-02,\n",
              "        -6.47916198e-02,  5.31955697e-02,  2.82390858e-03,\n",
              "        -2.66749151e-02,  2.24348605e-02, -6.20766692e-02,\n",
              "        -6.72366843e-02,  2.43235156e-02, -1.03645679e-02,\n",
              "         3.44832689e-02, -5.24105951e-02, -4.38818447e-02,\n",
              "        -4.99980478e-03, -5.35978265e-02, -1.69895776e-02,\n",
              "         3.83080803e-02, -3.96946743e-02, -1.59596205e-02,\n",
              "         3.25022079e-03,  5.66026615e-03,  9.36611323e-05,\n",
              "         3.19064371e-02,  3.78910638e-02,  4.80611995e-02,\n",
              "        -2.98564043e-02,  3.22986357e-02,  4.51816544e-02,\n",
              "         6.56373277e-02,  7.06641674e-02,  2.23767310e-02,\n",
              "        -2.80870521e-03,  8.07947107e-03,  6.11206936e-03,\n",
              "        -5.38652912e-02,  7.34650120e-02, -1.74422264e-02,\n",
              "        -6.16464615e-02, -4.93667126e-02, -2.05073152e-02,\n",
              "         3.34456638e-02,  1.60566568e-02,  3.87381352e-02,\n",
              "        -7.10846633e-02, -4.87103201e-02, -3.82427908e-02,\n",
              "         5.79206273e-02, -6.31465465e-02,  7.40384534e-02,\n",
              "         5.58404289e-02,  1.85025167e-02, -4.54950482e-02,\n",
              "        -2.18644831e-02,  3.90965566e-02, -1.32836476e-02,\n",
              "        -4.51739915e-02, -6.85288012e-02, -5.08936271e-02,\n",
              "         6.26281127e-02, -6.70516416e-02,  2.17149667e-02,\n",
              "        -3.75961661e-02,  4.27165534e-03, -8.90018046e-03,\n",
              "        -1.52229592e-02,  6.77456409e-02, -6.99287876e-02,\n",
              "        -2.67668441e-02,  4.08647023e-02,  5.31030111e-02,\n",
              "         5.64423837e-02,  4.07561585e-02, -1.64958835e-02,\n",
              "         3.63645293e-02, -3.42094637e-02,  5.41747026e-02,\n",
              "        -8.36977642e-03,  3.16218697e-02, -5.35511114e-02,\n",
              "        -4.04677317e-02,  1.71556752e-02, -3.88430022e-02,\n",
              "        -2.07208991e-02,  1.84721220e-02,  2.28105653e-02,\n",
              "         4.12673615e-02,  5.06748371e-02, -4.72799391e-02,\n",
              "        -7.34114349e-02, -6.26995265e-02, -4.06811619e-03,\n",
              "        -7.07577765e-02,  2.52063312e-02,  4.73706797e-02,\n",
              "         3.13717686e-02,  5.16135581e-02,  4.33802307e-02,\n",
              "        -6.62078476e-03,  1.57842338e-02, -5.09854779e-02,\n",
              "         7.39383996e-02, -1.06449537e-02,  8.28387309e-03,\n",
              "         5.63548356e-02,  5.28180487e-02,  6.93013445e-02,\n",
              "         1.98539309e-02,  1.76405124e-02, -1.56891495e-02,\n",
              "        -5.38483402e-03,  5.02331592e-02, -4.98384498e-02,\n",
              "        -5.85852191e-02, -6.80012479e-02,  1.56729687e-02,\n",
              "        -5.12358062e-02, -5.57444505e-02,  2.39293873e-02,\n",
              "         6.49821013e-02,  4.12900411e-02, -5.07400418e-03,\n",
              "         1.65607757e-03, -5.15922233e-02, -1.10054784e-03,\n",
              "        -7.29008242e-02, -5.82997017e-02,  5.62866442e-02,\n",
              "        -6.32127468e-03, -3.00765261e-02, -3.87127176e-02,\n",
              "        -6.78071603e-02, -3.41535732e-02,  6.86798766e-02,\n",
              "         4.67770100e-02,  5.15983254e-03,  6.68835491e-02,\n",
              "         7.39936531e-02, -3.67643945e-02,  5.80509901e-02,\n",
              "         7.20688701e-02,  9.94510856e-03,  2.72690505e-02,\n",
              "        -1.75057147e-02,  2.58063804e-03, -4.86547984e-02,\n",
              "        -5.49164787e-02,  5.45783080e-02, -3.41598727e-02,\n",
              "         3.35324630e-02,  1.87560245e-02, -3.99367791e-03,\n",
              "         5.41773140e-02,  1.68637838e-02,  6.13451265e-02,\n",
              "        -4.00307737e-02, -3.83945405e-02, -5.44484966e-02,\n",
              "         3.41698602e-02,  6.33987337e-02, -4.30755783e-03,\n",
              "        -5.45683987e-02,  4.17527966e-02, -2.89892824e-03,\n",
              "        -6.69941828e-02,  3.60973142e-02,  2.93936487e-02,\n",
              "        -7.02836141e-02,  4.14004773e-02, -1.50085986e-02,\n",
              "        -2.50594895e-02,  2.89395060e-02,  7.24329799e-02,\n",
              "         2.74745058e-02, -5.30173182e-02,  1.47255498e-03,\n",
              "        -4.21460569e-02,  2.56686173e-02, -2.16012169e-02,\n",
              "         3.51580754e-02,  7.54472974e-04,  1.50322458e-02,\n",
              "        -6.54084757e-02,  5.97933345e-02,  1.19009633e-02,\n",
              "        -1.97162405e-02, -4.07037251e-02,  1.76174324e-02,\n",
              "        -6.09703511e-02,  3.29765528e-02, -7.52489967e-03,\n",
              "        -7.39172921e-02,  9.46392585e-03, -4.12855521e-02,\n",
              "        -6.82064369e-02,  2.93721184e-02,  4.39436771e-02,\n",
              "        -3.47214416e-02,  7.98131432e-03, -5.03562801e-02,\n",
              "        -3.28949429e-02, -6.29631281e-02,  1.04531310e-02,\n",
              "         1.50327338e-02, -1.02143241e-02, -2.14686226e-02,\n",
              "         7.18839979e-03,  1.03480490e-02, -5.73894493e-02,\n",
              "        -1.23458039e-02,  4.20181192e-02, -7.09295422e-02,\n",
              "        -1.85581967e-02, -4.71278541e-02, -2.17436161e-02,\n",
              "         1.78306457e-02,  6.78306445e-02,  6.69557378e-02,\n",
              "        -1.30160116e-02, -4.00357656e-02, -4.29475941e-02,\n",
              "        -6.80965781e-02, -5.21391071e-02, -3.77208404e-02,\n",
              "        -4.29099659e-03, -2.75150128e-02, -4.28370684e-02,\n",
              "         5.42381369e-02, -7.18500167e-02, -4.45921049e-02,\n",
              "        -1.10133924e-02, -3.65407728e-02, -1.45553006e-02,\n",
              "        -4.76604998e-02, -6.57742396e-02, -2.71731545e-03,\n",
              "         7.38672912e-02,  7.19772130e-02, -3.84115614e-02,\n",
              "        -4.32339013e-02,  4.38085012e-02,  2.12183706e-02,\n",
              "        -6.91820905e-02,  5.81138059e-02,  1.68521516e-03,\n",
              "        -6.15917798e-03, -3.84938419e-02,  7.34156892e-02,\n",
              "         4.71280962e-02,  1.57068111e-02, -2.82563474e-02,\n",
              "         2.34034434e-02,  5.96883297e-02,  5.67955188e-02,\n",
              "        -6.93545714e-02, -3.37195117e-03, -5.72033077e-02,\n",
              "        -5.41793294e-02, -3.84896360e-02,  3.49403322e-02,\n",
              "         7.38476962e-02,  6.85845390e-02, -3.79768200e-02,\n",
              "         5.46930991e-02, -3.19429673e-02, -5.68127036e-02,\n",
              "        -2.26606652e-02,  4.00098972e-02,  6.31672889e-02,\n",
              "         4.86873314e-02,  3.47477272e-02, -5.63265495e-02,\n",
              "         7.24593848e-02, -2.72702668e-02, -4.46854383e-02,\n",
              "         2.55792029e-02,  5.09223789e-02, -2.50711851e-03,\n",
              "         4.58002649e-02, -3.73414792e-02, -7.26136938e-02,\n",
              "        -6.64192289e-02,  4.29699197e-02,  2.56265718e-02,\n",
              "         4.24085185e-02, -5.88099994e-02,  4.52234177e-03,\n",
              "         3.55326664e-03,  4.86258306e-02, -1.50389792e-02,\n",
              "         2.37472765e-02,  6.35966212e-02,  7.20710382e-02,\n",
              "         6.95095584e-02,  6.40121326e-02, -1.02111502e-02,\n",
              "        -1.92721132e-02,  5.04767001e-02,  2.11314932e-02,\n",
              "        -6.38626665e-02, -3.26965153e-02, -2.30298117e-02,\n",
              "        -5.33094108e-02, -3.73196378e-02, -1.59006957e-02,\n",
              "         1.42000504e-02,  6.11965097e-02, -5.51782548e-02,\n",
              "        -4.07593362e-02,  6.74399287e-02, -4.27811071e-02,\n",
              "         4.35142458e-04, -3.35729904e-02, -2.26655826e-02,\n",
              "        -2.40103584e-02, -1.31547414e-02,  6.94743246e-02,\n",
              "        -6.17141128e-02, -2.67724413e-02,  5.60750328e-02,\n",
              "        -9.52184480e-03, -1.53167183e-02,  4.29541944e-03,\n",
              "        -4.69367206e-02, -3.59858596e-03,  2.06099963e-03,\n",
              "         6.33350015e-02, -6.75259605e-02,  6.69657737e-02,\n",
              "        -2.06188913e-02, -1.26818498e-03, -1.15155689e-02,\n",
              "         6.21311218e-02, -4.58371826e-04, -3.41736302e-02,\n",
              "        -1.75617244e-02,  1.03707416e-02,  1.02916565e-02,\n",
              "        -4.80593145e-02, -3.69699672e-02,  2.20400393e-02,\n",
              "         2.16500517e-02, -3.67380306e-03,  2.80255750e-02,\n",
              "        -5.73854037e-02, -2.53611058e-02,  1.37891909e-02,\n",
              "        -2.52894852e-02, -7.27577806e-02, -6.66060820e-02,\n",
              "        -5.41702285e-03, -4.65516150e-02,  9.74802300e-03,\n",
              "         3.08196386e-03, -4.29336689e-02,  5.12200221e-02,\n",
              "         1.59049984e-02,  1.00757238e-02, -5.05730435e-02,\n",
              "         4.27076705e-02, -8.04355741e-03, -5.09695373e-02,\n",
              "         5.75136058e-02, -5.14892414e-02, -6.81230426e-02,\n",
              "        -3.04143857e-02, -4.05817404e-02,  4.59391512e-02,\n",
              "        -2.69545559e-02, -2.99676135e-02,  5.18090427e-02,\n",
              "         2.36977953e-02,  1.13172354e-02, -6.46370500e-02,\n",
              "         6.82497174e-02,  7.00982064e-02,  4.30829972e-02,\n",
              "        -6.36457056e-02,  5.98689876e-02,  6.35235310e-02,\n",
              "        -8.55076872e-03,  1.52078709e-02, -3.96662243e-02,\n",
              "         1.23055896e-03,  6.72157556e-02,  8.39540455e-03,\n",
              "        -6.08186498e-02, -5.53804338e-02,  6.73229620e-02,\n",
              "         6.95179924e-02, -7.10771084e-02,  6.43362030e-02,\n",
              "        -3.11495662e-02,  2.06590742e-02,  7.14130774e-02,\n",
              "         5.07607497e-02, -4.86644804e-02, -4.56003062e-02,\n",
              "        -6.53447211e-02,  4.78789955e-03, -6.03177473e-02,\n",
              "        -9.94142983e-03,  4.86375913e-02, -5.27790971e-02,\n",
              "        -7.01432526e-02, -7.08187893e-02,  8.09112843e-03,\n",
              "        -6.16308041e-02, -4.94344756e-02,  4.43925373e-02,\n",
              "         2.01746114e-02, -5.96629418e-02,  4.08650190e-03,\n",
              "         2.28152405e-02, -3.47793810e-02, -2.28498168e-02,\n",
              "        -4.92632799e-02, -4.55865934e-02, -4.80185375e-02,\n",
              "         9.04283253e-04,  2.24870872e-02, -1.44319376e-02,\n",
              "        -6.42892569e-02, -7.40384758e-02, -4.06171806e-04,\n",
              "        -2.52493843e-02,  4.52752970e-03, -3.91692817e-02,\n",
              "        -5.23372851e-02, -5.46336472e-02]], dtype=float32)>"
            ]
          },
          "metadata": {},
          "execution_count": 40
        }
      ]
    },
    {
      "cell_type": "markdown",
      "metadata": {
        "id": "eC9AZ9WmaaQ1"
      },
      "source": [
        "## Preparing the Dataset for Character Level Embeddings:\n",
        "\n",
        "\n"
      ]
    },
    {
      "cell_type": "code",
      "execution_count": 41,
      "metadata": {
        "id": "XuPEXIhh_0Cw"
      },
      "outputs": [],
      "source": [
        "# convert the sentence to the character level:\n",
        "char_level_train_sentences = list(map(lambda z:\" \".join(list(z)),train_abstract_list))\n",
        "char_level_test_sentences = list(map(lambda z:\" \".join(list(z)),test_abstract_list))\n",
        "char_level_dev_sentences = list(map(lambda z:\" \".join(list(z)),dev_abstract_list))"
      ]
    },
    {
      "cell_type": "code",
      "execution_count": 42,
      "metadata": {
        "colab": {
          "base_uri": "https://localhost:8080/"
        },
        "id": "hLLn6AW8_6Dw",
        "outputId": "1b3670d8-df53-4914-e357-fe55348e72ba"
      },
      "outputs": [
        {
          "output_type": "execute_result",
          "data": {
            "text/plain": [
              "['T o   i n v e s t i g a t e   t h e   e f f i c a c y   o f   @   w e e k s   o f   d a i l y   l o w - d o s e   o r a l   p r e d n i s o l o n e   i n   i m p r o v i n g   p a i n   ,   m o b i l i t y   ,   a n d   s y s t e m i c   l o w - g r a d e   i n f l a m m a t i o n   i n   t h e   s h o r t   t e r m   a n d   w h e t h e r   t h e   e f f e c t   w o u l d   b e   s u s t a i n e d   a t   @   w e e k s   i n   o l d e r   a d u l t s   w i t h   m o d e r a t e   t o   s e v e r e   k n e e   o s t e o a r t h r i t i s   (   O A   )   .',\n",
              " 'A   t o t a l   o f   @   p a t i e n t s   w i t h   p r i m a r y   k n e e   O A   w e r e   r a n d o m i z e d   @ : @   ;   @   r e c e i v e d   @   m g / d a y   o f   p r e d n i s o l o n e   a n d   @   r e c e i v e d   p l a c e b o   f o r   @   w e e k s   .',\n",
              " 'O u t c o m e   m e a s u r e s   i n c l u d e d   p a i n   r e d u c t i o n   a n d   i m p r o v e m e n t   i n   f u n c t i o n   s c o r e s   a n d   s y s t e m i c   i n f l a m m a t i o n   m a r k e r s   .',\n",
              " 'P a i n   w a s   a s s e s s e d   u s i n g   t h e   v i s u a l   a n a l o g   p a i n   s c a l e   (   @ - @   m m   )   .',\n",
              " 'S e c o n d a r y   o u t c o m e   m e a s u r e s   i n c l u d e d   t h e   W e s t e r n   O n t a r i o   a n d   M c M a s t e r   U n i v e r s i t i e s   O s t e o a r t h r i t i s   I n d e x   s c o r e s   ,   p a t i e n t   g l o b a l   a s s e s s m e n t   (   P G A   )   o f   t h e   s e v e r i t y   o f   k n e e   O A   ,   a n d   @ - m i n   w a l k   d i s t a n c e   (   @ M W D   )   .']"
            ]
          },
          "metadata": {},
          "execution_count": 42
        }
      ],
      "source": [
        "# Take look:\n",
        "char_level_train_sentences[:5]"
      ]
    },
    {
      "cell_type": "code",
      "execution_count": 43,
      "metadata": {
        "colab": {
          "base_uri": "https://localhost:8080/"
        },
        "id": "5njE0_EADYkn",
        "outputId": "e2ae666f-9eed-478b-85a8-ca5dff2af3df"
      },
      "outputs": [
        {
          "output_type": "execute_result",
          "data": {
            "text/plain": [
              "174.70452677182848"
            ]
          },
          "metadata": {},
          "execution_count": 43
        }
      ],
      "source": [
        "count_char_list = [len(char.split(\" \")) for char in char_level_train_sentences]\n",
        "average_length = sum(count_char_list)/len(count_char_list)\n",
        "average_length"
      ]
    },
    {
      "cell_type": "code",
      "execution_count": 44,
      "metadata": {
        "colab": {
          "base_uri": "https://localhost:8080/",
          "height": 600
        },
        "id": "2YmZjnKuEZzx",
        "outputId": "c7d6f8cf-2fda-4e5a-8bbc-07099e25a8fe"
      },
      "outputs": [
        {
          "output_type": "display_data",
          "data": {
            "text/plain": [
              "<Figure size 1200x700 with 2 Axes>"
            ],
            "image/png": "[encoded data removed]"
          },
          "metadata": {}
        }
      ],
      "source": [
        "# Plot the Distribution:\n",
        "fig, axes = plt.subplots(1,2,figsize=(12,7))\n",
        "axes[0].boxplot(count_char_list)\n",
        "axes[1].hist(count_char_list);"
      ]
    },
    {
      "cell_type": "code",
      "execution_count": 45,
      "metadata": {
        "colab": {
          "base_uri": "https://localhost:8080/"
        },
        "id": "lucXp7hQGY74",
        "outputId": "ec54bb97-1535-4392-c679-646006ee7417"
      },
      "outputs": [
        {
          "output_type": "stream",
          "name": "stdout",
          "text": [
            "95 Percentile: 342.0\n",
            "Max length: 1681\n"
          ]
        }
      ],
      "source": [
        "# Check the 95 percentile:\n",
        "print(f\"95 Percentile: {np.percentile(count_char_list,95)}\")\n",
        "print(f\"Max length: {max(count_char_list)}\")"
      ]
    },
    {
      "cell_type": "code",
      "execution_count": 46,
      "metadata": {
        "colab": {
          "base_uri": "https://localhost:8080/"
        },
        "id": "oKGHOCzyKOBH",
        "outputId": "83853d07-843e-4b65-ac18-77973951f897"
      },
      "outputs": [
        {
          "output_type": "stream",
          "name": "stdout",
          "text": [
            "abcdefghijklmnopqrstuvwxyz0123456789!\"#$%&'()*+,-./:;<=>?@[\\]^_`{|}~ \n",
            "Total length: 69\n"
          ]
        }
      ],
      "source": [
        "import string\n",
        "\n",
        "# Create a list of all possible keyboard characters\n",
        "keyboard_characters = list(string.ascii_lowercase + string.digits + string.punctuation + \" \")\n",
        "print(\"\".join(keyboard_characters))\n",
        "print(f\"Total length: {len(keyboard_characters)}\")"
      ]
    },
    {
      "cell_type": "code",
      "execution_count": 47,
      "metadata": {
        "id": "DSe5cNwhIDf1"
      },
      "outputs": [],
      "source": [
        "# Setting the max vocab size:\n",
        "max_size_vocab = 350\n",
        "\n",
        "# create the Vectorizor layer:\n",
        "char_vectorizor = layers.TextVectorization(max_tokens = 70,\n",
        "                                           standardize='lower',\n",
        "                                           output_sequence_length =max_size_vocab )\n",
        "char_vectorizor.adapt(char_level_train_sentences)"
      ]
    },
    {
      "cell_type": "code",
      "execution_count": 48,
      "metadata": {
        "colab": {
          "base_uri": "https://localhost:8080/"
        },
        "id": "z28IyIznMnpw",
        "outputId": "36c514d0-047c-412a-a147-2d3974024f6d"
      },
      "outputs": [
        {
          "output_type": "execute_result",
          "data": {
            "text/plain": [
              "57"
            ]
          },
          "metadata": {},
          "execution_count": 48
        }
      ],
      "source": [
        "char_vocab = char_vectorizor.get_vocabulary()\n",
        "len(char_vocab)"
      ]
    },
    {
      "cell_type": "code",
      "execution_count": 49,
      "metadata": {
        "id": "1uqyDU6OQtlE"
      },
      "outputs": [],
      "source": [
        "# Create the layer for the Feature Embeddings:\n",
        "char_embeddings = layers.Embedding(input_dim=len(char_vocab),\n",
        "                                   output_dim = 25, # Given in the Paper\n",
        "                                   mask_zero=True)"
      ]
    },
    {
      "cell_type": "code",
      "execution_count": 50,
      "metadata": {
        "colab": {
          "base_uri": "https://localhost:8080/"
        },
        "id": "fkeb7uUmSHMn",
        "outputId": "6c495197-0f4b-4dfb-ca82-fff568ab65a8"
      },
      "outputs": [
        {
          "output_type": "stream",
          "name": "stdout",
          "text": [
            "Random sentence: \n",
            "S i m i l a r   r e s u l t s   w e r e   f o u n d   w i t h   t h e   n o n s p e c i f i c   a g o n i s t   t h r o m b i n   r e c e p t o r - a c t i v a t e d   p e p t i d e   (   r e l a t i v e   i n c r e a s e s   o f   @   %   f o r   m a x i m a l   p l a t e l e t   a g g r e g a t i o n   ,   p   =   @   ,   a n d   @   %   f o r   r e s i d u a l   p l a t e l e t   a g g r e g a t i o n   ,   p   =   @   )   b u t   n o t   w i t h   c o l l a g e n   o r   a r a c h i d o n i c   a c i d   a g o n i s t s   .\n",
            "\n",
            "Sentence character length: 221\n",
            "\n",
            "Vectorize Version:\n",
            "[[ 9  4 15  4 12  5  8  8  2  9 16 12  3  9 21  2  8  2 17  7 16  6 10 21\n",
            "   4  3 13  3 13  2  6  7  6  9 14  2 11  4 17  4 11  5 18  7  6  4  9  3\n",
            "   3 13  8  7 15 23  4  6  8  2 11  2 14  3  7  8 26  5 11  3  4 22  5  3\n",
            "   2 10 14  2 14  3  4 10  2 28  8  2 12  5  3  4 22  2  4  6 11  8  2  5\n",
            "   9  2  9  7 17 19 31 17  7  8 15  5 30  4 15  5 12 14 12  5  3  2 12  2\n",
            "   3  5 18 18  8  2 18  5  3  4  7  6 24 14 33 19 24  5  6 10 19 31 17  7\n",
            "   8  8  2  9  4 10 16  5 12 14 12  5  3  2 12  2  3  5 18 18  8  2 18  5\n",
            "   3  4  7  6 24 14 33 19 27 23 16  3  6  7  3 21  4  3 13 11  7 12 12  5\n",
            "  18  2  6  7  8  5  8  5 11 13  4 10  7  6  4 11  5 11  4 10  5 18  7  6\n",
            "   4  9  3  9 25  0  0  0  0  0  0  0  0  0  0  0  0  0  0  0  0  0  0  0\n",
            "   0  0  0  0  0  0  0  0  0  0  0  0  0  0  0  0  0  0  0  0  0  0  0  0\n",
            "   0  0  0  0  0  0  0  0  0  0  0  0  0  0  0  0  0  0  0  0  0  0  0  0\n",
            "   0  0  0  0  0  0  0  0  0  0  0  0  0  0  0  0  0  0  0  0  0  0  0  0\n",
            "   0  0  0  0  0  0  0  0  0  0  0  0  0  0  0  0  0  0  0  0  0  0  0  0\n",
            "   0  0  0  0  0  0  0  0  0  0  0  0  0  0]]\n",
            "\n",
            "Vectorizor length: 1\n",
            "\n",
            "Embeddings:\n",
            "[[[ 0.03006772  0.04045383  0.01218725 ... -0.00459415  0.01994004\n",
            "    0.02841927]\n",
            "  [-0.03560686 -0.03999149  0.03337405 ...  0.02973635  0.02031586\n",
            "    0.04233046]\n",
            "  [ 0.01541052  0.02592516 -0.02909225 ... -0.04992572  0.04794172\n",
            "   -0.03577807]\n",
            "  ...\n",
            "  [-0.02006322 -0.00737393 -0.04790961 ... -0.03072469 -0.02038565\n",
            "   -0.03844194]\n",
            "  [-0.02006322 -0.00737393 -0.04790961 ... -0.03072469 -0.02038565\n",
            "   -0.03844194]\n",
            "  [-0.02006322 -0.00737393 -0.04790961 ... -0.03072469 -0.02038565\n",
            "   -0.03844194]]]\n",
            " Embeddings shape: (1, 350, 25) \n"
          ]
        }
      ],
      "source": [
        "# Check the data on the random sentences:\n",
        "random_sentence = random.choice(char_level_train_sentences)\n",
        "print(f\"Random sentence: \\n{random_sentence}\")\n",
        "print(f\"\\nSentence character length: {len(random_sentence.split())}\")\n",
        "print(f\"\\nVectorize Version:\\n{char_vectorizor([random_sentence])}\\n\\nVectorizor length: {len(char_vectorizor([random_sentence]))}\")\n",
        "print(f\"\\nEmbeddings:\\n{char_embeddings(char_vectorizor([random_sentence]))}\\n Embeddings shape: {char_embeddings(char_vectorizor([random_sentence])).shape} \")"
      ]
    },
    {
      "cell_type": "code",
      "execution_count": 51,
      "metadata": {
        "colab": {
          "base_uri": "https://localhost:8080/"
        },
        "id": "Bu8CER4IkGrf",
        "outputId": "7790e609-7419-4361-bad7-0604c64fbc09"
      },
      "outputs": [
        {
          "output_type": "stream",
          "name": "stdout",
          "text": [
            "Model: \"paper_model_without_label_encoding\"\n",
            "__________________________________________________________________________________________________\n",
            " Layer (type)                Output Shape                 Param #   Connected to                  \n",
            "==================================================================================================\n",
            " char_input (InputLayer)     [(None, 1)]                  0         []                            \n",
            "                                                                                                  \n",
            " token_input (InputLayer)    [(None,)]                    0         []                            \n",
            "                                                                                                  \n",
            " text_vectorization_1 (Text  (None, 350)                  0         ['char_input[0][0]']          \n",
            " Vectorization)                                                                                   \n",
            "                                                                                                  \n",
            " universal_sentence_encoder  (None, 512)                  2567978   ['token_input[0][0]']         \n",
            "  (KerasLayer)                                            24                                      \n",
            "                                                                                                  \n",
            " embedding_1 (Embedding)     (None, 350, 25)              1425      ['text_vectorization_1[0][0]']\n",
            "                                                                                                  \n",
            " dense (Dense)               (None, 300)                  153900    ['universal_sentence_encoder[0\n",
            "                                                                    ][0]']                        \n",
            "                                                                                                  \n",
            " bidirectional (Bidirection  (None, 50)                   10200     ['embedding_1[0][0]']         \n",
            " al)                                                                                              \n",
            "                                                                                                  \n",
            " concatenate (Concatenate)   (None, 350)                  0         ['dense[0][0]',               \n",
            "                                                                     'bidirectional[0][0]']       \n",
            "                                                                                                  \n",
            " reshape (Reshape)           (None, 35, 10)               0         ['concatenate[0][0]']         \n",
            "                                                                                                  \n",
            " dropout (Dropout)           (None, 35, 10)               0         ['reshape[0][0]']             \n",
            "                                                                                                  \n",
            " bidirectional_1 (Bidirecti  (None, 200)                  88800     ['dropout[0][0]']             \n",
            " onal)                                                                                            \n",
            "                                                                                                  \n",
            " dense_1 (Dense)             (None, 64)                   12864     ['bidirectional_1[0][0]']     \n",
            "                                                                                                  \n",
            " dropout_1 (Dropout)         (None, 64)                   0         ['dense_1[0][0]']             \n",
            "                                                                                                  \n",
            " dense_2 (Dense)             (None, 5)                    325       ['dropout_1[0][0]']           \n",
            "                                                                                                  \n",
            "==================================================================================================\n",
            "Total params: 257065338 (980.63 MB)\n",
            "Trainable params: 267514 (1.02 MB)\n",
            "Non-trainable params: 256797824 (979.61 MB)\n",
            "__________________________________________________________________________________________________\n"
          ]
        }
      ],
      "source": [
        "# Create the model step by step:\n",
        "\n",
        "# 1. Model for Token Embedding:\n",
        "token_input = layers.Input(shape = [],dtype=tf.string, name = 'token_input')\n",
        "token_embeddings = tf_hub_embedding_layer(token_input)\n",
        "token_output = layers.Dense(300,activation='relu')(token_embeddings)\n",
        "token_model = tf.keras.Model(inputs=token_input,\n",
        "                             outputs = token_output)\n",
        "\n",
        "# 2.Model for char embedding:\n",
        "char_input = layers.Input(shape=(1,), dtype=tf.string, name = 'char_input')\n",
        "char_vector = char_vectorizor(char_input)\n",
        "char_embedding = char_embeddings(char_vector)\n",
        "char_bi_dir_lstm = layers.Bidirectional(layers.LSTM(25))(char_embedding)\n",
        "char_model = tf.keras.Model(inputs = char_input,\n",
        "                            outputs = char_bi_dir_lstm)\n",
        "\n",
        "# Concatenate the both embeddings and add a dropout regularization:\n",
        "token_char_concatenate = layers.Concatenate(name='concatenate')([token_model.output,char_model.output])\n",
        "reshape_layer = layers.Reshape((35,10))(token_char_concatenate)\n",
        "regularization_1 = layers.Dropout(0.5)(reshape_layer)\n",
        "\n",
        "# Create a another Bidirectional LSTM:\n",
        "bi_dir_lstm = layers.Bidirectional(layers.LSTM(100))(regularization_1)\n",
        "dense_layer = layers.Dense(64,activation='relu')(bi_dir_lstm)\n",
        "regularization_2 = layers.Dropout(0.5)(dense_layer)\n",
        "output_layer = layers.Dense(5,activation='softmax')(regularization_2)\n",
        "\n",
        "model_1 = tf.keras.Model(inputs=[token_model.input, char_model.input],\n",
        "                         outputs=output_layer,\n",
        "                         name=\"paper_model_without_label_encoding\")\n",
        "model_1.summary()"
      ]
    },
    {
      "cell_type": "code",
      "execution_count": 52,
      "metadata": {
        "colab": {
          "base_uri": "https://localhost:8080/",
          "height": 1000
        },
        "id": "rQBDs1_9bLv5",
        "outputId": "e64654d3-9be8-4065-aaf1-5598bb2d6934"
      },
      "outputs": [
        {
          "output_type": "execute_result",
          "data": {
            "image/png": "[encoded data removed]",
            "text/plain": [
              "<IPython.core.display.Image object>"
            ]
          },
          "metadata": {},
          "execution_count": 52
        }
      ],
      "source": [
        "# Plot hybrid token and character model\n",
        "from tensorflow.keras.utils import plot_model\n",
        "plot_model(model_1,show_shapes=True)"
      ]
    },
    {
      "cell_type": "code",
      "execution_count": 53,
      "metadata": {
        "id": "iK1htQC2b4bX"
      },
      "outputs": [],
      "source": [
        "# Preprocess the data using tensorflow api:\n",
        "# Train data:\n",
        "model_1_train_data = tf.data.Dataset.from_tensor_slices((train_abstract_list,char_level_train_sentences))\n",
        "model_1_train_labels = tf.data.Dataset.from_tensor_slices((train_target_one_hot))\n",
        "train_data = tf.data.Dataset.zip(model_1_train_data,model_1_train_labels).batch(32).prefetch(tf.data.AUTOTUNE)\n",
        "\n",
        "# Test data:\n",
        "model_1_test_data = tf.data.Dataset.from_tensor_slices((test_abstract_list,char_level_test_sentences))\n",
        "model_1_test_labels = tf.data.Dataset.from_tensor_slices((test_target_one_hot))\n",
        "test_data = tf.data.Dataset.zip(model_1_test_data,model_1_test_labels).batch(32).prefetch(tf.data.AUTOTUNE)\n",
        "\n",
        "# Dev data:\n",
        "model_1_dev_data = tf.data.Dataset.from_tensor_slices((dev_abstract_list,char_level_dev_sentences))\n",
        "model_1_dev_labels = tf.data.Dataset.from_tensor_slices((dev_target_one_hot))\n",
        "dev_data = tf.data.Dataset.zip(model_1_dev_data,model_1_dev_labels).batch(32).prefetch(tf.data.AUTOTUNE)"
      ]
    },
    {
      "cell_type": "code",
      "execution_count": 54,
      "metadata": {
        "id": "mZ1_MWyVJG-o"
      },
      "outputs": [],
      "source": [
        "# Compile the model:\n",
        "model_1.compile(loss='categorical_crossentropy',\n",
        "                optimizer=tf.keras.optimizers.Adam(),\n",
        "                metrics=['accuracy'])"
      ]
    },
    {
      "cell_type": "code",
      "execution_count": 55,
      "metadata": {
        "colab": {
          "base_uri": "https://localhost:8080/"
        },
        "id": "HDmzWLBuJKRh",
        "outputId": "31b44e09-6212-4f07-b224-ff3662c32735"
      },
      "outputs": [
        {
          "output_type": "stream",
          "name": "stdout",
          "text": [
            "Epoch 1/3\n",
            "5627/5627 [==============================] - 275s 46ms/step - loss: 0.8199 - accuracy: 0.6856 - val_loss: 0.6782 - val_accuracy: 0.7460\n",
            "Epoch 2/3\n",
            "5627/5627 [==============================] - 252s 45ms/step - loss: 0.6982 - accuracy: 0.7434 - val_loss: 0.6362 - val_accuracy: 0.7609\n",
            "Epoch 3/3\n",
            "5627/5627 [==============================] - 248s 44ms/step - loss: 0.6641 - accuracy: 0.7561 - val_loss: 0.6307 - val_accuracy: 0.7643\n"
          ]
        }
      ],
      "source": [
        "# Fit the model:\n",
        "model_1_history = model_1.fit(train_data,\n",
        "                              steps_per_epoch=len(train_data),\n",
        "                              epochs=3,\n",
        "                              validation_data=dev_data,\n",
        "                              validation_steps=int(0.5 * len(dev_data)))"
      ]
    },
    {
      "cell_type": "code",
      "execution_count": 56,
      "metadata": {
        "colab": {
          "base_uri": "https://localhost:8080/"
        },
        "id": "JO2iA2qUp9K0",
        "outputId": "3e36fcb1-e46e-4aa1-910a-784faa89f756"
      },
      "outputs": [
        {
          "output_type": "stream",
          "name": "stdout",
          "text": [
            "942/942 [==============================] - 25s 23ms/step\n"
          ]
        },
        {
          "output_type": "execute_result",
          "data": {
            "text/plain": [
              "array([4, 2, 2, 2, 4])"
            ]
          },
          "metadata": {},
          "execution_count": 56
        }
      ],
      "source": [
        "model_1_predictions = model_1.predict(dev_data).argmax(axis=-1)\n",
        "model_1_predictions[:5]"
      ]
    },
    {
      "cell_type": "code",
      "execution_count": 57,
      "metadata": {
        "id": "3ecOOqnAhXpG",
        "colab": {
          "base_uri": "https://localhost:8080/"
        },
        "outputId": "aae73ecc-8fdb-44d4-e42a-b25202a2c8d8"
      },
      "outputs": [
        {
          "output_type": "execute_result",
          "data": {
            "text/plain": [
              "{'accuracy': 76.71146507383442,\n",
              " 'precision': 0.7638979450055032,\n",
              " 'recall': 0.7671146507383442,\n",
              " 'f1': 0.7605939452798027}"
            ]
          },
          "metadata": {},
          "execution_count": 57
        }
      ],
      "source": [
        "# Generate the scores:\n",
        "model_1_scores = calculate_results(y_true = dev_target_label_encode,\n",
        "                               y_pred = model_1_predictions)\n",
        "model_1_scores"
      ]
    },
    {
      "cell_type": "markdown",
      "metadata": {
        "id": "pTLxkMDXiAlC"
      },
      "source": [
        "# Model_2: Model in Paper with label Encoding\n",
        "\n"
      ]
    },
    {
      "cell_type": "markdown",
      "metadata": {
        "id": "OZzlf6NniFPm"
      },
      "source": [
        "## Convert the line_number and total_lines into oneHotEncode as described in the paper"
      ]
    },
    {
      "cell_type": "code",
      "execution_count": 58,
      "metadata": {
        "id": "tfvn3D4gsuww",
        "colab": {
          "base_uri": "https://localhost:8080/",
          "height": 206
        },
        "outputId": "3c7ef7fc-7c3c-4ebb-e74c-c36bebba1f93"
      },
      "outputs": [
        {
          "output_type": "execute_result",
          "data": {
            "text/plain": [
              "      target                                               text  line_number  \\\n",
              "0  OBJECTIVE  To investigate the efficacy of @ weeks of dail...            0   \n",
              "1    METHODS  A total of @ patients with primary knee OA wer...            1   \n",
              "2    METHODS  Outcome measures included pain reduction and i...            2   \n",
              "3    METHODS  Pain was assessed using the visual analog pain...            3   \n",
              "4    METHODS  Secondary outcome measures included the Wester...            4   \n",
              "\n",
              "   total_lines  \n",
              "0           11  \n",
              "1           11  \n",
              "2           11  \n",
              "3           11  \n",
              "4           11  "
            ],
            "text/html": [
              "\n",
              "  <div id=\"df-23b29f18-c464-4b7f-b5e4-b91b4ebc451b\" class=\"colab-df-container\">\n",
              "    <div>\n",
              "<style scoped>\n",
              "    .dataframe tbody tr th:only-of-type {\n",
              "        vertical-align: middle;\n",
              "    }\n",
              "\n",
              "    .dataframe tbody tr th {\n",
              "        vertical-align: top;\n",
              "    }\n",
              "\n",
              "    .dataframe thead th {\n",
              "        text-align: right;\n",
              "    }\n",
              "</style>\n",
              "<table border=\"1\" class=\"dataframe\">\n",
              "  <thead>\n",
              "    <tr style=\"text-align: right;\">\n",
              "      <th></th>\n",
              "      <th>target</th>\n",
              "      <th>text</th>\n",
              "      <th>line_number</th>\n",
              "      <th>total_lines</th>\n",
              "    </tr>\n",
              "  </thead>\n",
              "  <tbody>\n",
              "    <tr>\n",
              "      <th>0</th>\n",
              "      <td>OBJECTIVE</td>\n",
              "      <td>To investigate the efficacy of @ weeks of dail...</td>\n",
              "      <td>0</td>\n",
              "      <td>11</td>\n",
              "    </tr>\n",
              "    <tr>\n",
              "      <th>1</th>\n",
              "      <td>METHODS</td>\n",
              "      <td>A total of @ patients with primary knee OA wer...</td>\n",
              "      <td>1</td>\n",
              "      <td>11</td>\n",
              "    </tr>\n",
              "    <tr>\n",
              "      <th>2</th>\n",
              "      <td>METHODS</td>\n",
              "      <td>Outcome measures included pain reduction and i...</td>\n",
              "      <td>2</td>\n",
              "      <td>11</td>\n",
              "    </tr>\n",
              "    <tr>\n",
              "      <th>3</th>\n",
              "      <td>METHODS</td>\n",
              "      <td>Pain was assessed using the visual analog pain...</td>\n",
              "      <td>3</td>\n",
              "      <td>11</td>\n",
              "    </tr>\n",
              "    <tr>\n",
              "      <th>4</th>\n",
              "      <td>METHODS</td>\n",
              "      <td>Secondary outcome measures included the Wester...</td>\n",
              "      <td>4</td>\n",
              "      <td>11</td>\n",
              "    </tr>\n",
              "  </tbody>\n",
              "</table>\n",
              "</div>\n",
              "    <div class=\"colab-df-buttons\">\n",
              "\n",
              "  <div class=\"colab-df-container\">\n",
              "    <button class=\"colab-df-convert\" onclick=\"convertToInteractive('df-23b29f18-c464-4b7f-b5e4-b91b4ebc451b')\"\n",
              "            title=\"Convert this dataframe to an interactive table.\"\n",
              "            style=\"display:none;\">\n",
              "\n",
              "  <svg xmlns=\"http://www.w3.org/2000/svg\" height=\"24px\" viewBox=\"0 -960 960 960\">\n",
              "    <path d=\"M120-120v-720h720v720H120Zm60-500h600v-160H180v160Zm220 220h160v-160H400v160Zm0 220h160v-160H400v160ZM180-400h160v-160H180v160Zm440 0h160v-160H620v160ZM180-180h160v-160H180v160Zm440 0h160v-160H620v160Z\"/>\n",
              "  </svg>\n",
              "    </button>\n",
              "\n",
              "  <style>\n",
              "    .colab-df-container {\n",
              "      display:flex;\n",
              "      gap: 12px;\n",
              "    }\n",
              "\n",
              "    .colab-df-convert {\n",
              "      background-color: #E8F0FE;\n",
              "      border: none;\n",
              "      border-radius: 50%;\n",
              "      cursor: pointer;\n",
              "      display: none;\n",
              "      fill: #1967D2;\n",
              "      height: 32px;\n",
              "      padding: 0 0 0 0;\n",
              "      width: 32px;\n",
              "    }\n",
              "\n",
              "    .colab-df-convert:hover {\n",
              "      background-color: #E2EBFA;\n",
              "      box-shadow: 0px 1px 2px rgba(60, 64, 67, 0.3), 0px 1px 3px 1px rgba(60, 64, 67, 0.15);\n",
              "      fill: #174EA6;\n",
              "    }\n",
              "\n",
              "    .colab-df-buttons div {\n",
              "      margin-bottom: 4px;\n",
              "    }\n",
              "\n",
              "    [theme=dark] .colab-df-convert {\n",
              "      background-color: #3B4455;\n",
              "      fill: #D2E3FC;\n",
              "    }\n",
              "\n",
              "    [theme=dark] .colab-df-convert:hover {\n",
              "      background-color: #434B5C;\n",
              "      box-shadow: 0px 1px 3px 1px rgba(0, 0, 0, 0.15);\n",
              "      filter: drop-shadow(0px 1px 2px rgba(0, 0, 0, 0.3));\n",
              "      fill: #FFFFFF;\n",
              "    }\n",
              "  </style>\n",
              "\n",
              "    <script>\n",
              "      const buttonEl =\n",
              "        document.querySelector('#df-23b29f18-c464-4b7f-b5e4-b91b4ebc451b button.colab-df-convert');\n",
              "      buttonEl.style.display =\n",
              "        google.colab.kernel.accessAllowed ? 'block' : 'none';\n",
              "\n",
              "      async function convertToInteractive(key) {\n",
              "        const element = document.querySelector('#df-23b29f18-c464-4b7f-b5e4-b91b4ebc451b');\n",
              "        const dataTable =\n",
              "          await google.colab.kernel.invokeFunction('convertToInteractive',\n",
              "                                                    [key], {});\n",
              "        if (!dataTable) return;\n",
              "\n",
              "        const docLinkHtml = 'Like what you see? Visit the ' +\n",
              "          '<a target=\"_blank\" href=https://colab.research.google.com/notebooks/data_table.ipynb>data table notebook</a>'\n",
              "          + ' to learn more about interactive tables.';\n",
              "        element.innerHTML = '';\n",
              "        dataTable['output_type'] = 'display_data';\n",
              "        await google.colab.output.renderOutput(dataTable, element);\n",
              "        const docLink = document.createElement('div');\n",
              "        docLink.innerHTML = docLinkHtml;\n",
              "        element.appendChild(docLink);\n",
              "      }\n",
              "    </script>\n",
              "  </div>\n",
              "\n",
              "\n",
              "<div id=\"df-3c452b4d-f85f-4562-a061-9edbff335732\">\n",
              "  <button class=\"colab-df-quickchart\" onclick=\"quickchart('df-3c452b4d-f85f-4562-a061-9edbff335732')\"\n",
              "            title=\"Suggest charts\"\n",
              "            style=\"display:none;\">\n",
              "\n",
              "<svg xmlns=\"http://www.w3.org/2000/svg\" height=\"24px\"viewBox=\"0 0 24 24\"\n",
              "     width=\"24px\">\n",
              "    <g>\n",
              "        <path d=\"M19 3H5c-1.1 0-2 .9-2 2v14c0 1.1.9 2 2 2h14c1.1 0 2-.9 2-2V5c0-1.1-.9-2-2-2zM9 17H7v-7h2v7zm4 0h-2V7h2v10zm4 0h-2v-4h2v4z\"/>\n",
              "    </g>\n",
              "</svg>\n",
              "  </button>\n",
              "\n",
              "<style>\n",
              "  .colab-df-quickchart {\n",
              "      --bg-color: #E8F0FE;\n",
              "      --fill-color: #1967D2;\n",
              "      --hover-bg-color: #E2EBFA;\n",
              "      --hover-fill-color: #174EA6;\n",
              "      --disabled-fill-color: #AAA;\n",
              "      --disabled-bg-color: #DDD;\n",
              "  }\n",
              "\n",
              "  [theme=dark] .colab-df-quickchart {\n",
              "      --bg-color: #3B4455;\n",
              "      --fill-color: #D2E3FC;\n",
              "      --hover-bg-color: #434B5C;\n",
              "      --hover-fill-color: #FFFFFF;\n",
              "      --disabled-bg-color: #3B4455;\n",
              "      --disabled-fill-color: #666;\n",
              "  }\n",
              "\n",
              "  .colab-df-quickchart {\n",
              "    background-color: var(--bg-color);\n",
              "    border: none;\n",
              "    border-radius: 50%;\n",
              "    cursor: pointer;\n",
              "    display: none;\n",
              "    fill: var(--fill-color);\n",
              "    height: 32px;\n",
              "    padding: 0;\n",
              "    width: 32px;\n",
              "  }\n",
              "\n",
              "  .colab-df-quickchart:hover {\n",
              "    background-color: var(--hover-bg-color);\n",
              "    box-shadow: 0 1px 2px rgba(60, 64, 67, 0.3), 0 1px 3px 1px rgba(60, 64, 67, 0.15);\n",
              "    fill: var(--button-hover-fill-color);\n",
              "  }\n",
              "\n",
              "  .colab-df-quickchart-complete:disabled,\n",
              "  .colab-df-quickchart-complete:disabled:hover {\n",
              "    background-color: var(--disabled-bg-color);\n",
              "    fill: var(--disabled-fill-color);\n",
              "    box-shadow: none;\n",
              "  }\n",
              "\n",
              "  .colab-df-spinner {\n",
              "    border: 2px solid var(--fill-color);\n",
              "    border-color: transparent;\n",
              "    border-bottom-color: var(--fill-color);\n",
              "    animation:\n",
              "      spin 1s steps(1) infinite;\n",
              "  }\n",
              "\n",
              "  @keyframes spin {\n",
              "    0% {\n",
              "      border-color: transparent;\n",
              "      border-bottom-color: var(--fill-color);\n",
              "      border-left-color: var(--fill-color);\n",
              "    }\n",
              "    20% {\n",
              "      border-color: transparent;\n",
              "      border-left-color: var(--fill-color);\n",
              "      border-top-color: var(--fill-color);\n",
              "    }\n",
              "    30% {\n",
              "      border-color: transparent;\n",
              "      border-left-color: var(--fill-color);\n",
              "      border-top-color: var(--fill-color);\n",
              "      border-right-color: var(--fill-color);\n",
              "    }\n",
              "    40% {\n",
              "      border-color: transparent;\n",
              "      border-right-color: var(--fill-color);\n",
              "      border-top-color: var(--fill-color);\n",
              "    }\n",
              "    60% {\n",
              "      border-color: transparent;\n",
              "      border-right-color: var(--fill-color);\n",
              "    }\n",
              "    80% {\n",
              "      border-color: transparent;\n",
              "      border-right-color: var(--fill-color);\n",
              "      border-bottom-color: var(--fill-color);\n",
              "    }\n",
              "    90% {\n",
              "      border-color: transparent;\n",
              "      border-bottom-color: var(--fill-color);\n",
              "    }\n",
              "  }\n",
              "</style>\n",
              "\n",
              "  <script>\n",
              "    async function quickchart(key) {\n",
              "      const quickchartButtonEl =\n",
              "        document.querySelector('#' + key + ' button');\n",
              "      quickchartButtonEl.disabled = true;  // To prevent multiple clicks.\n",
              "      quickchartButtonEl.classList.add('colab-df-spinner');\n",
              "      try {\n",
              "        const charts = await google.colab.kernel.invokeFunction(\n",
              "            'suggestCharts', [key], {});\n",
              "      } catch (error) {\n",
              "        console.error('Error during call to suggestCharts:', error);\n",
              "      }\n",
              "      quickchartButtonEl.classList.remove('colab-df-spinner');\n",
              "      quickchartButtonEl.classList.add('colab-df-quickchart-complete');\n",
              "    }\n",
              "    (() => {\n",
              "      let quickchartButtonEl =\n",
              "        document.querySelector('#df-3c452b4d-f85f-4562-a061-9edbff335732 button');\n",
              "      quickchartButtonEl.style.display =\n",
              "        google.colab.kernel.accessAllowed ? 'block' : 'none';\n",
              "    })();\n",
              "  </script>\n",
              "</div>\n",
              "\n",
              "    </div>\n",
              "  </div>\n"
            ],
            "application/vnd.google.colaboratory.intrinsic+json": {
              "type": "dataframe",
              "variable_name": "train_sample_df"
            }
          },
          "metadata": {},
          "execution_count": 58
        }
      ],
      "source": [
        "train_sample_df.head()"
      ]
    },
    {
      "cell_type": "code",
      "execution_count": 59,
      "metadata": {
        "id": "2nMPlTAQAn_E",
        "colab": {
          "base_uri": "https://localhost:8080/"
        },
        "outputId": "5a15b7a5-76fc-46eb-aba0-5a7f4cff8cb6"
      },
      "outputs": [
        {
          "output_type": "execute_result",
          "data": {
            "text/plain": [
              "line_number\n",
              "0     15000\n",
              "1     15000\n",
              "2     15000\n",
              "3     15000\n",
              "4     14992\n",
              "5     14949\n",
              "6     14758\n",
              "7     14279\n",
              "8     13346\n",
              "9     11981\n",
              "10    10041\n",
              "11     7892\n",
              "12     5853\n",
              "13     4152\n",
              "14     2835\n",
              "15     1861\n",
              "16     1188\n",
              "17      751\n",
              "18      462\n",
              "19      286\n",
              "20      162\n",
              "21      101\n",
              "22       66\n",
              "23       33\n",
              "24       22\n",
              "25       14\n",
              "26        7\n",
              "27        4\n",
              "28        3\n",
              "29        1\n",
              "30        1\n",
              "Name: count, dtype: int64"
            ]
          },
          "metadata": {},
          "execution_count": 59
        }
      ],
      "source": [
        "train_sample_df.line_number.value_counts()"
      ]
    },
    {
      "cell_type": "code",
      "execution_count": 60,
      "metadata": {
        "id": "j6W0dSX6Atyv",
        "colab": {
          "base_uri": "https://localhost:8080/",
          "height": 599
        },
        "outputId": "3a0e7159-b274-48ba-b1b1-bae0a6082329"
      },
      "outputs": [
        {
          "output_type": "display_data",
          "data": {
            "text/plain": [
              "<Figure size 1000x700 with 2 Axes>"
            ],
            "image/png": "[encoded data removed]"
          },
          "metadata": {}
        }
      ],
      "source": [
        "fig,axes=plt.subplots(1,2,figsize=(10,7))\n",
        "axes[0].boxplot(train_sample_df.line_number)\n",
        "axes[1].hist(train_sample_df.line_number);"
      ]
    },
    {
      "cell_type": "code",
      "execution_count": 61,
      "metadata": {
        "id": "l_6zBycbEw1m",
        "colab": {
          "base_uri": "https://localhost:8080/"
        },
        "outputId": "487908c2-1920-47ea-fdc1-3297fb3ef594"
      },
      "outputs": [
        {
          "output_type": "execute_result",
          "data": {
            "text/plain": [
              "15.0"
            ]
          },
          "metadata": {},
          "execution_count": 61
        }
      ],
      "source": [
        "np.percentile(train_sample_df.line_number,98)"
      ]
    },
    {
      "cell_type": "code",
      "execution_count": 62,
      "metadata": {
        "id": "DvIYdFfRE5ot",
        "colab": {
          "base_uri": "https://localhost:8080/",
          "height": 599
        },
        "outputId": "3137437a-7951-41df-e470-32fc28b6bea1"
      },
      "outputs": [
        {
          "output_type": "display_data",
          "data": {
            "text/plain": [
              "<Figure size 1000x700 with 2 Axes>"
            ],
            "image/png": "[encoded data removed]"
          },
          "metadata": {}
        }
      ],
      "source": [
        "fig,axes=plt.subplots(1,2,figsize=(10,7))\n",
        "axes[0].boxplot(train_sample_df.total_lines)\n",
        "axes[1].hist(train_sample_df.total_lines);"
      ]
    },
    {
      "cell_type": "code",
      "execution_count": 63,
      "metadata": {
        "id": "4g4ZQQEUF-60",
        "colab": {
          "base_uri": "https://localhost:8080/"
        },
        "outputId": "6feb20e6-b839-41e0-f89b-fe5eefdf919e"
      },
      "outputs": [
        {
          "output_type": "execute_result",
          "data": {
            "text/plain": [
              "20.0"
            ]
          },
          "metadata": {},
          "execution_count": 63
        }
      ],
      "source": [
        "np.percentile(train_sample_df.total_lines,98)"
      ]
    },
    {
      "cell_type": "code",
      "execution_count": 64,
      "metadata": {
        "id": "fyvmVZNmGUMI"
      },
      "outputs": [],
      "source": [
        "# Create the one_hot_encoder for line_number:\n",
        "train_line_number_onehot = tf.one_hot(train_sample_df.line_number,depth=15)\n",
        "test_line_number_onehot = tf.one_hot(test_sample_df.line_number,depth=15)\n",
        "dev_line_number_onehot = tf.one_hot(dev_sample_df.line_number,depth=15)"
      ]
    },
    {
      "cell_type": "code",
      "execution_count": 65,
      "metadata": {
        "id": "0dIYC3XhH4Xh"
      },
      "outputs": [],
      "source": [
        "# Create the one_hot_encoder for total_lines:\n",
        "train_line_total_onehot = tf.one_hot(train_sample_df.total_lines,depth=20)\n",
        "test_line_total_onehot = tf.one_hot(test_sample_df.total_lines,depth=20)\n",
        "dev_line_total_onehot = tf.one_hot(dev_sample_df.total_lines,depth=20)"
      ]
    },
    {
      "cell_type": "code",
      "execution_count": 66,
      "metadata": {
        "colab": {
          "base_uri": "https://localhost:8080/"
        },
        "id": "pQ0okJgNIk22",
        "outputId": "288930b9-ebaa-48b1-ef96-0da6a2df35b7"
      },
      "outputs": [
        {
          "output_type": "stream",
          "name": "stdout",
          "text": [
            "Model: \"model_4_token_and_char_embeddings\"\n",
            "__________________________________________________________________________________________________\n",
            " Layer (type)                Output Shape                 Param #   Connected to                  \n",
            "==================================================================================================\n",
            " char_input (InputLayer)     [(None, 1)]                  0         []                            \n",
            "                                                                                                  \n",
            " text_vectorization_1 (Text  (None, 350)                  0         ['char_input[0][0]']          \n",
            " Vectorization)                                                                                   \n",
            "                                                                                                  \n",
            " token_input (InputLayer)    [(None,)]                    0         []                            \n",
            "                                                                                                  \n",
            " embedding_1 (Embedding)     (None, 350, 25)              1425      ['text_vectorization_1[1][0]']\n",
            "                                                                                                  \n",
            " universal_sentence_encoder  (None, 512)                  2567978   ['token_input[0][0]']         \n",
            "  (KerasLayer)                                            24                                      \n",
            "                                                                                                  \n",
            " bidirectional_2 (Bidirecti  (None, 50)                   10200     ['embedding_1[1][0]']         \n",
            " onal)                                                                                            \n",
            "                                                                                                  \n",
            " line_number_input (InputLa  [(None, 15)]                 0         []                            \n",
            " yer)                                                                                             \n",
            "                                                                                                  \n",
            " total_lines_input (InputLa  [(None, 20)]                 0         []                            \n",
            " yer)                                                                                             \n",
            "                                                                                                  \n",
            " dense_3 (Dense)             (None, 300)                  153900    ['universal_sentence_encoder[1\n",
            "                                                                    ][0]']                        \n",
            "                                                                                                  \n",
            " dropout_2 (Dropout)         (None, 50)                   0         ['bidirectional_2[0][0]']     \n",
            "                                                                                                  \n",
            " dense_4 (Dense)             (None, 32)                   512       ['line_number_input[0][0]']   \n",
            "                                                                                                  \n",
            " dense_5 (Dense)             (None, 32)                   672       ['total_lines_input[0][0]']   \n",
            "                                                                                                  \n",
            " concatenate (Concatenate)   (None, 414)                  0         ['dense_3[0][0]',             \n",
            "                                                                     'dropout_2[0][0]',           \n",
            "                                                                     'dense_4[0][0]',             \n",
            "                                                                     'dense_5[0][0]']             \n",
            "                                                                                                  \n",
            " dense_layer (Dense)         (None, 320)                  132800    ['concatenate[0][0]']         \n",
            "                                                                                                  \n",
            " reshape_1 (Reshape)         (None, 32, 10)               0         ['dense_layer[0][0]']         \n",
            "                                                                                                  \n",
            " bidirectional_3 (Bidirecti  (None, 200)                  88800     ['reshape_1[0][0]']           \n",
            " onal)                                                                                            \n",
            "                                                                                                  \n",
            " dense_7 (Dense)             (None, 5)                    1005      ['bidirectional_3[0][0]']     \n",
            "                                                                                                  \n",
            "==================================================================================================\n",
            "Total params: 257187138 (981.09 MB)\n",
            "Trainable params: 389314 (1.49 MB)\n",
            "Non-trainable params: 256797824 (979.61 MB)\n",
            "__________________________________________________________________________________________________\n"
          ]
        }
      ],
      "source": [
        "# 1. Model for Token Embedding:\n",
        "token_input = layers.Input(shape = [],dtype=tf.string, name = 'token_input')\n",
        "token_embeddings = tf_hub_embedding_layer(token_input)\n",
        "token_output = layers.Dense(300,activation='relu')(token_embeddings)\n",
        "token_model = tf.keras.Model(inputs=token_input,\n",
        "                             outputs = token_output)\n",
        "\n",
        "# 2.Model for char embedding:\n",
        "char_input = layers.Input(shape=(1,), dtype=tf.string, name = 'char_input')\n",
        "char_vector = char_vectorizor(char_input)\n",
        "char_embedding = char_embeddings(char_vector)\n",
        "char_bi_dir_lstm = layers.Bidirectional(layers.LSTM(25))(char_embedding)\n",
        "regularization = layers.Dropout(0.5)(char_bi_dir_lstm )\n",
        "char_model = tf.keras.Model(inputs = char_input,\n",
        "                            outputs = regularization)\n",
        "# Line numbers inputs\n",
        "line_number_inputs = layers.Input(shape=(15,), dtype=tf.int32, name=\"line_number_input\")\n",
        "x = layers.Dense(32, activation=\"relu\")(line_number_inputs)\n",
        "line_number_model = tf.keras.Model(inputs=line_number_inputs,\n",
        "                                   outputs=x)\n",
        "\n",
        "# Total lines inputs\n",
        "total_lines_inputs = layers.Input(shape=(20,), dtype=tf.int32, name=\"total_lines_input\")\n",
        "y = layers.Dense(32, activation=\"relu\")(total_lines_inputs)\n",
        "total_line_model= tf.keras.Model(inputs=total_lines_inputs,\n",
        "                                  outputs=y)\n",
        "\n",
        "# Concatenate the both embeddings and add a dropout regularization:\n",
        "token_char_concatenate = layers.Concatenate(name='concatenate')([token_model.output,char_model.output,line_number_model.output,total_line_model.output])\n",
        "dense_layer = layers.Dense(320,activation='relu',name='dense_layer')(token_char_concatenate)\n",
        "reshape_layer = layers.Reshape((32,10))(dense_layer)\n",
        "\n",
        "\n",
        "# Create a another Bidirectional LSTM:\n",
        "bi_dir_lstm = layers.Bidirectional(layers.LSTM(100))(reshape_layer)\n",
        "dense_layer_2 = layers.Dense(64,activation='relu')(bi_dir_lstm)\n",
        "regularization_2 = layers.Dropout(0.5)(dense_layer_2)\n",
        "output_layer = layers.Dense(5,activation='softmax')(bi_dir_lstm)\n",
        "model_2 = tf.keras.Model(inputs=[token_model.input, char_model.input,line_number_model.input,total_line_model.input],\n",
        "                         outputs=output_layer,\n",
        "                         name=\"model_4_token_and_char_embeddings\")\n",
        "\n",
        "model_2.summary()"
      ]
    },
    {
      "cell_type": "code",
      "execution_count": 67,
      "metadata": {
        "colab": {
          "base_uri": "https://localhost:8080/",
          "height": 1000
        },
        "id": "C9n1iJcAz1n8",
        "outputId": "2e057714-49bc-432c-fe3b-f5392f675ac8"
      },
      "outputs": [
        {
          "output_type": "execute_result",
          "data": {
            "image/png": "[encoded data removed]",
            "text/plain": [
              "<IPython.core.display.Image object>"
            ]
          },
          "metadata": {},
          "execution_count": 67
        }
      ],
      "source": [
        "# Plot hybrid token and character model\n",
        "from tensorflow.keras.utils import plot_model\n",
        "plot_model(model_2,show_shapes=True)"
      ]
    },
    {
      "cell_type": "code",
      "execution_count": 68,
      "metadata": {
        "id": "bUlvRBRnQerN"
      },
      "outputs": [],
      "source": [
        "# Train data:\n",
        "model_2_train_data = tf.data.Dataset.from_tensor_slices((train_abstract_list,char_level_train_sentences,train_line_number_onehot,train_line_total_onehot))\n",
        "model_2_train_labels = tf.data.Dataset.from_tensor_slices((train_target_one_hot))\n",
        "train_data = tf.data.Dataset.zip(model_2_train_data,model_2_train_labels).batch(32).prefetch(tf.data.AUTOTUNE)\n",
        "\n",
        "# Test data:\n",
        "model_2_test_data = tf.data.Dataset.from_tensor_slices((test_abstract_list,char_level_test_sentences,test_line_number_onehot,test_line_total_onehot))\n",
        "model_2_test_labels = tf.data.Dataset.from_tensor_slices((test_target_one_hot))\n",
        "test_data = tf.data.Dataset.zip(model_2_test_data,model_2_test_labels).batch(32).prefetch(tf.data.AUTOTUNE)\n",
        "\n",
        "# Dev data:\n",
        "model_2_dev_data = tf.data.Dataset.from_tensor_slices((dev_abstract_list,char_level_dev_sentences,dev_line_number_onehot,dev_line_total_onehot))\n",
        "model_2_dev_labels = tf.data.Dataset.from_tensor_slices((dev_target_one_hot))\n",
        "dev_data = tf.data.Dataset.zip(model_2_dev_data,model_2_dev_labels).batch(32).prefetch(tf.data.AUTOTUNE)"
      ]
    },
    {
      "cell_type": "code",
      "execution_count": 69,
      "metadata": {
        "id": "tnNVzLXdQFBW"
      },
      "outputs": [],
      "source": [
        "# Compile the model:\n",
        "model_2.compile(loss='categorical_crossentropy',\n",
        "                optimizer=tf.keras.optimizers.Adam(),\n",
        "                metrics=['accuracy'])"
      ]
    },
    {
      "cell_type": "code",
      "execution_count": 70,
      "metadata": {
        "id": "aAZZYC7KR0ks",
        "colab": {
          "base_uri": "https://localhost:8080/"
        },
        "outputId": "8d0311cd-554a-48de-9f94-fd4c81338047"
      },
      "outputs": [
        {
          "output_type": "stream",
          "name": "stdout",
          "text": [
            "Epoch 1/3\n",
            "5627/5627 [==============================] - 269s 45ms/step - loss: 0.4121 - accuracy: 0.8397 - val_loss: 0.3548 - val_accuracy: 0.8645\n",
            "Epoch 2/3\n",
            "5627/5627 [==============================] - 248s 44ms/step - loss: 0.3271 - accuracy: 0.8760 - val_loss: 0.3413 - val_accuracy: 0.8695\n",
            "Epoch 3/3\n",
            "5627/5627 [==============================] - 263s 47ms/step - loss: 0.2960 - accuracy: 0.8889 - val_loss: 0.3429 - val_accuracy: 0.8702\n"
          ]
        }
      ],
      "source": [
        "model_2_history = model_2.fit(train_data,\n",
        "                              steps_per_epoch=len(train_data),\n",
        "                              epochs=3,\n",
        "                              validation_data=dev_data,\n",
        "                              validation_steps=int(0.5 * len(dev_data)))"
      ]
    },
    {
      "cell_type": "code",
      "execution_count": 71,
      "metadata": {
        "id": "X_RTE4l4T7v4",
        "colab": {
          "base_uri": "https://localhost:8080/"
        },
        "outputId": "df659679-5ffc-431a-d560-188b97ee87e3"
      },
      "outputs": [
        {
          "output_type": "stream",
          "name": "stdout",
          "text": [
            "942/942 [==============================] - 24s 22ms/step\n"
          ]
        }
      ],
      "source": [
        "model_2_prediction = model_2.predict(dev_data).argmax(axis=-1)"
      ]
    },
    {
      "cell_type": "code",
      "execution_count": 72,
      "metadata": {
        "id": "asIeWCaeUSmB",
        "colab": {
          "base_uri": "https://localhost:8080/"
        },
        "outputId": "6aa3c7de-5409-4059-a89e-9582cea267bc"
      },
      "outputs": [
        {
          "output_type": "execute_result",
          "data": {
            "text/plain": [
              "{'accuracy': 87.42326198772193,\n",
              " 'precision': 0.8743793597936238,\n",
              " 'recall': 0.8742326198772192,\n",
              " 'f1': 0.8714549314167612}"
            ]
          },
          "metadata": {},
          "execution_count": 72
        }
      ],
      "source": [
        "val_scores_model_2 = calculate_results(y_true = dev_target_label_encode,\n",
        "                               y_pred = model_2_prediction)\n",
        "val_scores_model_2"
      ]
    },
    {
      "cell_type": "markdown",
      "source": [
        "## Now check the model on the Test data:"
      ],
      "metadata": {
        "id": "i1tNmrW_U7_A"
      }
    },
    {
      "cell_type": "code",
      "source": [
        "test_sample_df.head()"
      ],
      "metadata": {
        "colab": {
          "base_uri": "https://localhost:8080/",
          "height": 206
        },
        "id": "TnLQX3ddXUwo",
        "outputId": "a125b940-4dbf-49a1-d3af-2b2f29995977"
      },
      "execution_count": 73,
      "outputs": [
        {
          "output_type": "execute_result",
          "data": {
            "text/plain": [
              "       target                                               text  line_number  \\\n",
              "0  BACKGROUND  IgE sensitization to Aspergillus fumigatus and...            0   \n",
              "1  BACKGROUND  It is not clear whether these patients would b...            1   \n",
              "2   OBJECTIVE  We sought to determine whether a @-month cours...            2   \n",
              "3     METHODS  Asthmatic patients who were IgE sensitized to ...            3   \n",
              "4     METHODS  Primary outcomes were improvement in quality o...            4   \n",
              "\n",
              "   total_lines  \n",
              "0            9  \n",
              "1            9  \n",
              "2            9  \n",
              "3            9  \n",
              "4            9  "
            ],
            "text/html": [
              "\n",
              "  <div id=\"df-f3c699bf-6e90-4c55-85b3-920c5736a71e\" class=\"colab-df-container\">\n",
              "    <div>\n",
              "<style scoped>\n",
              "    .dataframe tbody tr th:only-of-type {\n",
              "        vertical-align: middle;\n",
              "    }\n",
              "\n",
              "    .dataframe tbody tr th {\n",
              "        vertical-align: top;\n",
              "    }\n",
              "\n",
              "    .dataframe thead th {\n",
              "        text-align: right;\n",
              "    }\n",
              "</style>\n",
              "<table border=\"1\" class=\"dataframe\">\n",
              "  <thead>\n",
              "    <tr style=\"text-align: right;\">\n",
              "      <th></th>\n",
              "      <th>target</th>\n",
              "      <th>text</th>\n",
              "      <th>line_number</th>\n",
              "      <th>total_lines</th>\n",
              "    </tr>\n",
              "  </thead>\n",
              "  <tbody>\n",
              "    <tr>\n",
              "      <th>0</th>\n",
              "      <td>BACKGROUND</td>\n",
              "      <td>IgE sensitization to Aspergillus fumigatus and...</td>\n",
              "      <td>0</td>\n",
              "      <td>9</td>\n",
              "    </tr>\n",
              "    <tr>\n",
              "      <th>1</th>\n",
              "      <td>BACKGROUND</td>\n",
              "      <td>It is not clear whether these patients would b...</td>\n",
              "      <td>1</td>\n",
              "      <td>9</td>\n",
              "    </tr>\n",
              "    <tr>\n",
              "      <th>2</th>\n",
              "      <td>OBJECTIVE</td>\n",
              "      <td>We sought to determine whether a @-month cours...</td>\n",
              "      <td>2</td>\n",
              "      <td>9</td>\n",
              "    </tr>\n",
              "    <tr>\n",
              "      <th>3</th>\n",
              "      <td>METHODS</td>\n",
              "      <td>Asthmatic patients who were IgE sensitized to ...</td>\n",
              "      <td>3</td>\n",
              "      <td>9</td>\n",
              "    </tr>\n",
              "    <tr>\n",
              "      <th>4</th>\n",
              "      <td>METHODS</td>\n",
              "      <td>Primary outcomes were improvement in quality o...</td>\n",
              "      <td>4</td>\n",
              "      <td>9</td>\n",
              "    </tr>\n",
              "  </tbody>\n",
              "</table>\n",
              "</div>\n",
              "    <div class=\"colab-df-buttons\">\n",
              "\n",
              "  <div class=\"colab-df-container\">\n",
              "    <button class=\"colab-df-convert\" onclick=\"convertToInteractive('df-f3c699bf-6e90-4c55-85b3-920c5736a71e')\"\n",
              "            title=\"Convert this dataframe to an interactive table.\"\n",
              "            style=\"display:none;\">\n",
              "\n",
              "  <svg xmlns=\"http://www.w3.org/2000/svg\" height=\"24px\" viewBox=\"0 -960 960 960\">\n",
              "    <path d=\"M120-120v-720h720v720H120Zm60-500h600v-160H180v160Zm220 220h160v-160H400v160Zm0 220h160v-160H400v160ZM180-400h160v-160H180v160Zm440 0h160v-160H620v160ZM180-180h160v-160H180v160Zm440 0h160v-160H620v160Z\"/>\n",
              "  </svg>\n",
              "    </button>\n",
              "\n",
              "  <style>\n",
              "    .colab-df-container {\n",
              "      display:flex;\n",
              "      gap: 12px;\n",
              "    }\n",
              "\n",
              "    .colab-df-convert {\n",
              "      background-color: #E8F0FE;\n",
              "      border: none;\n",
              "      border-radius: 50%;\n",
              "      cursor: pointer;\n",
              "      display: none;\n",
              "      fill: #1967D2;\n",
              "      height: 32px;\n",
              "      padding: 0 0 0 0;\n",
              "      width: 32px;\n",
              "    }\n",
              "\n",
              "    .colab-df-convert:hover {\n",
              "      background-color: #E2EBFA;\n",
              "      box-shadow: 0px 1px 2px rgba(60, 64, 67, 0.3), 0px 1px 3px 1px rgba(60, 64, 67, 0.15);\n",
              "      fill: #174EA6;\n",
              "    }\n",
              "\n",
              "    .colab-df-buttons div {\n",
              "      margin-bottom: 4px;\n",
              "    }\n",
              "\n",
              "    [theme=dark] .colab-df-convert {\n",
              "      background-color: #3B4455;\n",
              "      fill: #D2E3FC;\n",
              "    }\n",
              "\n",
              "    [theme=dark] .colab-df-convert:hover {\n",
              "      background-color: #434B5C;\n",
              "      box-shadow: 0px 1px 3px 1px rgba(0, 0, 0, 0.15);\n",
              "      filter: drop-shadow(0px 1px 2px rgba(0, 0, 0, 0.3));\n",
              "      fill: #FFFFFF;\n",
              "    }\n",
              "  </style>\n",
              "\n",
              "    <script>\n",
              "      const buttonEl =\n",
              "        document.querySelector('#df-f3c699bf-6e90-4c55-85b3-920c5736a71e button.colab-df-convert');\n",
              "      buttonEl.style.display =\n",
              "        google.colab.kernel.accessAllowed ? 'block' : 'none';\n",
              "\n",
              "      async function convertToInteractive(key) {\n",
              "        const element = document.querySelector('#df-f3c699bf-6e90-4c55-85b3-920c5736a71e');\n",
              "        const dataTable =\n",
              "          await google.colab.kernel.invokeFunction('convertToInteractive',\n",
              "                                                    [key], {});\n",
              "        if (!dataTable) return;\n",
              "\n",
              "        const docLinkHtml = 'Like what you see? Visit the ' +\n",
              "          '<a target=\"_blank\" href=https://colab.research.google.com/notebooks/data_table.ipynb>data table notebook</a>'\n",
              "          + ' to learn more about interactive tables.';\n",
              "        element.innerHTML = '';\n",
              "        dataTable['output_type'] = 'display_data';\n",
              "        await google.colab.output.renderOutput(dataTable, element);\n",
              "        const docLink = document.createElement('div');\n",
              "        docLink.innerHTML = docLinkHtml;\n",
              "        element.appendChild(docLink);\n",
              "      }\n",
              "    </script>\n",
              "  </div>\n",
              "\n",
              "\n",
              "<div id=\"df-e580d1b6-d76b-4bd5-a8ea-b7b1b9d0f779\">\n",
              "  <button class=\"colab-df-quickchart\" onclick=\"quickchart('df-e580d1b6-d76b-4bd5-a8ea-b7b1b9d0f779')\"\n",
              "            title=\"Suggest charts\"\n",
              "            style=\"display:none;\">\n",
              "\n",
              "<svg xmlns=\"http://www.w3.org/2000/svg\" height=\"24px\"viewBox=\"0 0 24 24\"\n",
              "     width=\"24px\">\n",
              "    <g>\n",
              "        <path d=\"M19 3H5c-1.1 0-2 .9-2 2v14c0 1.1.9 2 2 2h14c1.1 0 2-.9 2-2V5c0-1.1-.9-2-2-2zM9 17H7v-7h2v7zm4 0h-2V7h2v10zm4 0h-2v-4h2v4z\"/>\n",
              "    </g>\n",
              "</svg>\n",
              "  </button>\n",
              "\n",
              "<style>\n",
              "  .colab-df-quickchart {\n",
              "      --bg-color: #E8F0FE;\n",
              "      --fill-color: #1967D2;\n",
              "      --hover-bg-color: #E2EBFA;\n",
              "      --hover-fill-color: #174EA6;\n",
              "      --disabled-fill-color: #AAA;\n",
              "      --disabled-bg-color: #DDD;\n",
              "  }\n",
              "\n",
              "  [theme=dark] .colab-df-quickchart {\n",
              "      --bg-color: #3B4455;\n",
              "      --fill-color: #D2E3FC;\n",
              "      --hover-bg-color: #434B5C;\n",
              "      --hover-fill-color: #FFFFFF;\n",
              "      --disabled-bg-color: #3B4455;\n",
              "      --disabled-fill-color: #666;\n",
              "  }\n",
              "\n",
              "  .colab-df-quickchart {\n",
              "    background-color: var(--bg-color);\n",
              "    border: none;\n",
              "    border-radius: 50%;\n",
              "    cursor: pointer;\n",
              "    display: none;\n",
              "    fill: var(--fill-color);\n",
              "    height: 32px;\n",
              "    padding: 0;\n",
              "    width: 32px;\n",
              "  }\n",
              "\n",
              "  .colab-df-quickchart:hover {\n",
              "    background-color: var(--hover-bg-color);\n",
              "    box-shadow: 0 1px 2px rgba(60, 64, 67, 0.3), 0 1px 3px 1px rgba(60, 64, 67, 0.15);\n",
              "    fill: var(--button-hover-fill-color);\n",
              "  }\n",
              "\n",
              "  .colab-df-quickchart-complete:disabled,\n",
              "  .colab-df-quickchart-complete:disabled:hover {\n",
              "    background-color: var(--disabled-bg-color);\n",
              "    fill: var(--disabled-fill-color);\n",
              "    box-shadow: none;\n",
              "  }\n",
              "\n",
              "  .colab-df-spinner {\n",
              "    border: 2px solid var(--fill-color);\n",
              "    border-color: transparent;\n",
              "    border-bottom-color: var(--fill-color);\n",
              "    animation:\n",
              "      spin 1s steps(1) infinite;\n",
              "  }\n",
              "\n",
              "  @keyframes spin {\n",
              "    0% {\n",
              "      border-color: transparent;\n",
              "      border-bottom-color: var(--fill-color);\n",
              "      border-left-color: var(--fill-color);\n",
              "    }\n",
              "    20% {\n",
              "      border-color: transparent;\n",
              "      border-left-color: var(--fill-color);\n",
              "      border-top-color: var(--fill-color);\n",
              "    }\n",
              "    30% {\n",
              "      border-color: transparent;\n",
              "      border-left-color: var(--fill-color);\n",
              "      border-top-color: var(--fill-color);\n",
              "      border-right-color: var(--fill-color);\n",
              "    }\n",
              "    40% {\n",
              "      border-color: transparent;\n",
              "      border-right-color: var(--fill-color);\n",
              "      border-top-color: var(--fill-color);\n",
              "    }\n",
              "    60% {\n",
              "      border-color: transparent;\n",
              "      border-right-color: var(--fill-color);\n",
              "    }\n",
              "    80% {\n",
              "      border-color: transparent;\n",
              "      border-right-color: var(--fill-color);\n",
              "      border-bottom-color: var(--fill-color);\n",
              "    }\n",
              "    90% {\n",
              "      border-color: transparent;\n",
              "      border-bottom-color: var(--fill-color);\n",
              "    }\n",
              "  }\n",
              "</style>\n",
              "\n",
              "  <script>\n",
              "    async function quickchart(key) {\n",
              "      const quickchartButtonEl =\n",
              "        document.querySelector('#' + key + ' button');\n",
              "      quickchartButtonEl.disabled = true;  // To prevent multiple clicks.\n",
              "      quickchartButtonEl.classList.add('colab-df-spinner');\n",
              "      try {\n",
              "        const charts = await google.colab.kernel.invokeFunction(\n",
              "            'suggestCharts', [key], {});\n",
              "      } catch (error) {\n",
              "        console.error('Error during call to suggestCharts:', error);\n",
              "      }\n",
              "      quickchartButtonEl.classList.remove('colab-df-spinner');\n",
              "      quickchartButtonEl.classList.add('colab-df-quickchart-complete');\n",
              "    }\n",
              "    (() => {\n",
              "      let quickchartButtonEl =\n",
              "        document.querySelector('#df-e580d1b6-d76b-4bd5-a8ea-b7b1b9d0f779 button');\n",
              "      quickchartButtonEl.style.display =\n",
              "        google.colab.kernel.accessAllowed ? 'block' : 'none';\n",
              "    })();\n",
              "  </script>\n",
              "</div>\n",
              "\n",
              "    </div>\n",
              "  </div>\n"
            ],
            "application/vnd.google.colaboratory.intrinsic+json": {
              "type": "dataframe",
              "variable_name": "test_sample_df",
              "summary": "{\n  \"name\": \"test_sample_df\",\n  \"rows\": 30212,\n  \"fields\": [\n    {\n      \"column\": \"target\",\n      \"properties\": {\n        \"dtype\": \"category\",\n        \"num_unique_values\": 5,\n        \"samples\": [\n          \"OBJECTIVE\",\n          \"CONCLUSIONS\",\n          \"METHODS\"\n        ],\n        \"semantic_type\": \"\",\n        \"description\": \"\"\n      }\n    },\n    {\n      \"column\": \"text\",\n      \"properties\": {\n        \"dtype\": \"string\",\n        \"num_unique_values\": 29890,\n        \"samples\": [\n          \"A significant decrease in half time of total aggregation ( T @/@ ) and a rise in aggregation index ( AI ) after exercise were observed ; however , after the postexercise period these changes were reversed .\",\n          \"Forty-one undergraduates were randomly assigned into CBL group and traditional teaching group .\",\n          \"Primary endpoint was ACR@ response at Week @ .\"\n        ],\n        \"semantic_type\": \"\",\n        \"description\": \"\"\n      }\n    },\n    {\n      \"column\": \"line_number\",\n      \"properties\": {\n        \"dtype\": \"number\",\n        \"std\": 4,\n        \"min\": 0,\n        \"max\": 26,\n        \"num_unique_values\": 27,\n        \"samples\": [\n          8,\n          13,\n          9\n        ],\n        \"semantic_type\": \"\",\n        \"description\": \"\"\n      }\n    },\n    {\n      \"column\": \"total_lines\",\n      \"properties\": {\n        \"dtype\": \"number\",\n        \"std\": 3,\n        \"min\": 3,\n        \"max\": 26,\n        \"num_unique_values\": 23,\n        \"samples\": [\n          16,\n          20,\n          9\n        ],\n        \"semantic_type\": \"\",\n        \"description\": \"\"\n      }\n    }\n  ]\n}"
            }
          },
          "metadata": {},
          "execution_count": 73
        }
      ]
    },
    {
      "cell_type": "code",
      "source": [
        "test_predictions_prob = model_2.predict(test_data)\n",
        "test_predictions_label = test_predictions_prob.argmax(axis=-1)\n",
        "test_predictions_label"
      ],
      "metadata": {
        "colab": {
          "base_uri": "https://localhost:8080/"
        },
        "id": "ZuBqo1y1bAA9",
        "outputId": "c82eedf2-56e3-4345-851e-bdb553214c39"
      },
      "execution_count": 74,
      "outputs": [
        {
          "output_type": "stream",
          "name": "stdout",
          "text": [
            "945/945 [==============================] - 21s 22ms/step\n"
          ]
        },
        {
          "output_type": "execute_result",
          "data": {
            "text/plain": [
              "array([0, 0, 3, ..., 4, 1, 1])"
            ]
          },
          "metadata": {},
          "execution_count": 74
        }
      ]
    },
    {
      "cell_type": "code",
      "source": [
        "# calculate the score:\n",
        "test_scores_model_2 = calculate_results(y_true = test_target_label_encode,\n",
        "                               y_pred = test_predictions_label)\n",
        "test_scores_model_2"
      ],
      "metadata": {
        "colab": {
          "base_uri": "https://localhost:8080/"
        },
        "id": "pSCdAlpBgktV",
        "outputId": "23b9f2ed-4ecf-4215-b9e0-da853fcfdb0f"
      },
      "execution_count": 75,
      "outputs": [
        {
          "output_type": "execute_result",
          "data": {
            "text/plain": [
              "{'accuracy': 87.98821660267443,\n",
              " 'precision': 0.8807974775906164,\n",
              " 'recall': 0.8798821660267443,\n",
              " 'f1': 0.8769609758776244}"
            ]
          },
          "metadata": {},
          "execution_count": 75
        }
      ]
    },
    {
      "cell_type": "code",
      "source": [
        "test_prediction = [label_encoder_classes[i] for i in test_predictions_label]\n",
        "test_prediction[:5]"
      ],
      "metadata": {
        "id": "aGiZAfvMbGHG",
        "colab": {
          "base_uri": "https://localhost:8080/"
        },
        "outputId": "052a13a8-8adc-4a14-aaca-28d8626badfc"
      },
      "execution_count": 76,
      "outputs": [
        {
          "output_type": "execute_result",
          "data": {
            "text/plain": [
              "['BACKGROUND', 'BACKGROUND', 'OBJECTIVE', 'METHODS', 'METHODS']"
            ]
          },
          "metadata": {},
          "execution_count": 76
        }
      ]
    },
    {
      "cell_type": "code",
      "source": [
        "# Make the prediction column to the test dataset:\n",
        "test_sample_df['model_predictions'] = test_prediction"
      ],
      "metadata": {
        "id": "n2Rpox0lgeIc"
      },
      "execution_count": 77,
      "outputs": []
    },
    {
      "cell_type": "code",
      "source": [
        "test_sample_df.head()"
      ],
      "metadata": {
        "colab": {
          "base_uri": "https://localhost:8080/",
          "height": 206
        },
        "id": "woS48mL_hrnk",
        "outputId": "9ba0617c-74db-4b84-f0e3-3b9b9705c110"
      },
      "execution_count": 78,
      "outputs": [
        {
          "output_type": "execute_result",
          "data": {
            "text/plain": [
              "       target                                               text  line_number  \\\n",
              "0  BACKGROUND  IgE sensitization to Aspergillus fumigatus and...            0   \n",
              "1  BACKGROUND  It is not clear whether these patients would b...            1   \n",
              "2   OBJECTIVE  We sought to determine whether a @-month cours...            2   \n",
              "3     METHODS  Asthmatic patients who were IgE sensitized to ...            3   \n",
              "4     METHODS  Primary outcomes were improvement in quality o...            4   \n",
              "\n",
              "   total_lines model_predictions  \n",
              "0            9        BACKGROUND  \n",
              "1            9        BACKGROUND  \n",
              "2            9         OBJECTIVE  \n",
              "3            9           METHODS  \n",
              "4            9           METHODS  "
            ],
            "text/html": [
              "\n",
              "  <div id=\"df-11e6b584-32b0-43be-87c3-8cc6f1adf3ba\" class=\"colab-df-container\">\n",
              "    <div>\n",
              "<style scoped>\n",
              "    .dataframe tbody tr th:only-of-type {\n",
              "        vertical-align: middle;\n",
              "    }\n",
              "\n",
              "    .dataframe tbody tr th {\n",
              "        vertical-align: top;\n",
              "    }\n",
              "\n",
              "    .dataframe thead th {\n",
              "        text-align: right;\n",
              "    }\n",
              "</style>\n",
              "<table border=\"1\" class=\"dataframe\">\n",
              "  <thead>\n",
              "    <tr style=\"text-align: right;\">\n",
              "      <th></th>\n",
              "      <th>target</th>\n",
              "      <th>text</th>\n",
              "      <th>line_number</th>\n",
              "      <th>total_lines</th>\n",
              "      <th>model_predictions</th>\n",
              "    </tr>\n",
              "  </thead>\n",
              "  <tbody>\n",
              "    <tr>\n",
              "      <th>0</th>\n",
              "      <td>BACKGROUND</td>\n",
              "      <td>IgE sensitization to Aspergillus fumigatus and...</td>\n",
              "      <td>0</td>\n",
              "      <td>9</td>\n",
              "      <td>BACKGROUND</td>\n",
              "    </tr>\n",
              "    <tr>\n",
              "      <th>1</th>\n",
              "      <td>BACKGROUND</td>\n",
              "      <td>It is not clear whether these patients would b...</td>\n",
              "      <td>1</td>\n",
              "      <td>9</td>\n",
              "      <td>BACKGROUND</td>\n",
              "    </tr>\n",
              "    <tr>\n",
              "      <th>2</th>\n",
              "      <td>OBJECTIVE</td>\n",
              "      <td>We sought to determine whether a @-month cours...</td>\n",
              "      <td>2</td>\n",
              "      <td>9</td>\n",
              "      <td>OBJECTIVE</td>\n",
              "    </tr>\n",
              "    <tr>\n",
              "      <th>3</th>\n",
              "      <td>METHODS</td>\n",
              "      <td>Asthmatic patients who were IgE sensitized to ...</td>\n",
              "      <td>3</td>\n",
              "      <td>9</td>\n",
              "      <td>METHODS</td>\n",
              "    </tr>\n",
              "    <tr>\n",
              "      <th>4</th>\n",
              "      <td>METHODS</td>\n",
              "      <td>Primary outcomes were improvement in quality o...</td>\n",
              "      <td>4</td>\n",
              "      <td>9</td>\n",
              "      <td>METHODS</td>\n",
              "    </tr>\n",
              "  </tbody>\n",
              "</table>\n",
              "</div>\n",
              "    <div class=\"colab-df-buttons\">\n",
              "\n",
              "  <div class=\"colab-df-container\">\n",
              "    <button class=\"colab-df-convert\" onclick=\"convertToInteractive('df-11e6b584-32b0-43be-87c3-8cc6f1adf3ba')\"\n",
              "            title=\"Convert this dataframe to an interactive table.\"\n",
              "            style=\"display:none;\">\n",
              "\n",
              "  <svg xmlns=\"http://www.w3.org/2000/svg\" height=\"24px\" viewBox=\"0 -960 960 960\">\n",
              "    <path d=\"M120-120v-720h720v720H120Zm60-500h600v-160H180v160Zm220 220h160v-160H400v160Zm0 220h160v-160H400v160ZM180-400h160v-160H180v160Zm440 0h160v-160H620v160ZM180-180h160v-160H180v160Zm440 0h160v-160H620v160Z\"/>\n",
              "  </svg>\n",
              "    </button>\n",
              "\n",
              "  <style>\n",
              "    .colab-df-container {\n",
              "      display:flex;\n",
              "      gap: 12px;\n",
              "    }\n",
              "\n",
              "    .colab-df-convert {\n",
              "      background-color: #E8F0FE;\n",
              "      border: none;\n",
              "      border-radius: 50%;\n",
              "      cursor: pointer;\n",
              "      display: none;\n",
              "      fill: #1967D2;\n",
              "      height: 32px;\n",
              "      padding: 0 0 0 0;\n",
              "      width: 32px;\n",
              "    }\n",
              "\n",
              "    .colab-df-convert:hover {\n",
              "      background-color: #E2EBFA;\n",
              "      box-shadow: 0px 1px 2px rgba(60, 64, 67, 0.3), 0px 1px 3px 1px rgba(60, 64, 67, 0.15);\n",
              "      fill: #174EA6;\n",
              "    }\n",
              "\n",
              "    .colab-df-buttons div {\n",
              "      margin-bottom: 4px;\n",
              "    }\n",
              "\n",
              "    [theme=dark] .colab-df-convert {\n",
              "      background-color: #3B4455;\n",
              "      fill: #D2E3FC;\n",
              "    }\n",
              "\n",
              "    [theme=dark] .colab-df-convert:hover {\n",
              "      background-color: #434B5C;\n",
              "      box-shadow: 0px 1px 3px 1px rgba(0, 0, 0, 0.15);\n",
              "      filter: drop-shadow(0px 1px 2px rgba(0, 0, 0, 0.3));\n",
              "      fill: #FFFFFF;\n",
              "    }\n",
              "  </style>\n",
              "\n",
              "    <script>\n",
              "      const buttonEl =\n",
              "        document.querySelector('#df-11e6b584-32b0-43be-87c3-8cc6f1adf3ba button.colab-df-convert');\n",
              "      buttonEl.style.display =\n",
              "        google.colab.kernel.accessAllowed ? 'block' : 'none';\n",
              "\n",
              "      async function convertToInteractive(key) {\n",
              "        const element = document.querySelector('#df-11e6b584-32b0-43be-87c3-8cc6f1adf3ba');\n",
              "        const dataTable =\n",
              "          await google.colab.kernel.invokeFunction('convertToInteractive',\n",
              "                                                    [key], {});\n",
              "        if (!dataTable) return;\n",
              "\n",
              "        const docLinkHtml = 'Like what you see? Visit the ' +\n",
              "          '<a target=\"_blank\" href=https://colab.research.google.com/notebooks/data_table.ipynb>data table notebook</a>'\n",
              "          + ' to learn more about interactive tables.';\n",
              "        element.innerHTML = '';\n",
              "        dataTable['output_type'] = 'display_data';\n",
              "        await google.colab.output.renderOutput(dataTable, element);\n",
              "        const docLink = document.createElement('div');\n",
              "        docLink.innerHTML = docLinkHtml;\n",
              "        element.appendChild(docLink);\n",
              "      }\n",
              "    </script>\n",
              "  </div>\n",
              "\n",
              "\n",
              "<div id=\"df-91595f27-95ca-42de-8276-877ddaac4532\">\n",
              "  <button class=\"colab-df-quickchart\" onclick=\"quickchart('df-91595f27-95ca-42de-8276-877ddaac4532')\"\n",
              "            title=\"Suggest charts\"\n",
              "            style=\"display:none;\">\n",
              "\n",
              "<svg xmlns=\"http://www.w3.org/2000/svg\" height=\"24px\"viewBox=\"0 0 24 24\"\n",
              "     width=\"24px\">\n",
              "    <g>\n",
              "        <path d=\"M19 3H5c-1.1 0-2 .9-2 2v14c0 1.1.9 2 2 2h14c1.1 0 2-.9 2-2V5c0-1.1-.9-2-2-2zM9 17H7v-7h2v7zm4 0h-2V7h2v10zm4 0h-2v-4h2v4z\"/>\n",
              "    </g>\n",
              "</svg>\n",
              "  </button>\n",
              "\n",
              "<style>\n",
              "  .colab-df-quickchart {\n",
              "      --bg-color: #E8F0FE;\n",
              "      --fill-color: #1967D2;\n",
              "      --hover-bg-color: #E2EBFA;\n",
              "      --hover-fill-color: #174EA6;\n",
              "      --disabled-fill-color: #AAA;\n",
              "      --disabled-bg-color: #DDD;\n",
              "  }\n",
              "\n",
              "  [theme=dark] .colab-df-quickchart {\n",
              "      --bg-color: #3B4455;\n",
              "      --fill-color: #D2E3FC;\n",
              "      --hover-bg-color: #434B5C;\n",
              "      --hover-fill-color: #FFFFFF;\n",
              "      --disabled-bg-color: #3B4455;\n",
              "      --disabled-fill-color: #666;\n",
              "  }\n",
              "\n",
              "  .colab-df-quickchart {\n",
              "    background-color: var(--bg-color);\n",
              "    border: none;\n",
              "    border-radius: 50%;\n",
              "    cursor: pointer;\n",
              "    display: none;\n",
              "    fill: var(--fill-color);\n",
              "    height: 32px;\n",
              "    padding: 0;\n",
              "    width: 32px;\n",
              "  }\n",
              "\n",
              "  .colab-df-quickchart:hover {\n",
              "    background-color: var(--hover-bg-color);\n",
              "    box-shadow: 0 1px 2px rgba(60, 64, 67, 0.3), 0 1px 3px 1px rgba(60, 64, 67, 0.15);\n",
              "    fill: var(--button-hover-fill-color);\n",
              "  }\n",
              "\n",
              "  .colab-df-quickchart-complete:disabled,\n",
              "  .colab-df-quickchart-complete:disabled:hover {\n",
              "    background-color: var(--disabled-bg-color);\n",
              "    fill: var(--disabled-fill-color);\n",
              "    box-shadow: none;\n",
              "  }\n",
              "\n",
              "  .colab-df-spinner {\n",
              "    border: 2px solid var(--fill-color);\n",
              "    border-color: transparent;\n",
              "    border-bottom-color: var(--fill-color);\n",
              "    animation:\n",
              "      spin 1s steps(1) infinite;\n",
              "  }\n",
              "\n",
              "  @keyframes spin {\n",
              "    0% {\n",
              "      border-color: transparent;\n",
              "      border-bottom-color: var(--fill-color);\n",
              "      border-left-color: var(--fill-color);\n",
              "    }\n",
              "    20% {\n",
              "      border-color: transparent;\n",
              "      border-left-color: var(--fill-color);\n",
              "      border-top-color: var(--fill-color);\n",
              "    }\n",
              "    30% {\n",
              "      border-color: transparent;\n",
              "      border-left-color: var(--fill-color);\n",
              "      border-top-color: var(--fill-color);\n",
              "      border-right-color: var(--fill-color);\n",
              "    }\n",
              "    40% {\n",
              "      border-color: transparent;\n",
              "      border-right-color: var(--fill-color);\n",
              "      border-top-color: var(--fill-color);\n",
              "    }\n",
              "    60% {\n",
              "      border-color: transparent;\n",
              "      border-right-color: var(--fill-color);\n",
              "    }\n",
              "    80% {\n",
              "      border-color: transparent;\n",
              "      border-right-color: var(--fill-color);\n",
              "      border-bottom-color: var(--fill-color);\n",
              "    }\n",
              "    90% {\n",
              "      border-color: transparent;\n",
              "      border-bottom-color: var(--fill-color);\n",
              "    }\n",
              "  }\n",
              "</style>\n",
              "\n",
              "  <script>\n",
              "    async function quickchart(key) {\n",
              "      const quickchartButtonEl =\n",
              "        document.querySelector('#' + key + ' button');\n",
              "      quickchartButtonEl.disabled = true;  // To prevent multiple clicks.\n",
              "      quickchartButtonEl.classList.add('colab-df-spinner');\n",
              "      try {\n",
              "        const charts = await google.colab.kernel.invokeFunction(\n",
              "            'suggestCharts', [key], {});\n",
              "      } catch (error) {\n",
              "        console.error('Error during call to suggestCharts:', error);\n",
              "      }\n",
              "      quickchartButtonEl.classList.remove('colab-df-spinner');\n",
              "      quickchartButtonEl.classList.add('colab-df-quickchart-complete');\n",
              "    }\n",
              "    (() => {\n",
              "      let quickchartButtonEl =\n",
              "        document.querySelector('#df-91595f27-95ca-42de-8276-877ddaac4532 button');\n",
              "      quickchartButtonEl.style.display =\n",
              "        google.colab.kernel.accessAllowed ? 'block' : 'none';\n",
              "    })();\n",
              "  </script>\n",
              "</div>\n",
              "\n",
              "    </div>\n",
              "  </div>\n"
            ],
            "application/vnd.google.colaboratory.intrinsic+json": {
              "type": "dataframe",
              "variable_name": "test_sample_df",
              "summary": "{\n  \"name\": \"test_sample_df\",\n  \"rows\": 30212,\n  \"fields\": [\n    {\n      \"column\": \"target\",\n      \"properties\": {\n        \"dtype\": \"category\",\n        \"num_unique_values\": 5,\n        \"samples\": [\n          \"OBJECTIVE\",\n          \"CONCLUSIONS\",\n          \"METHODS\"\n        ],\n        \"semantic_type\": \"\",\n        \"description\": \"\"\n      }\n    },\n    {\n      \"column\": \"text\",\n      \"properties\": {\n        \"dtype\": \"string\",\n        \"num_unique_values\": 29890,\n        \"samples\": [\n          \"A significant decrease in half time of total aggregation ( T @/@ ) and a rise in aggregation index ( AI ) after exercise were observed ; however , after the postexercise period these changes were reversed .\",\n          \"Forty-one undergraduates were randomly assigned into CBL group and traditional teaching group .\",\n          \"Primary endpoint was ACR@ response at Week @ .\"\n        ],\n        \"semantic_type\": \"\",\n        \"description\": \"\"\n      }\n    },\n    {\n      \"column\": \"line_number\",\n      \"properties\": {\n        \"dtype\": \"number\",\n        \"std\": 4,\n        \"min\": 0,\n        \"max\": 26,\n        \"num_unique_values\": 27,\n        \"samples\": [\n          8,\n          13,\n          9\n        ],\n        \"semantic_type\": \"\",\n        \"description\": \"\"\n      }\n    },\n    {\n      \"column\": \"total_lines\",\n      \"properties\": {\n        \"dtype\": \"number\",\n        \"std\": 3,\n        \"min\": 3,\n        \"max\": 26,\n        \"num_unique_values\": 23,\n        \"samples\": [\n          16,\n          20,\n          9\n        ],\n        \"semantic_type\": \"\",\n        \"description\": \"\"\n      }\n    },\n    {\n      \"column\": \"model_predictions\",\n      \"properties\": {\n        \"dtype\": \"category\",\n        \"num_unique_values\": 5,\n        \"samples\": [\n          \"OBJECTIVE\",\n          \"CONCLUSIONS\",\n          \"METHODS\"\n        ],\n        \"semantic_type\": \"\",\n        \"description\": \"\"\n      }\n    }\n  ]\n}"
            }
          },
          "metadata": {},
          "execution_count": 78
        }
      ]
    },
    {
      "cell_type": "code",
      "source": [
        "# Check the columns with wrong predictions:\n",
        "wrong_predictions = test_sample_df.loc[test_sample_df.target != test_sample_df.model_predictions,:]\n",
        "wrong_predictions"
      ],
      "metadata": {
        "colab": {
          "base_uri": "https://localhost:8080/",
          "height": 423
        },
        "id": "mcdeSmnbhvXO",
        "outputId": "f7c20e91-e2bb-4b27-b60f-70c217ac79b3"
      },
      "execution_count": 79,
      "outputs": [
        {
          "output_type": "execute_result",
          "data": {
            "text/plain": [
              "            target                                               text  \\\n",
              "13       OBJECTIVE  The present pilot study tested the hypothesis ...   \n",
              "18         RESULTS  Naltrexone and alprazolam each significantly a...   \n",
              "24       OBJECTIVE  We tested the impact of conceptual instruction...   \n",
              "25       OBJECTIVE  We also examined the learning processes suppor...   \n",
              "26         METHODS  We worked with @ second - and third-grade chil...   \n",
              "...            ...                                                ...   \n",
              "30153   BACKGROUND  Various laboratory examinations , multi-detect...   \n",
              "30159   BACKGROUND  Comparison of state-designated primary and com...   \n",
              "30178      RESULTS  Factors positively associated with DAPT use we...   \n",
              "30184  CONCLUSIONS       Several correlates of DAPT were identified .   \n",
              "30186   BACKGROUND  The objective of this study was to assess the ...   \n",
              "\n",
              "       line_number  total_lines model_predictions  \n",
              "13               3           10        BACKGROUND  \n",
              "18               8           10       CONCLUSIONS  \n",
              "24               3           10        BACKGROUND  \n",
              "25               4           10        BACKGROUND  \n",
              "26               5           10           RESULTS  \n",
              "...            ...          ...               ...  \n",
              "30153            5           10           METHODS  \n",
              "30159            0           12         OBJECTIVE  \n",
              "30178            6           13           METHODS  \n",
              "30184           12           13           RESULTS  \n",
              "30186            0           11         OBJECTIVE  \n",
              "\n",
              "[3629 rows x 5 columns]"
            ],
            "text/html": [
              "\n",
              "  <div id=\"df-8398b55e-5cd8-4604-819f-b5f2f6b266a7\" class=\"colab-df-container\">\n",
              "    <div>\n",
              "<style scoped>\n",
              "    .dataframe tbody tr th:only-of-type {\n",
              "        vertical-align: middle;\n",
              "    }\n",
              "\n",
              "    .dataframe tbody tr th {\n",
              "        vertical-align: top;\n",
              "    }\n",
              "\n",
              "    .dataframe thead th {\n",
              "        text-align: right;\n",
              "    }\n",
              "</style>\n",
              "<table border=\"1\" class=\"dataframe\">\n",
              "  <thead>\n",
              "    <tr style=\"text-align: right;\">\n",
              "      <th></th>\n",
              "      <th>target</th>\n",
              "      <th>text</th>\n",
              "      <th>line_number</th>\n",
              "      <th>total_lines</th>\n",
              "      <th>model_predictions</th>\n",
              "    </tr>\n",
              "  </thead>\n",
              "  <tbody>\n",
              "    <tr>\n",
              "      <th>13</th>\n",
              "      <td>OBJECTIVE</td>\n",
              "      <td>The present pilot study tested the hypothesis ...</td>\n",
              "      <td>3</td>\n",
              "      <td>10</td>\n",
              "      <td>BACKGROUND</td>\n",
              "    </tr>\n",
              "    <tr>\n",
              "      <th>18</th>\n",
              "      <td>RESULTS</td>\n",
              "      <td>Naltrexone and alprazolam each significantly a...</td>\n",
              "      <td>8</td>\n",
              "      <td>10</td>\n",
              "      <td>CONCLUSIONS</td>\n",
              "    </tr>\n",
              "    <tr>\n",
              "      <th>24</th>\n",
              "      <td>OBJECTIVE</td>\n",
              "      <td>We tested the impact of conceptual instruction...</td>\n",
              "      <td>3</td>\n",
              "      <td>10</td>\n",
              "      <td>BACKGROUND</td>\n",
              "    </tr>\n",
              "    <tr>\n",
              "      <th>25</th>\n",
              "      <td>OBJECTIVE</td>\n",
              "      <td>We also examined the learning processes suppor...</td>\n",
              "      <td>4</td>\n",
              "      <td>10</td>\n",
              "      <td>BACKGROUND</td>\n",
              "    </tr>\n",
              "    <tr>\n",
              "      <th>26</th>\n",
              "      <td>METHODS</td>\n",
              "      <td>We worked with @ second - and third-grade chil...</td>\n",
              "      <td>5</td>\n",
              "      <td>10</td>\n",
              "      <td>RESULTS</td>\n",
              "    </tr>\n",
              "    <tr>\n",
              "      <th>...</th>\n",
              "      <td>...</td>\n",
              "      <td>...</td>\n",
              "      <td>...</td>\n",
              "      <td>...</td>\n",
              "      <td>...</td>\n",
              "    </tr>\n",
              "    <tr>\n",
              "      <th>30153</th>\n",
              "      <td>BACKGROUND</td>\n",
              "      <td>Various laboratory examinations , multi-detect...</td>\n",
              "      <td>5</td>\n",
              "      <td>10</td>\n",
              "      <td>METHODS</td>\n",
              "    </tr>\n",
              "    <tr>\n",
              "      <th>30159</th>\n",
              "      <td>BACKGROUND</td>\n",
              "      <td>Comparison of state-designated primary and com...</td>\n",
              "      <td>0</td>\n",
              "      <td>12</td>\n",
              "      <td>OBJECTIVE</td>\n",
              "    </tr>\n",
              "    <tr>\n",
              "      <th>30178</th>\n",
              "      <td>RESULTS</td>\n",
              "      <td>Factors positively associated with DAPT use we...</td>\n",
              "      <td>6</td>\n",
              "      <td>13</td>\n",
              "      <td>METHODS</td>\n",
              "    </tr>\n",
              "    <tr>\n",
              "      <th>30184</th>\n",
              "      <td>CONCLUSIONS</td>\n",
              "      <td>Several correlates of DAPT were identified .</td>\n",
              "      <td>12</td>\n",
              "      <td>13</td>\n",
              "      <td>RESULTS</td>\n",
              "    </tr>\n",
              "    <tr>\n",
              "      <th>30186</th>\n",
              "      <td>BACKGROUND</td>\n",
              "      <td>The objective of this study was to assess the ...</td>\n",
              "      <td>0</td>\n",
              "      <td>11</td>\n",
              "      <td>OBJECTIVE</td>\n",
              "    </tr>\n",
              "  </tbody>\n",
              "</table>\n",
              "<p>3629 rows × 5 columns</p>\n",
              "</div>\n",
              "    <div class=\"colab-df-buttons\">\n",
              "\n",
              "  <div class=\"colab-df-container\">\n",
              "    <button class=\"colab-df-convert\" onclick=\"convertToInteractive('df-8398b55e-5cd8-4604-819f-b5f2f6b266a7')\"\n",
              "            title=\"Convert this dataframe to an interactive table.\"\n",
              "            style=\"display:none;\">\n",
              "\n",
              "  <svg xmlns=\"http://www.w3.org/2000/svg\" height=\"24px\" viewBox=\"0 -960 960 960\">\n",
              "    <path d=\"M120-120v-720h720v720H120Zm60-500h600v-160H180v160Zm220 220h160v-160H400v160Zm0 220h160v-160H400v160ZM180-400h160v-160H180v160Zm440 0h160v-160H620v160ZM180-180h160v-160H180v160Zm440 0h160v-160H620v160Z\"/>\n",
              "  </svg>\n",
              "    </button>\n",
              "\n",
              "  <style>\n",
              "    .colab-df-container {\n",
              "      display:flex;\n",
              "      gap: 12px;\n",
              "    }\n",
              "\n",
              "    .colab-df-convert {\n",
              "      background-color: #E8F0FE;\n",
              "      border: none;\n",
              "      border-radius: 50%;\n",
              "      cursor: pointer;\n",
              "      display: none;\n",
              "      fill: #1967D2;\n",
              "      height: 32px;\n",
              "      padding: 0 0 0 0;\n",
              "      width: 32px;\n",
              "    }\n",
              "\n",
              "    .colab-df-convert:hover {\n",
              "      background-color: #E2EBFA;\n",
              "      box-shadow: 0px 1px 2px rgba(60, 64, 67, 0.3), 0px 1px 3px 1px rgba(60, 64, 67, 0.15);\n",
              "      fill: #174EA6;\n",
              "    }\n",
              "\n",
              "    .colab-df-buttons div {\n",
              "      margin-bottom: 4px;\n",
              "    }\n",
              "\n",
              "    [theme=dark] .colab-df-convert {\n",
              "      background-color: #3B4455;\n",
              "      fill: #D2E3FC;\n",
              "    }\n",
              "\n",
              "    [theme=dark] .colab-df-convert:hover {\n",
              "      background-color: #434B5C;\n",
              "      box-shadow: 0px 1px 3px 1px rgba(0, 0, 0, 0.15);\n",
              "      filter: drop-shadow(0px 1px 2px rgba(0, 0, 0, 0.3));\n",
              "      fill: #FFFFFF;\n",
              "    }\n",
              "  </style>\n",
              "\n",
              "    <script>\n",
              "      const buttonEl =\n",
              "        document.querySelector('#df-8398b55e-5cd8-4604-819f-b5f2f6b266a7 button.colab-df-convert');\n",
              "      buttonEl.style.display =\n",
              "        google.colab.kernel.accessAllowed ? 'block' : 'none';\n",
              "\n",
              "      async function convertToInteractive(key) {\n",
              "        const element = document.querySelector('#df-8398b55e-5cd8-4604-819f-b5f2f6b266a7');\n",
              "        const dataTable =\n",
              "          await google.colab.kernel.invokeFunction('convertToInteractive',\n",
              "                                                    [key], {});\n",
              "        if (!dataTable) return;\n",
              "\n",
              "        const docLinkHtml = 'Like what you see? Visit the ' +\n",
              "          '<a target=\"_blank\" href=https://colab.research.google.com/notebooks/data_table.ipynb>data table notebook</a>'\n",
              "          + ' to learn more about interactive tables.';\n",
              "        element.innerHTML = '';\n",
              "        dataTable['output_type'] = 'display_data';\n",
              "        await google.colab.output.renderOutput(dataTable, element);\n",
              "        const docLink = document.createElement('div');\n",
              "        docLink.innerHTML = docLinkHtml;\n",
              "        element.appendChild(docLink);\n",
              "      }\n",
              "    </script>\n",
              "  </div>\n",
              "\n",
              "\n",
              "<div id=\"df-c5b4b3dc-e85c-4f18-9aec-ee1ee2cf2d1e\">\n",
              "  <button class=\"colab-df-quickchart\" onclick=\"quickchart('df-c5b4b3dc-e85c-4f18-9aec-ee1ee2cf2d1e')\"\n",
              "            title=\"Suggest charts\"\n",
              "            style=\"display:none;\">\n",
              "\n",
              "<svg xmlns=\"http://www.w3.org/2000/svg\" height=\"24px\"viewBox=\"0 0 24 24\"\n",
              "     width=\"24px\">\n",
              "    <g>\n",
              "        <path d=\"M19 3H5c-1.1 0-2 .9-2 2v14c0 1.1.9 2 2 2h14c1.1 0 2-.9 2-2V5c0-1.1-.9-2-2-2zM9 17H7v-7h2v7zm4 0h-2V7h2v10zm4 0h-2v-4h2v4z\"/>\n",
              "    </g>\n",
              "</svg>\n",
              "  </button>\n",
              "\n",
              "<style>\n",
              "  .colab-df-quickchart {\n",
              "      --bg-color: #E8F0FE;\n",
              "      --fill-color: #1967D2;\n",
              "      --hover-bg-color: #E2EBFA;\n",
              "      --hover-fill-color: #174EA6;\n",
              "      --disabled-fill-color: #AAA;\n",
              "      --disabled-bg-color: #DDD;\n",
              "  }\n",
              "\n",
              "  [theme=dark] .colab-df-quickchart {\n",
              "      --bg-color: #3B4455;\n",
              "      --fill-color: #D2E3FC;\n",
              "      --hover-bg-color: #434B5C;\n",
              "      --hover-fill-color: #FFFFFF;\n",
              "      --disabled-bg-color: #3B4455;\n",
              "      --disabled-fill-color: #666;\n",
              "  }\n",
              "\n",
              "  .colab-df-quickchart {\n",
              "    background-color: var(--bg-color);\n",
              "    border: none;\n",
              "    border-radius: 50%;\n",
              "    cursor: pointer;\n",
              "    display: none;\n",
              "    fill: var(--fill-color);\n",
              "    height: 32px;\n",
              "    padding: 0;\n",
              "    width: 32px;\n",
              "  }\n",
              "\n",
              "  .colab-df-quickchart:hover {\n",
              "    background-color: var(--hover-bg-color);\n",
              "    box-shadow: 0 1px 2px rgba(60, 64, 67, 0.3), 0 1px 3px 1px rgba(60, 64, 67, 0.15);\n",
              "    fill: var(--button-hover-fill-color);\n",
              "  }\n",
              "\n",
              "  .colab-df-quickchart-complete:disabled,\n",
              "  .colab-df-quickchart-complete:disabled:hover {\n",
              "    background-color: var(--disabled-bg-color);\n",
              "    fill: var(--disabled-fill-color);\n",
              "    box-shadow: none;\n",
              "  }\n",
              "\n",
              "  .colab-df-spinner {\n",
              "    border: 2px solid var(--fill-color);\n",
              "    border-color: transparent;\n",
              "    border-bottom-color: var(--fill-color);\n",
              "    animation:\n",
              "      spin 1s steps(1) infinite;\n",
              "  }\n",
              "\n",
              "  @keyframes spin {\n",
              "    0% {\n",
              "      border-color: transparent;\n",
              "      border-bottom-color: var(--fill-color);\n",
              "      border-left-color: var(--fill-color);\n",
              "    }\n",
              "    20% {\n",
              "      border-color: transparent;\n",
              "      border-left-color: var(--fill-color);\n",
              "      border-top-color: var(--fill-color);\n",
              "    }\n",
              "    30% {\n",
              "      border-color: transparent;\n",
              "      border-left-color: var(--fill-color);\n",
              "      border-top-color: var(--fill-color);\n",
              "      border-right-color: var(--fill-color);\n",
              "    }\n",
              "    40% {\n",
              "      border-color: transparent;\n",
              "      border-right-color: var(--fill-color);\n",
              "      border-top-color: var(--fill-color);\n",
              "    }\n",
              "    60% {\n",
              "      border-color: transparent;\n",
              "      border-right-color: var(--fill-color);\n",
              "    }\n",
              "    80% {\n",
              "      border-color: transparent;\n",
              "      border-right-color: var(--fill-color);\n",
              "      border-bottom-color: var(--fill-color);\n",
              "    }\n",
              "    90% {\n",
              "      border-color: transparent;\n",
              "      border-bottom-color: var(--fill-color);\n",
              "    }\n",
              "  }\n",
              "</style>\n",
              "\n",
              "  <script>\n",
              "    async function quickchart(key) {\n",
              "      const quickchartButtonEl =\n",
              "        document.querySelector('#' + key + ' button');\n",
              "      quickchartButtonEl.disabled = true;  // To prevent multiple clicks.\n",
              "      quickchartButtonEl.classList.add('colab-df-spinner');\n",
              "      try {\n",
              "        const charts = await google.colab.kernel.invokeFunction(\n",
              "            'suggestCharts', [key], {});\n",
              "      } catch (error) {\n",
              "        console.error('Error during call to suggestCharts:', error);\n",
              "      }\n",
              "      quickchartButtonEl.classList.remove('colab-df-spinner');\n",
              "      quickchartButtonEl.classList.add('colab-df-quickchart-complete');\n",
              "    }\n",
              "    (() => {\n",
              "      let quickchartButtonEl =\n",
              "        document.querySelector('#df-c5b4b3dc-e85c-4f18-9aec-ee1ee2cf2d1e button');\n",
              "      quickchartButtonEl.style.display =\n",
              "        google.colab.kernel.accessAllowed ? 'block' : 'none';\n",
              "    })();\n",
              "  </script>\n",
              "</div>\n",
              "\n",
              "  <div id=\"id_4cb69763-fd26-407b-9070-7edd3f3438a8\">\n",
              "    <style>\n",
              "      .colab-df-generate {\n",
              "        background-color: #E8F0FE;\n",
              "        border: none;\n",
              "        border-radius: 50%;\n",
              "        cursor: pointer;\n",
              "        display: none;\n",
              "        fill: #1967D2;\n",
              "        height: 32px;\n",
              "        padding: 0 0 0 0;\n",
              "        width: 32px;\n",
              "      }\n",
              "\n",
              "      .colab-df-generate:hover {\n",
              "        background-color: #E2EBFA;\n",
              "        box-shadow: 0px 1px 2px rgba(60, 64, 67, 0.3), 0px 1px 3px 1px rgba(60, 64, 67, 0.15);\n",
              "        fill: #174EA6;\n",
              "      }\n",
              "\n",
              "      [theme=dark] .colab-df-generate {\n",
              "        background-color: #3B4455;\n",
              "        fill: #D2E3FC;\n",
              "      }\n",
              "\n",
              "      [theme=dark] .colab-df-generate:hover {\n",
              "        background-color: #434B5C;\n",
              "        box-shadow: 0px 1px 3px 1px rgba(0, 0, 0, 0.15);\n",
              "        filter: drop-shadow(0px 1px 2px rgba(0, 0, 0, 0.3));\n",
              "        fill: #FFFFFF;\n",
              "      }\n",
              "    </style>\n",
              "    <button class=\"colab-df-generate\" onclick=\"generateWithVariable('wrong_predictions')\"\n",
              "            title=\"Generate code using this dataframe.\"\n",
              "            style=\"display:none;\">\n",
              "\n",
              "  <svg xmlns=\"http://www.w3.org/2000/svg\" height=\"24px\"viewBox=\"0 0 24 24\"\n",
              "       width=\"24px\">\n",
              "    <path d=\"M7,19H8.4L18.45,9,17,7.55,7,17.6ZM5,21V16.75L18.45,3.32a2,2,0,0,1,2.83,0l1.4,1.43a1.91,1.91,0,0,1,.58,1.4,1.91,1.91,0,0,1-.58,1.4L9.25,21ZM18.45,9,17,7.55Zm-12,3A5.31,5.31,0,0,0,4.9,8.1,5.31,5.31,0,0,0,1,6.5,5.31,5.31,0,0,0,4.9,4.9,5.31,5.31,0,0,0,6.5,1,5.31,5.31,0,0,0,8.1,4.9,5.31,5.31,0,0,0,12,6.5,5.46,5.46,0,0,0,6.5,12Z\"/>\n",
              "  </svg>\n",
              "    </button>\n",
              "    <script>\n",
              "      (() => {\n",
              "      const buttonEl =\n",
              "        document.querySelector('#id_4cb69763-fd26-407b-9070-7edd3f3438a8 button.colab-df-generate');\n",
              "      buttonEl.style.display =\n",
              "        google.colab.kernel.accessAllowed ? 'block' : 'none';\n",
              "\n",
              "      buttonEl.onclick = () => {\n",
              "        google.colab.notebook.generateWithVariable('wrong_predictions');\n",
              "      }\n",
              "      })();\n",
              "    </script>\n",
              "  </div>\n",
              "\n",
              "    </div>\n",
              "  </div>\n"
            ],
            "application/vnd.google.colaboratory.intrinsic+json": {
              "type": "dataframe",
              "variable_name": "wrong_predictions",
              "summary": "{\n  \"name\": \"wrong_predictions\",\n  \"rows\": 3629,\n  \"fields\": [\n    {\n      \"column\": \"target\",\n      \"properties\": {\n        \"dtype\": \"category\",\n        \"num_unique_values\": 5,\n        \"samples\": [\n          \"RESULTS\",\n          \"CONCLUSIONS\",\n          \"METHODS\"\n        ],\n        \"semantic_type\": \"\",\n        \"description\": \"\"\n      }\n    },\n    {\n      \"column\": \"text\",\n      \"properties\": {\n        \"dtype\": \"string\",\n        \"num_unique_values\": 3626,\n        \"samples\": [\n          \"A post-hoc analysis was performed on the data from a @weeks phase III study ( ClinicalTrials.gov identifier : NCT@ ) to measure changes in the health-related quality of life ( HRQoL ) of @,@ patients aged @ with moderate-to-severe hypertension who received one of six doses of olmesartan/amlodipine/hydrochlorothiazide ( OLM/AML/HCTZ ) , using the MINICHAL and EQ-@D instruments .\",\n          \"Differences were detected between pressures measured at the @ arterial sites in both groups .\",\n          \"When entry of patients ended , the RCT was expanded to compare emergency TIPS with EPCS ( n = @ ) .\"\n        ],\n        \"semantic_type\": \"\",\n        \"description\": \"\"\n      }\n    },\n    {\n      \"column\": \"line_number\",\n      \"properties\": {\n        \"dtype\": \"number\",\n        \"std\": 4,\n        \"min\": 0,\n        \"max\": 23,\n        \"num_unique_values\": 23,\n        \"samples\": [\n          10,\n          14,\n          3\n        ],\n        \"semantic_type\": \"\",\n        \"description\": \"\"\n      }\n    },\n    {\n      \"column\": \"total_lines\",\n      \"properties\": {\n        \"dtype\": \"number\",\n        \"std\": 3,\n        \"min\": 3,\n        \"max\": 26,\n        \"num_unique_values\": 23,\n        \"samples\": [\n          17,\n          12,\n          10\n        ],\n        \"semantic_type\": \"\",\n        \"description\": \"\"\n      }\n    },\n    {\n      \"column\": \"model_predictions\",\n      \"properties\": {\n        \"dtype\": \"category\",\n        \"num_unique_values\": 5,\n        \"samples\": [\n          \"CONCLUSIONS\",\n          \"OBJECTIVE\",\n          \"RESULTS\"\n        ],\n        \"semantic_type\": \"\",\n        \"description\": \"\"\n      }\n    }\n  ]\n}"
            }
          },
          "metadata": {},
          "execution_count": 79
        }
      ]
    },
    {
      "cell_type": "code",
      "source": [
        "test_sample_df.shape"
      ],
      "metadata": {
        "colab": {
          "base_uri": "https://localhost:8080/"
        },
        "id": "8M31Ss0IiPCc",
        "outputId": "cbc8f0b6-c6db-400f-ced8-43994e4c90cf"
      },
      "execution_count": 80,
      "outputs": [
        {
          "output_type": "execute_result",
          "data": {
            "text/plain": [
              "(30212, 5)"
            ]
          },
          "metadata": {},
          "execution_count": 80
        }
      ]
    },
    {
      "cell_type": "code",
      "source": [
        "# Make predictions on the custom abstract:\n",
        "samples_abstract = [{\"abstract\": \"This RCT examined the efficacy of a manualized social intervention for children with HFASDs. Participants were randomly assigned to treatment or wait-list conditions. Treatment included instruction and therapeutic activities targeting social skills, face-emotion recognition, interest expansion, and interpretation of non-literal language. A response-cost program was applied to reduce problem behaviors and foster skills acquisition. Significant treatment effects were found for five of seven primary outcome measures (parent ratings and direct child measures). Secondary measures based on staff ratings (treatment group only) corroborated gains reported by parents. High levels of parent, child and staff satisfaction were reported, along with high levels of treatment fidelity. Standardized effect size estimates were primarily in the medium and large ranges and favored the treatment group.\", \"source\": \"https://pubmed.ncbi.nlm.nih.gov/20232240/\", \"details\": \"RCT of a manualized social treatment for high-functioning autism spectrum disorders\"}, {\"abstract\": \"Postpartum depression (PPD) is the most prevalent mood disorder associated with childbirth. No single cause of PPD has been identified, however the increased risk of nutritional deficiencies incurred through the high nutritional requirements of pregnancy may play a role in the pathology of depressive symptoms. Three nutritional interventions have drawn particular interest as possible non-invasive and cost-effective prevention and/or treatment strategies for PPD; omega-3 (n-3) long chain polyunsaturated fatty acids (LCPUFA), vitamin D and overall diet. We searched for meta-analyses of randomised controlled trials (RCT's) of nutritional interventions during the perinatal period with PPD as an outcome, and checked for any trials published subsequently to the meta-analyses. Fish oil: Eleven RCT's of prenatal fish oil supplementation RCT's show null and positive effects on PPD symptoms. Vitamin D: no relevant RCT's were identified, however seven observational studies of maternal vitamin D levels with PPD outcomes showed inconsistent associations. Diet: Two Australian RCT's with dietary advice interventions in pregnancy had a positive and null result on PPD. With the exception of fish oil, few RCT's with nutritional interventions during pregnancy assess PPD. Further research is needed to determine whether nutritional intervention strategies during pregnancy can protect against symptoms of PPD. Given the prevalence of PPD and ease of administering PPD measures, we recommend future prenatal nutritional RCT's include PPD as an outcome.\", \"source\": \"https://pubmed.ncbi.nlm.nih.gov/28012571/\", \"details\": \"Formatting removed (can be used to compare model to actual example)\"}, {\"abstract\": \"Mental illness, including depression, anxiety and bipolar disorder, accounts for a significant proportion of global disability and poses a substantial social, economic and heath burden. Treatment is presently dominated by pharmacotherapy, such as antidepressants, and psychotherapy, such as cognitive behavioural therapy; however, such treatments avert less than half of the disease burden, suggesting that additional strategies are needed to prevent and treat mental disorders. There are now consistent mechanistic, observational and interventional data to suggest diet quality may be a modifiable risk factor for mental illness. This review provides an overview of the nutritional psychiatry field. It includes a discussion of the neurobiological mechanisms likely modulated by diet, the use of dietary and nutraceutical interventions in mental disorders, and recommendations for further research. Potential biological pathways related to mental disorders include inflammation, oxidative stress, the gut microbiome, epigenetic modifications and neuroplasticity. Consistent epidemiological evidence, particularly for depression, suggests an association between measures of diet quality and mental health, across multiple populations and age groups; these do not appear to be explained by other demographic, lifestyle factors or reverse causality. Our recently published intervention trial provides preliminary clinical evidence that dietary interventions in clinically diagnosed populations are feasible and can provide significant clinical benefit. Furthermore, nutraceuticals including n-3 fatty acids, folate, S-adenosylmethionine, N-acetyl cysteine and probiotics, among others, are promising avenues for future research. Continued research is now required to investigate the efficacy of intervention studies in large cohorts and within clinically relevant populations, particularly in patients with schizophrenia, bipolar and anxiety disorders.\", \"source\": \"https://pubmed.ncbi.nlm.nih.gov/28942748/\", \"details\": \"Effect of nutrition on mental health\"}, {\"abstract\": \"Hepatitis C virus (HCV) and alcoholic liver disease (ALD), either alone or in combination, count for more than two thirds of all liver diseases in the Western world. There is no safe level of drinking in HCV-infected patients and the most effective goal for these patients is total abstinence. Baclofen, a GABA(B) receptor agonist, represents a promising pharmacotherapy for alcohol dependence (AD). Previously, we performed a randomized clinical trial (RCT), which demonstrated the safety and efficacy of baclofen in patients affected by AD and cirrhosis. The goal of this post-hoc analysis was to explore baclofen's effect in a subgroup of alcohol-dependent HCV-infected cirrhotic patients. Any patient with HCV infection was selected for this analysis. Among the 84 subjects randomized in the main trial, 24 alcohol-dependent cirrhotic patients had a HCV infection; 12 received baclofen 10mg t.i.d. and 12 received placebo for 12-weeks. With respect to the placebo group (3/12, 25.0%), a significantly higher number of patients who achieved and maintained total alcohol abstinence was found in the baclofen group (10/12, 83.3%; p=0.0123). Furthermore, in the baclofen group, compared to placebo, there was a significantly higher increase in albumin values from baseline (p=0.0132) and a trend toward a significant reduction in INR levels from baseline (p=0.0716). In conclusion, baclofen was safe and significantly more effective than placebo in promoting alcohol abstinence, and improving some Liver Function Tests (LFTs) (i.e. albumin, INR) in alcohol-dependent HCV-infected cirrhotic patients. Baclofen may represent a clinically relevant alcohol pharmacotherapy for these patients.\", \"source\": \"https://pubmed.ncbi.nlm.nih.gov/22244707/\", \"details\": \"Baclofen promotes alcohol abstinence in alcohol dependent cirrhotic patients with hepatitis C virus (HCV) infection\"}]\n"
      ],
      "metadata": {
        "id": "q3_dzYvFiZhm"
      },
      "execution_count": 81,
      "outputs": []
    },
    {
      "cell_type": "code",
      "source": [
        "samples_abstract"
      ],
      "metadata": {
        "colab": {
          "base_uri": "https://localhost:8080/"
        },
        "id": "TLtsp3tQj1Yg",
        "outputId": "05e14ae6-a1c2-4960-fde0-f33dc008ffdc"
      },
      "execution_count": 82,
      "outputs": [
        {
          "output_type": "execute_result",
          "data": {
            "text/plain": [
              "[{'abstract': 'This RCT examined the efficacy of a manualized social intervention for children with HFASDs. Participants were randomly assigned to treatment or wait-list conditions. Treatment included instruction and therapeutic activities targeting social skills, face-emotion recognition, interest expansion, and interpretation of non-literal language. A response-cost program was applied to reduce problem behaviors and foster skills acquisition. Significant treatment effects were found for five of seven primary outcome measures (parent ratings and direct child measures). Secondary measures based on staff ratings (treatment group only) corroborated gains reported by parents. High levels of parent, child and staff satisfaction were reported, along with high levels of treatment fidelity. Standardized effect size estimates were primarily in the medium and large ranges and favored the treatment group.',\n",
              "  'source': 'https://pubmed.ncbi.nlm.nih.gov/20232240/',\n",
              "  'details': 'RCT of a manualized social treatment for high-functioning autism spectrum disorders'},\n",
              " {'abstract': \"Postpartum depression (PPD) is the most prevalent mood disorder associated with childbirth. No single cause of PPD has been identified, however the increased risk of nutritional deficiencies incurred through the high nutritional requirements of pregnancy may play a role in the pathology of depressive symptoms. Three nutritional interventions have drawn particular interest as possible non-invasive and cost-effective prevention and/or treatment strategies for PPD; omega-3 (n-3) long chain polyunsaturated fatty acids (LCPUFA), vitamin D and overall diet. We searched for meta-analyses of randomised controlled trials (RCT's) of nutritional interventions during the perinatal period with PPD as an outcome, and checked for any trials published subsequently to the meta-analyses. Fish oil: Eleven RCT's of prenatal fish oil supplementation RCT's show null and positive effects on PPD symptoms. Vitamin D: no relevant RCT's were identified, however seven observational studies of maternal vitamin D levels with PPD outcomes showed inconsistent associations. Diet: Two Australian RCT's with dietary advice interventions in pregnancy had a positive and null result on PPD. With the exception of fish oil, few RCT's with nutritional interventions during pregnancy assess PPD. Further research is needed to determine whether nutritional intervention strategies during pregnancy can protect against symptoms of PPD. Given the prevalence of PPD and ease of administering PPD measures, we recommend future prenatal nutritional RCT's include PPD as an outcome.\",\n",
              "  'source': 'https://pubmed.ncbi.nlm.nih.gov/28012571/',\n",
              "  'details': 'Formatting removed (can be used to compare model to actual example)'},\n",
              " {'abstract': 'Mental illness, including depression, anxiety and bipolar disorder, accounts for a significant proportion of global disability and poses a substantial social, economic and heath burden. Treatment is presently dominated by pharmacotherapy, such as antidepressants, and psychotherapy, such as cognitive behavioural therapy; however, such treatments avert less than half of the disease burden, suggesting that additional strategies are needed to prevent and treat mental disorders. There are now consistent mechanistic, observational and interventional data to suggest diet quality may be a modifiable risk factor for mental illness. This review provides an overview of the nutritional psychiatry field. It includes a discussion of the neurobiological mechanisms likely modulated by diet, the use of dietary and nutraceutical interventions in mental disorders, and recommendations for further research. Potential biological pathways related to mental disorders include inflammation, oxidative stress, the gut microbiome, epigenetic modifications and neuroplasticity. Consistent epidemiological evidence, particularly for depression, suggests an association between measures of diet quality and mental health, across multiple populations and age groups; these do not appear to be explained by other demographic, lifestyle factors or reverse causality. Our recently published intervention trial provides preliminary clinical evidence that dietary interventions in clinically diagnosed populations are feasible and can provide significant clinical benefit. Furthermore, nutraceuticals including n-3 fatty acids, folate, S-adenosylmethionine, N-acetyl cysteine and probiotics, among others, are promising avenues for future research. Continued research is now required to investigate the efficacy of intervention studies in large cohorts and within clinically relevant populations, particularly in patients with schizophrenia, bipolar and anxiety disorders.',\n",
              "  'source': 'https://pubmed.ncbi.nlm.nih.gov/28942748/',\n",
              "  'details': 'Effect of nutrition on mental health'},\n",
              " {'abstract': \"Hepatitis C virus (HCV) and alcoholic liver disease (ALD), either alone or in combination, count for more than two thirds of all liver diseases in the Western world. There is no safe level of drinking in HCV-infected patients and the most effective goal for these patients is total abstinence. Baclofen, a GABA(B) receptor agonist, represents a promising pharmacotherapy for alcohol dependence (AD). Previously, we performed a randomized clinical trial (RCT), which demonstrated the safety and efficacy of baclofen in patients affected by AD and cirrhosis. The goal of this post-hoc analysis was to explore baclofen's effect in a subgroup of alcohol-dependent HCV-infected cirrhotic patients. Any patient with HCV infection was selected for this analysis. Among the 84 subjects randomized in the main trial, 24 alcohol-dependent cirrhotic patients had a HCV infection; 12 received baclofen 10mg t.i.d. and 12 received placebo for 12-weeks. With respect to the placebo group (3/12, 25.0%), a significantly higher number of patients who achieved and maintained total alcohol abstinence was found in the baclofen group (10/12, 83.3%; p=0.0123). Furthermore, in the baclofen group, compared to placebo, there was a significantly higher increase in albumin values from baseline (p=0.0132) and a trend toward a significant reduction in INR levels from baseline (p=0.0716). In conclusion, baclofen was safe and significantly more effective than placebo in promoting alcohol abstinence, and improving some Liver Function Tests (LFTs) (i.e. albumin, INR) in alcohol-dependent HCV-infected cirrhotic patients. Baclofen may represent a clinically relevant alcohol pharmacotherapy for these patients.\",\n",
              "  'source': 'https://pubmed.ncbi.nlm.nih.gov/22244707/',\n",
              "  'details': 'Baclofen promotes alcohol abstinence in alcohol dependent cirrhotic patients with hepatitis C virus (HCV) infection'}]"
            ]
          },
          "metadata": {},
          "execution_count": 82
        }
      ]
    },
    {
      "cell_type": "code",
      "source": [
        "samples_abstract[0]"
      ],
      "metadata": {
        "colab": {
          "base_uri": "https://localhost:8080/"
        },
        "id": "a2gdFNxyj4lj",
        "outputId": "30622ab1-56ba-48f2-841e-361983c38054"
      },
      "execution_count": 83,
      "outputs": [
        {
          "output_type": "execute_result",
          "data": {
            "text/plain": [
              "{'abstract': 'This RCT examined the efficacy of a manualized social intervention for children with HFASDs. Participants were randomly assigned to treatment or wait-list conditions. Treatment included instruction and therapeutic activities targeting social skills, face-emotion recognition, interest expansion, and interpretation of non-literal language. A response-cost program was applied to reduce problem behaviors and foster skills acquisition. Significant treatment effects were found for five of seven primary outcome measures (parent ratings and direct child measures). Secondary measures based on staff ratings (treatment group only) corroborated gains reported by parents. High levels of parent, child and staff satisfaction were reported, along with high levels of treatment fidelity. Standardized effect size estimates were primarily in the medium and large ranges and favored the treatment group.',\n",
              " 'source': 'https://pubmed.ncbi.nlm.nih.gov/20232240/',\n",
              " 'details': 'RCT of a manualized social treatment for high-functioning autism spectrum disorders'}"
            ]
          },
          "metadata": {},
          "execution_count": 83
        }
      ]
    },
    {
      "cell_type": "code",
      "source": [
        "# Create a function to pre-process the text data:\n",
        "def preprocess_test(example_dict):\n",
        "  # Split the line by the \".\":\n",
        "  sentence_list = example_dict['abstract'].split(\".\")[:-1]\n",
        "\n",
        "  # Get the char level sentences:\n",
        "  char_level = list(map(lambda z: \" \".join(list(z)),sentence_list))\n",
        "\n",
        "  # Generate the line no:\n",
        "  line_number = range(len(sentence_list))\n",
        "\n",
        "  # Line no starts from zero , so we have to subtract it by 1\n",
        "  total_length =  len(sentence_list) -1\n",
        "\n",
        "  # Generate the list of total lines:\n",
        "  total_lines = [total_length ] * (total_length + 1)\n",
        "\n",
        "  # Create the Data Frame:\n",
        "  dataframe = pd.DataFrame({\"sentence\":sentence_list,\"character\":char_level,'line_number':line_number,'total_lines':total_lines})\n",
        "\n",
        "  # Generate the one hot encode for line number and total lines:\n",
        "  line_number_one_hot = tf.one_hot(dataframe.line_number, depth=15)\n",
        "  total_line_one_hot = tf.one_hot(dataframe.total_lines, depth=20)\n",
        "\n",
        "  return dataframe,line_number_one_hot,total_line_one_hot"
      ],
      "metadata": {
        "id": "97OUZr4FkCP7"
      },
      "execution_count": 84,
      "outputs": []
    },
    {
      "cell_type": "code",
      "source": [
        "# Create a function to plot results:\n",
        "def plot_predictions(abstract,model):\n",
        "  for count,sub_abstract in enumerate(abstract):\n",
        "    dataframe,line_number_one_hot,total_line_one_hot  =  preprocess_test(sub_abstract)\n",
        "\n",
        "    trial_data = tf.data.Dataset.from_tensor_slices((dataframe.sentence.to_list(), dataframe.character.to_list(), line_number_one_hot, total_line_one_hot))\n",
        "    custom_dataset_blank = tf.data.Dataset.from_tensor_slices(np.zeros(shape=(dataframe.shape[0],5)))\n",
        "    custom_dataset = tf.data.Dataset.zip((trial_data, custom_dataset_blank)).batch(1)\n",
        "    predictions = model.predict(custom_dataset).argmax(axis=-1)\n",
        "    actual_labels = [label_encoder_classes[i] for i in predictions]\n",
        "\n",
        "    # Now print the Results:\n",
        "\n",
        "    print(f\"\\nModel prediction: {count} ______________\\n\")\n",
        "    for z in range(dataframe.shape[0]):\n",
        "      print(f\"{actual_labels[z]}: {dataframe.sentence.to_list()[z]}\" )"
      ],
      "metadata": {
        "id": "9fDyi3Na7Qx0"
      },
      "execution_count": 85,
      "outputs": []
    },
    {
      "cell_type": "code",
      "source": [
        "plot_predictions(samples_abstract,model_2)"
      ],
      "metadata": {
        "colab": {
          "base_uri": "https://localhost:8080/"
        },
        "id": "SdANL1g894-s",
        "outputId": "ad5b6bac-8c62-42f7-a6ad-11d5c812251e"
      },
      "execution_count": 86,
      "outputs": [
        {
          "output_type": "stream",
          "name": "stdout",
          "text": [
            "8/8 [==============================] - 0s 14ms/step\n",
            "\n",
            "Model prediction: 0 ______________\n",
            "\n",
            "OBJECTIVE: This RCT examined the efficacy of a manualized social intervention for children with HFASDs\n",
            "METHODS:  Participants were randomly assigned to treatment or wait-list conditions\n",
            "METHODS:  Treatment included instruction and therapeutic activities targeting social skills, face-emotion recognition, interest expansion, and interpretation of non-literal language\n",
            "METHODS:  A response-cost program was applied to reduce problem behaviors and foster skills acquisition\n",
            "RESULTS:  Significant treatment effects were found for five of seven primary outcome measures (parent ratings and direct child measures)\n",
            "METHODS:  Secondary measures based on staff ratings (treatment group only) corroborated gains reported by parents\n",
            "RESULTS:  High levels of parent, child and staff satisfaction were reported, along with high levels of treatment fidelity\n",
            "RESULTS:  Standardized effect size estimates were primarily in the medium and large ranges and favored the treatment group\n",
            "10/10 [==============================] - 0s 15ms/step\n",
            "\n",
            "Model prediction: 1 ______________\n",
            "\n",
            "BACKGROUND: Postpartum depression (PPD) is the most prevalent mood disorder associated with childbirth\n",
            "BACKGROUND:  No single cause of PPD has been identified, however the increased risk of nutritional deficiencies incurred through the high nutritional requirements of pregnancy may play a role in the pathology of depressive symptoms\n",
            "METHODS:  Three nutritional interventions have drawn particular interest as possible non-invasive and cost-effective prevention and/or treatment strategies for PPD; omega-3 (n-3) long chain polyunsaturated fatty acids (LCPUFA), vitamin D and overall diet\n",
            "METHODS:  We searched for meta-analyses of randomised controlled trials (RCT's) of nutritional interventions during the perinatal period with PPD as an outcome, and checked for any trials published subsequently to the meta-analyses\n",
            "RESULTS:  Fish oil: Eleven RCT's of prenatal fish oil supplementation RCT's show null and positive effects on PPD symptoms\n",
            "RESULTS:  Vitamin D: no relevant RCT's were identified, however seven observational studies of maternal vitamin D levels with PPD outcomes showed inconsistent associations\n",
            "METHODS:  Diet: Two Australian RCT's with dietary advice interventions in pregnancy had a positive and null result on PPD\n",
            "RESULTS:  With the exception of fish oil, few RCT's with nutritional interventions during pregnancy assess PPD\n",
            "CONCLUSIONS:  Further research is needed to determine whether nutritional intervention strategies during pregnancy can protect against symptoms of PPD\n",
            "CONCLUSIONS:  Given the prevalence of PPD and ease of administering PPD measures, we recommend future prenatal nutritional RCT's include PPD as an outcome\n",
            "10/10 [==============================] - 0s 15ms/step\n",
            "\n",
            "Model prediction: 2 ______________\n",
            "\n",
            "BACKGROUND: Mental illness, including depression, anxiety and bipolar disorder, accounts for a significant proportion of global disability and poses a substantial social, economic and heath burden\n",
            "BACKGROUND:  Treatment is presently dominated by pharmacotherapy, such as antidepressants, and psychotherapy, such as cognitive behavioural therapy; however, such treatments avert less than half of the disease burden, suggesting that additional strategies are needed to prevent and treat mental disorders\n",
            "BACKGROUND:  There are now consistent mechanistic, observational and interventional data to suggest diet quality may be a modifiable risk factor for mental illness\n",
            "BACKGROUND:  This review provides an overview of the nutritional psychiatry field\n",
            "BACKGROUND:  It includes a discussion of the neurobiological mechanisms likely modulated by diet, the use of dietary and nutraceutical interventions in mental disorders, and recommendations for further research\n",
            "RESULTS:  Potential biological pathways related to mental disorders include inflammation, oxidative stress, the gut microbiome, epigenetic modifications and neuroplasticity\n",
            "RESULTS:  Consistent epidemiological evidence, particularly for depression, suggests an association between measures of diet quality and mental health, across multiple populations and age groups; these do not appear to be explained by other demographic, lifestyle factors or reverse causality\n",
            "CONCLUSIONS:  Our recently published intervention trial provides preliminary clinical evidence that dietary interventions in clinically diagnosed populations are feasible and can provide significant clinical benefit\n",
            "CONCLUSIONS:  Furthermore, nutraceuticals including n-3 fatty acids, folate, S-adenosylmethionine, N-acetyl cysteine and probiotics, among others, are promising avenues for future research\n",
            "CONCLUSIONS:  Continued research is now required to investigate the efficacy of intervention studies in large cohorts and within clinically relevant populations, particularly in patients with schizophrenia, bipolar and anxiety disorders\n",
            "21/21 [==============================] - 0s 12ms/step\n",
            "\n",
            "Model prediction: 3 ______________\n",
            "\n",
            "BACKGROUND: Hepatitis C virus (HCV) and alcoholic liver disease (ALD), either alone or in combination, count for more than two thirds of all liver diseases in the Western world\n",
            "BACKGROUND:  There is no safe level of drinking in HCV-infected patients and the most effective goal for these patients is total abstinence\n",
            "BACKGROUND:  Baclofen, a GABA(B) receptor agonist, represents a promising pharmacotherapy for alcohol dependence (AD)\n",
            "METHODS:  Previously, we performed a randomized clinical trial (RCT), which demonstrated the safety and efficacy of baclofen in patients affected by AD and cirrhosis\n",
            "BACKGROUND:  The goal of this post-hoc analysis was to explore baclofen's effect in a subgroup of alcohol-dependent HCV-infected cirrhotic patients\n",
            "METHODS:  Any patient with HCV infection was selected for this analysis\n",
            "RESULTS:  Among the 84 subjects randomized in the main trial, 24 alcohol-dependent cirrhotic patients had a HCV infection; 12 received baclofen 10mg t\n",
            "METHODS: i\n",
            "METHODS: d\n",
            "METHODS:  and 12 received placebo for 12-weeks\n",
            "RESULTS:  With respect to the placebo group (3/12, 25\n",
            "RESULTS: 0%), a significantly higher number of patients who achieved and maintained total alcohol abstinence was found in the baclofen group (10/12, 83\n",
            "RESULTS: 3%; p=0\n",
            "METHODS: 0123)\n",
            "RESULTS:  Furthermore, in the baclofen group, compared to placebo, there was a significantly higher increase in albumin values from baseline (p=0\n",
            "RESULTS: 0132) and a trend toward a significant reduction in INR levels from baseline (p=0\n",
            "BACKGROUND: 0716)\n",
            "RESULTS:  In conclusion, baclofen was safe and significantly more effective than placebo in promoting alcohol abstinence, and improving some Liver Function Tests (LFTs) (i\n",
            "METHODS: e\n",
            "CONCLUSIONS:  albumin, INR) in alcohol-dependent HCV-infected cirrhotic patients\n",
            "CONCLUSIONS:  Baclofen may represent a clinically relevant alcohol pharmacotherapy for these patients\n"
          ]
        }
      ]
    }
  ],
  "metadata": {
    "colab": {
      "provenance": [],
      "gpuType": "T4"
    },
    "kernelspec": {
      "display_name": "Python 3",
      "name": "python3"
    },
    "language_info": {
      "name": "python"
    },
    "accelerator": "GPU"
  },
  "nbformat": 4,
  "nbformat_minor": 0
}